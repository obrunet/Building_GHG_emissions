{
 "cells": [
  {
   "cell_type": "markdown",
   "id": "e9c3acb0",
   "metadata": {},
   "source": [
    "# Problem Statement"
   ]
  },
  {
   "cell_type": "markdown",
   "id": "01328b15",
   "metadata": {},
   "source": [
    "here"
   ]
  },
  {
   "cell_type": "code",
   "execution_count": 33,
   "id": "9b927020",
   "metadata": {},
   "outputs": [
    {
     "data": {
      "text/html": [
       "<div>\n",
       "<style scoped>\n",
       "    .dataframe tbody tr th:only-of-type {\n",
       "        vertical-align: middle;\n",
       "    }\n",
       "\n",
       "    .dataframe tbody tr th {\n",
       "        vertical-align: top;\n",
       "    }\n",
       "\n",
       "    .dataframe thead th {\n",
       "        text-align: right;\n",
       "    }\n",
       "</style>\n",
       "<table border=\"1\" class=\"dataframe\">\n",
       "  <thead>\n",
       "    <tr style=\"text-align: right;\">\n",
       "      <th></th>\n",
       "      <th>OSEBuildingID</th>\n",
       "      <th>BuildingType</th>\n",
       "      <th>PrimaryPropertyType</th>\n",
       "      <th>CouncilDistrictCode</th>\n",
       "      <th>Neighborhood</th>\n",
       "      <th>NumberofBuildings</th>\n",
       "      <th>NumberofFloors</th>\n",
       "      <th>PropertyGFATotal</th>\n",
       "      <th>PropertyGFAParking</th>\n",
       "      <th>PropertyGFABuilding(s)</th>\n",
       "      <th>ListOfAllPropertyUseTypes</th>\n",
       "      <th>LargestPropertyUseType</th>\n",
       "      <th>LargestPropertyUseTypeGFA</th>\n",
       "      <th>SecondLargestPropertyUseType</th>\n",
       "      <th>SecondLargestPropertyUseTypeGFA</th>\n",
       "      <th>ThirdLargestPropertyUseType</th>\n",
       "      <th>ThirdLargestPropertyUseTypeGFA</th>\n",
       "      <th>ENERGYSTARScore</th>\n",
       "      <th>SiteEUI(kBtu/sf)</th>\n",
       "      <th>SiteEUIWN(kBtu/sf)</th>\n",
       "      <th>SourceEUI(kBtu/sf)</th>\n",
       "      <th>SourceEUIWN(kBtu/sf)</th>\n",
       "      <th>SiteEnergyUse(kBtu)</th>\n",
       "      <th>SiteEnergyUseWN(kBtu)</th>\n",
       "      <th>SteamUse(kBtu)</th>\n",
       "      <th>Electricity(kWh)</th>\n",
       "      <th>Electricity(kBtu)</th>\n",
       "      <th>NaturalGas(therms)</th>\n",
       "      <th>NaturalGas(kBtu)</th>\n",
       "      <th>TotalGHGEmissions</th>\n",
       "      <th>GHGEmissionsIntensity</th>\n",
       "      <th>ComplianceStatus</th>\n",
       "      <th>Outlier</th>\n",
       "      <th>ZipCode</th>\n",
       "      <th>Latitude</th>\n",
       "      <th>Longitude</th>\n",
       "      <th>NbProperty</th>\n",
       "      <th>BuildingAge</th>\n",
       "    </tr>\n",
       "  </thead>\n",
       "  <tbody>\n",
       "    <tr>\n",
       "      <th>0</th>\n",
       "      <td>1</td>\n",
       "      <td>NonResidential</td>\n",
       "      <td>hotel_catering -</td>\n",
       "      <td>7</td>\n",
       "      <td>downtown</td>\n",
       "      <td>1</td>\n",
       "      <td>12</td>\n",
       "      <td>88434</td>\n",
       "      <td>0.0</td>\n",
       "      <td>88434.0</td>\n",
       "      <td>hotel_catering -</td>\n",
       "      <td>hotel_catering -</td>\n",
       "      <td>88434.0</td>\n",
       "      <td>none</td>\n",
       "      <td>0.0</td>\n",
       "      <td>none</td>\n",
       "      <td>0.0</td>\n",
       "      <td>60.0</td>\n",
       "      <td>81.699997</td>\n",
       "      <td>84.300003</td>\n",
       "      <td>182.500000</td>\n",
       "      <td>189.000000</td>\n",
       "      <td>7226362.5</td>\n",
       "      <td>7456910.0</td>\n",
       "      <td>2003882.00</td>\n",
       "      <td>1.156514e+06</td>\n",
       "      <td>3946027.0</td>\n",
       "      <td>12764.52930</td>\n",
       "      <td>1276453.0</td>\n",
       "      <td>249.98</td>\n",
       "      <td>2.83</td>\n",
       "      <td>Compliant</td>\n",
       "      <td>NaN</td>\n",
       "      <td>98101</td>\n",
       "      <td>47.61220</td>\n",
       "      <td>-122.33799</td>\n",
       "      <td>1</td>\n",
       "      <td>89</td>\n",
       "    </tr>\n",
       "    <tr>\n",
       "      <th>1</th>\n",
       "      <td>2</td>\n",
       "      <td>NonResidential</td>\n",
       "      <td>hotel_catering -</td>\n",
       "      <td>7</td>\n",
       "      <td>downtown</td>\n",
       "      <td>1</td>\n",
       "      <td>11</td>\n",
       "      <td>103566</td>\n",
       "      <td>15064.0</td>\n",
       "      <td>88502.0</td>\n",
       "      <td>hotel_catering -</td>\n",
       "      <td>hotel_catering -</td>\n",
       "      <td>83880.0</td>\n",
       "      <td>none</td>\n",
       "      <td>15064.0</td>\n",
       "      <td>hotel_catering -</td>\n",
       "      <td>4622.0</td>\n",
       "      <td>61.0</td>\n",
       "      <td>94.800003</td>\n",
       "      <td>97.900002</td>\n",
       "      <td>176.100006</td>\n",
       "      <td>179.399994</td>\n",
       "      <td>8387933.0</td>\n",
       "      <td>8664479.0</td>\n",
       "      <td>0.00</td>\n",
       "      <td>9.504252e+05</td>\n",
       "      <td>3242851.0</td>\n",
       "      <td>51450.81641</td>\n",
       "      <td>5145082.0</td>\n",
       "      <td>295.86</td>\n",
       "      <td>2.86</td>\n",
       "      <td>Compliant</td>\n",
       "      <td>NaN</td>\n",
       "      <td>98101</td>\n",
       "      <td>47.61317</td>\n",
       "      <td>-122.33393</td>\n",
       "      <td>3</td>\n",
       "      <td>20</td>\n",
       "    </tr>\n",
       "    <tr>\n",
       "      <th>2</th>\n",
       "      <td>3</td>\n",
       "      <td>NonResidential</td>\n",
       "      <td>hotel_catering -</td>\n",
       "      <td>7</td>\n",
       "      <td>downtown</td>\n",
       "      <td>1</td>\n",
       "      <td>41</td>\n",
       "      <td>956110</td>\n",
       "      <td>196718.0</td>\n",
       "      <td>759392.0</td>\n",
       "      <td>hotel_catering -</td>\n",
       "      <td>hotel_catering -</td>\n",
       "      <td>756493.0</td>\n",
       "      <td>none</td>\n",
       "      <td>0.0</td>\n",
       "      <td>none</td>\n",
       "      <td>0.0</td>\n",
       "      <td>43.0</td>\n",
       "      <td>96.000000</td>\n",
       "      <td>97.699997</td>\n",
       "      <td>241.899994</td>\n",
       "      <td>244.100006</td>\n",
       "      <td>72587024.0</td>\n",
       "      <td>73937112.0</td>\n",
       "      <td>21566554.00</td>\n",
       "      <td>1.451544e+07</td>\n",
       "      <td>49526664.0</td>\n",
       "      <td>14938.00000</td>\n",
       "      <td>1493800.0</td>\n",
       "      <td>2089.28</td>\n",
       "      <td>2.19</td>\n",
       "      <td>Compliant</td>\n",
       "      <td>NaN</td>\n",
       "      <td>98101</td>\n",
       "      <td>47.61393</td>\n",
       "      <td>-122.33810</td>\n",
       "      <td>1</td>\n",
       "      <td>47</td>\n",
       "    </tr>\n",
       "    <tr>\n",
       "      <th>3</th>\n",
       "      <td>5</td>\n",
       "      <td>NonResidential</td>\n",
       "      <td>hotel_catering -</td>\n",
       "      <td>7</td>\n",
       "      <td>downtown</td>\n",
       "      <td>1</td>\n",
       "      <td>10</td>\n",
       "      <td>61320</td>\n",
       "      <td>0.0</td>\n",
       "      <td>61320.0</td>\n",
       "      <td>hotel_catering -</td>\n",
       "      <td>hotel_catering -</td>\n",
       "      <td>61320.0</td>\n",
       "      <td>none</td>\n",
       "      <td>0.0</td>\n",
       "      <td>none</td>\n",
       "      <td>0.0</td>\n",
       "      <td>56.0</td>\n",
       "      <td>110.800003</td>\n",
       "      <td>113.300003</td>\n",
       "      <td>216.199997</td>\n",
       "      <td>224.000000</td>\n",
       "      <td>6794584.0</td>\n",
       "      <td>6946800.5</td>\n",
       "      <td>2214446.25</td>\n",
       "      <td>8.115253e+05</td>\n",
       "      <td>2768924.0</td>\n",
       "      <td>18112.13086</td>\n",
       "      <td>1811213.0</td>\n",
       "      <td>286.43</td>\n",
       "      <td>4.67</td>\n",
       "      <td>Compliant</td>\n",
       "      <td>NaN</td>\n",
       "      <td>98101</td>\n",
       "      <td>47.61412</td>\n",
       "      <td>-122.33664</td>\n",
       "      <td>1</td>\n",
       "      <td>90</td>\n",
       "    </tr>\n",
       "    <tr>\n",
       "      <th>4</th>\n",
       "      <td>8</td>\n",
       "      <td>NonResidential</td>\n",
       "      <td>hotel_catering -</td>\n",
       "      <td>7</td>\n",
       "      <td>downtown</td>\n",
       "      <td>1</td>\n",
       "      <td>18</td>\n",
       "      <td>175580</td>\n",
       "      <td>62000.0</td>\n",
       "      <td>113580.0</td>\n",
       "      <td>hotel_catering - leisure -</td>\n",
       "      <td>hotel_catering -</td>\n",
       "      <td>123445.0</td>\n",
       "      <td>none</td>\n",
       "      <td>68009.0</td>\n",
       "      <td>leisure -</td>\n",
       "      <td>0.0</td>\n",
       "      <td>75.0</td>\n",
       "      <td>114.800003</td>\n",
       "      <td>118.699997</td>\n",
       "      <td>211.399994</td>\n",
       "      <td>215.600006</td>\n",
       "      <td>14172606.0</td>\n",
       "      <td>14656503.0</td>\n",
       "      <td>0.00</td>\n",
       "      <td>1.573449e+06</td>\n",
       "      <td>5368607.0</td>\n",
       "      <td>88039.98438</td>\n",
       "      <td>8803998.0</td>\n",
       "      <td>505.01</td>\n",
       "      <td>2.88</td>\n",
       "      <td>Compliant</td>\n",
       "      <td>NaN</td>\n",
       "      <td>98121</td>\n",
       "      <td>47.61375</td>\n",
       "      <td>-122.34047</td>\n",
       "      <td>3</td>\n",
       "      <td>36</td>\n",
       "    </tr>\n",
       "  </tbody>\n",
       "</table>\n",
       "</div>"
      ],
      "text/plain": [
       "   OSEBuildingID    BuildingType PrimaryPropertyType  CouncilDistrictCode  \\\n",
       "0              1  NonResidential    hotel_catering -                    7   \n",
       "1              2  NonResidential    hotel_catering -                    7   \n",
       "2              3  NonResidential    hotel_catering -                    7   \n",
       "3              5  NonResidential    hotel_catering -                    7   \n",
       "4              8  NonResidential    hotel_catering -                    7   \n",
       "\n",
       "  Neighborhood  NumberofBuildings  NumberofFloors  PropertyGFATotal  \\\n",
       "0     downtown                  1              12             88434   \n",
       "1     downtown                  1              11            103566   \n",
       "2     downtown                  1              41            956110   \n",
       "3     downtown                  1              10             61320   \n",
       "4     downtown                  1              18            175580   \n",
       "\n",
       "   PropertyGFAParking  PropertyGFABuilding(s)   ListOfAllPropertyUseTypes  \\\n",
       "0                 0.0                 88434.0            hotel_catering -   \n",
       "1             15064.0                 88502.0            hotel_catering -   \n",
       "2            196718.0                759392.0            hotel_catering -   \n",
       "3                 0.0                 61320.0            hotel_catering -   \n",
       "4             62000.0                113580.0  hotel_catering - leisure -   \n",
       "\n",
       "  LargestPropertyUseType  LargestPropertyUseTypeGFA  \\\n",
       "0       hotel_catering -                    88434.0   \n",
       "1       hotel_catering -                    83880.0   \n",
       "2       hotel_catering -                   756493.0   \n",
       "3       hotel_catering -                    61320.0   \n",
       "4       hotel_catering -                   123445.0   \n",
       "\n",
       "  SecondLargestPropertyUseType  SecondLargestPropertyUseTypeGFA  \\\n",
       "0                         none                              0.0   \n",
       "1                         none                          15064.0   \n",
       "2                         none                              0.0   \n",
       "3                         none                              0.0   \n",
       "4                         none                          68009.0   \n",
       "\n",
       "  ThirdLargestPropertyUseType  ThirdLargestPropertyUseTypeGFA  \\\n",
       "0                        none                             0.0   \n",
       "1            hotel_catering -                          4622.0   \n",
       "2                        none                             0.0   \n",
       "3                        none                             0.0   \n",
       "4                   leisure -                             0.0   \n",
       "\n",
       "   ENERGYSTARScore  SiteEUI(kBtu/sf)  SiteEUIWN(kBtu/sf)  SourceEUI(kBtu/sf)  \\\n",
       "0             60.0         81.699997           84.300003          182.500000   \n",
       "1             61.0         94.800003           97.900002          176.100006   \n",
       "2             43.0         96.000000           97.699997          241.899994   \n",
       "3             56.0        110.800003          113.300003          216.199997   \n",
       "4             75.0        114.800003          118.699997          211.399994   \n",
       "\n",
       "   SourceEUIWN(kBtu/sf)  SiteEnergyUse(kBtu)  SiteEnergyUseWN(kBtu)  \\\n",
       "0            189.000000            7226362.5              7456910.0   \n",
       "1            179.399994            8387933.0              8664479.0   \n",
       "2            244.100006           72587024.0             73937112.0   \n",
       "3            224.000000            6794584.0              6946800.5   \n",
       "4            215.600006           14172606.0             14656503.0   \n",
       "\n",
       "   SteamUse(kBtu)  Electricity(kWh)  Electricity(kBtu)  NaturalGas(therms)  \\\n",
       "0      2003882.00      1.156514e+06          3946027.0         12764.52930   \n",
       "1            0.00      9.504252e+05          3242851.0         51450.81641   \n",
       "2     21566554.00      1.451544e+07         49526664.0         14938.00000   \n",
       "3      2214446.25      8.115253e+05          2768924.0         18112.13086   \n",
       "4            0.00      1.573449e+06          5368607.0         88039.98438   \n",
       "\n",
       "   NaturalGas(kBtu)  TotalGHGEmissions  GHGEmissionsIntensity  \\\n",
       "0         1276453.0             249.98                   2.83   \n",
       "1         5145082.0             295.86                   2.86   \n",
       "2         1493800.0            2089.28                   2.19   \n",
       "3         1811213.0             286.43                   4.67   \n",
       "4         8803998.0             505.01                   2.88   \n",
       "\n",
       "  ComplianceStatus Outlier  ZipCode  Latitude  Longitude  NbProperty  \\\n",
       "0        Compliant     NaN    98101  47.61220 -122.33799           1   \n",
       "1        Compliant     NaN    98101  47.61317 -122.33393           3   \n",
       "2        Compliant     NaN    98101  47.61393 -122.33810           1   \n",
       "3        Compliant     NaN    98101  47.61412 -122.33664           1   \n",
       "4        Compliant     NaN    98121  47.61375 -122.34047           3   \n",
       "\n",
       "   BuildingAge  \n",
       "0           89  \n",
       "1           20  \n",
       "2           47  \n",
       "3           90  \n",
       "4           36  "
      ]
     },
     "execution_count": 33,
     "metadata": {},
     "output_type": "execute_result"
    }
   ],
   "source": [
    "import numpy as np\n",
    "import pandas as pd\n",
    "pd.set_option('display.max_columns', 100)\n",
    "\n",
    "import plotly.express as px\n",
    "import seaborn as sns\n",
    "%matplotlib inline\n",
    "import matplotlib.pyplot as plt\n",
    "\n",
    "from sklearn.model_selection import cross_validate, train_test_split, GridSearchCV\n",
    "from sklearn.preprocessing import RobustScaler\n",
    "from sklearn.preprocessing import OneHotEncoder\n",
    "\n",
    "from sklearn.metrics import mean_absolute_error, mean_squared_error, mean_absolute_percentage_error, r2_score\n",
    "\n",
    "from sklearn.dummy import DummyRegressor\n",
    "from sklearn.ensemble import RandomForestRegressor, GradientBoostingRegressor, ExtraTreesRegressor, AdaBoostRegressor\n",
    "from sklearn.tree import DecisionTreeRegressor\n",
    "from sklearn.svm import SVR, LinearSVR\n",
    "\n",
    "import lightgbm as lgb\n",
    "\n",
    "\n",
    "df = pd.read_csv(\"./data/year_2016_clean.csv\", sep=\";\")\n",
    "df.head()"
   ]
  },
  {
   "cell_type": "markdown",
   "id": "af0dee0c",
   "metadata": {},
   "source": [
    "---\n",
    "\n",
    "# Feature Engineering"
   ]
  },
  {
   "cell_type": "code",
   "execution_count": 3,
   "id": "16906018",
   "metadata": {},
   "outputs": [],
   "source": [
    "df[\"RateParking\"] = round(df.PropertyGFAParking / df.PropertyGFATotal, 4)\n",
    "df[\"RateBuilding\"] = round(df['PropertyGFABuilding(s)'] / df.PropertyGFATotal, 4)\n",
    "df[\"RatePerFloors\"] = round(df.PropertyGFATotal / df.NumberofFloors, 4)\n",
    "df[\"RatePerBuildings\"] = round(df.PropertyGFATotal / df.NumberofBuildings, 4)\n",
    "df[\"RateLargestPropertyUseType\"] = round(df.LargestPropertyUseTypeGFA / df.PropertyGFATotal, 4)\n",
    "df[\"RateSecondLargestPropertyUseType\"] = round(df.SecondLargestPropertyUseTypeGFA / df.PropertyGFATotal, 4)\n",
    "df[\"RateThirstLargestPropertyUseType\"] = round(df.ThirdLargestPropertyUseTypeGFA / df.PropertyGFATotal, 4)\n",
    "df[\"NumberOfAllUseTypes\"] = df.ListOfAllPropertyUseTypes.str.count(\" - \") + 1"
   ]
  },
  {
   "cell_type": "markdown",
   "id": "08cf2584",
   "metadata": {},
   "source": [
    "useless 'CouncilDistrictCode', 'ListOfAllPropertyUseTypes', 'ENERGYSTARScore'"
   ]
  },
  {
   "cell_type": "markdown",
   "id": "01493ac9",
   "metadata": {},
   "source": [
    "target 'TotalGHGEmissions'  \n",
    "supprimer 'GHGEmissionsIntensity'"
   ]
  },
  {
   "cell_type": "code",
   "execution_count": 4,
   "id": "bee9bdb7",
   "metadata": {},
   "outputs": [],
   "source": [
    "data = df.drop(columns=['CouncilDistrictCode', 'ListOfAllPropertyUseTypes', 'ENERGYSTARScore', 'GHGEmissionsIntensity', 'Outlier'])"
   ]
  },
  {
   "cell_type": "code",
   "execution_count": 5,
   "id": "e00c72b3",
   "metadata": {},
   "outputs": [
    {
     "data": {
      "text/plain": [
       "(3353, 41)"
      ]
     },
     "execution_count": 5,
     "metadata": {},
     "output_type": "execute_result"
    }
   ],
   "source": [
    "data.shape"
   ]
  },
  {
   "cell_type": "code",
   "execution_count": 6,
   "id": "1c0aa5d7",
   "metadata": {},
   "outputs": [],
   "source": [
    "X = data.drop(columns = ['TotalGHGEmissions'])\n",
    "y = data[['TotalGHGEmissions']]"
   ]
  },
  {
   "cell_type": "code",
   "execution_count": 7,
   "id": "75829d8c",
   "metadata": {},
   "outputs": [
    {
     "data": {
      "text/plain": [
       "0"
      ]
     },
     "execution_count": 7,
     "metadata": {},
     "output_type": "execute_result"
    }
   ],
   "source": [
    "X.isnull().sum().sum()"
   ]
  },
  {
   "cell_type": "markdown",
   "id": "6c24506b",
   "metadata": {},
   "source": [
    "shuffle + dummy regressor"
   ]
  },
  {
   "cell_type": "code",
   "execution_count": 8,
   "id": "667db394",
   "metadata": {},
   "outputs": [],
   "source": [
    "# general seed for sk learn\n",
    "np.random.seed(42)"
   ]
  },
  {
   "cell_type": "code",
   "execution_count": 9,
   "id": "fda36143",
   "metadata": {},
   "outputs": [],
   "source": [
    "X_train, X_test, y_train, y_test = train_test_split(X, y, test_size=0.2)"
   ]
  },
  {
   "cell_type": "code",
   "execution_count": 10,
   "id": "dfb23931",
   "metadata": {},
   "outputs": [],
   "source": [
    "num_cols = X.select_dtypes(include='number').columns\n",
    "robust_scaler = RobustScaler()\n",
    "\n",
    "X_train_num_sc = pd.DataFrame(\n",
    "    robust_scaler.fit_transform(X_train[num_cols]),\n",
    "    columns=num_cols,\n",
    "    index=X_train.index\n",
    ")"
   ]
  },
  {
   "cell_type": "code",
   "execution_count": 11,
   "id": "7343a848",
   "metadata": {},
   "outputs": [],
   "source": [
    "X_test_num_sc = pd.DataFrame(\n",
    "    robust_scaler.transform(X_test[num_cols]),\n",
    "    columns=num_cols,\n",
    "    index=X_test.index\n",
    ")"
   ]
  },
  {
   "cell_type": "code",
   "execution_count": 12,
   "id": "849f4f5a",
   "metadata": {},
   "outputs": [
    {
     "data": {
      "text/plain": [
       "((2682, 33), (671, 33))"
      ]
     },
     "execution_count": 12,
     "metadata": {},
     "output_type": "execute_result"
    }
   ],
   "source": [
    "X_train_num_sc.shape, X_test_num_sc.shape"
   ]
  },
  {
   "cell_type": "code",
   "execution_count": 13,
   "id": "5e4835bb",
   "metadata": {},
   "outputs": [
    {
     "data": {
      "text/plain": [
       "(0, 0)"
      ]
     },
     "execution_count": 13,
     "metadata": {},
     "output_type": "execute_result"
    }
   ],
   "source": [
    "X_train_num_sc.isnull().sum().sum(), X_test_num_sc.isnull().sum().sum()"
   ]
  },
  {
   "cell_type": "code",
   "execution_count": 14,
   "id": "06009ced",
   "metadata": {},
   "outputs": [
    {
     "name": "stderr",
     "output_type": "stream",
     "text": [
      "C:\\Users\\obrunet\\Anaconda3\\envs\\nrj\\lib\\site-packages\\sklearn\\preprocessing\\_encoders.py:188: UserWarning: Found unknown categories in columns [3, 4, 5] during transform. These unknown categories will be encoded as all zeros\n",
      "  warnings.warn(\n"
     ]
    }
   ],
   "source": [
    "# df.isin([np.inf, -np.inf]).sum()\n",
    "\n",
    "\n",
    "cat_cols = X_train.select_dtypes(exclude='number').columns\n",
    "\n",
    "ohe = OneHotEncoder(drop='first', sparse=False, handle_unknown='ignore')\n",
    "\n",
    "X_train_cat_enc = ohe.fit_transform(X_train[cat_cols])\n",
    "X_train_cat_enc = pd.DataFrame(\n",
    "    X_train_cat_enc,\n",
    "    columns=ohe.get_feature_names_out(X_train.select_dtypes(exclude='number').columns),\n",
    "    index=X_train.index\n",
    ")\n",
    "\n",
    "X_test_cat_enc = ohe.transform(X_test[cat_cols])\n",
    "X_test_cat_enc = pd.DataFrame(\n",
    "    X_test_cat_enc,\n",
    "    columns=ohe.get_feature_names_out(X_test.select_dtypes(exclude='number').columns),\n",
    "    index=X_test.index\n",
    ")"
   ]
  },
  {
   "cell_type": "code",
   "execution_count": 15,
   "id": "11992261",
   "metadata": {},
   "outputs": [
    {
     "data": {
      "text/plain": [
       "((2682, 81), (671, 81))"
      ]
     },
     "execution_count": 15,
     "metadata": {},
     "output_type": "execute_result"
    }
   ],
   "source": [
    "X_train_cat_enc.shape, X_test_cat_enc.shape"
   ]
  },
  {
   "cell_type": "code",
   "execution_count": 16,
   "id": "b3b62cfe",
   "metadata": {},
   "outputs": [
    {
     "data": {
      "text/plain": [
       "(0, 0)"
      ]
     },
     "execution_count": 16,
     "metadata": {},
     "output_type": "execute_result"
    }
   ],
   "source": [
    "X_train_cat_enc.isnull().sum().sum(), X_test_cat_enc.isnull().sum().sum()"
   ]
  },
  {
   "cell_type": "code",
   "execution_count": 17,
   "id": "f75a9b55",
   "metadata": {},
   "outputs": [],
   "source": [
    "X_train_enc = pd.concat([X_train_num_sc, X_train_cat_enc], axis=1)\n",
    "X_test_enc = pd.concat([X_test_num_sc, X_test_cat_enc], axis=1)"
   ]
  },
  {
   "cell_type": "code",
   "execution_count": 18,
   "id": "cce373f0",
   "metadata": {},
   "outputs": [
    {
     "data": {
      "text/plain": [
       "((2682, 114), (671, 114))"
      ]
     },
     "execution_count": 18,
     "metadata": {},
     "output_type": "execute_result"
    }
   ],
   "source": [
    "X_train_enc.shape, X_test_enc.shape"
   ]
  },
  {
   "cell_type": "code",
   "execution_count": 19,
   "id": "ca1cb66f",
   "metadata": {},
   "outputs": [
    {
     "data": {
      "text/plain": [
       "(0, 0)"
      ]
     },
     "execution_count": 19,
     "metadata": {},
     "output_type": "execute_result"
    }
   ],
   "source": [
    "X_train_enc.isnull().sum().sum(), X_test_enc.isnull().sum().sum()"
   ]
  },
  {
   "cell_type": "code",
   "execution_count": 20,
   "id": "03c52e85",
   "metadata": {},
   "outputs": [
    {
     "data": {
      "text/plain": [
       "Series([], dtype: float64)"
      ]
     },
     "execution_count": 20,
     "metadata": {},
     "output_type": "execute_result"
    }
   ],
   "source": [
    "X_test_enc[[col for col in X_test_enc.columns if X_test_enc[col].hasnans]].isnull().sum()"
   ]
  },
  {
   "cell_type": "code",
   "execution_count": 22,
   "id": "8268a85b",
   "metadata": {},
   "outputs": [],
   "source": [
    "def regression(model, name, X, y):\n",
    "    metrics = ['neg_mean_absolute_error', 'neg_mean_squared_error', 'r2']\n",
    "    score = cross_validate(model, X, y , cv=5, scoring=metrics, return_train_score=True)\n",
    "    \n",
    "    dic = {\n",
    "        'model ': [name],\n",
    "        'train r²': [score['train_r2'].mean()],\n",
    "        'test r²': [score['test_r2'].mean()],\n",
    "        'train RMSE': [np.sqrt(- (score['train_neg_mean_squared_error'].mean()))],\n",
    "        'test RMSE': [np.sqrt(- (score['test_neg_mean_squared_error'].mean()))],\n",
    "        'train MAE': [np.sqrt(- (score['train_neg_mean_absolute_error'].mean()))],\n",
    "        'test MAE': [np.sqrt(- (score['test_neg_mean_absolute_error'].mean()))],\n",
    "    }\n",
    "    return pd.DataFrame(dic)"
   ]
  },
  {
   "cell_type": "code",
   "execution_count": 23,
   "id": "6e186cb2",
   "metadata": {},
   "outputs": [],
   "source": [
    "def compare_results(X, y):\n",
    "    results = pd.DataFrame()\n",
    "    model = []\n",
    "    model.append(('dummy_regressor', DummyRegressor()))\n",
    "    model.append(('svr', SVR()))\n",
    "    model.append(('decision_tree', DecisionTreeRegressor()))\n",
    "    model.append(('random_forest', RandomForestRegressor()))\n",
    "    model.append(('adaBoost', AdaBoostRegressor()))\n",
    "    model.append(('lgbm', lgb.LGBMRegressor()))\n",
    "    \n",
    "    for name, mod in model:\n",
    "        res = regression(mod, name, X, y)\n",
    "        results = pd.concat([results, res], ignore_index=True)\n",
    "    return results.style.hide_index()"
   ]
  },
  {
   "cell_type": "code",
   "execution_count": 24,
   "id": "4552bd7c",
   "metadata": {},
   "outputs": [
    {
     "name": "stderr",
     "output_type": "stream",
     "text": [
      "C:\\Users\\obrunet\\Anaconda3\\envs\\nrj\\lib\\site-packages\\sklearn\\utils\\validation.py:1111: DataConversionWarning: A column-vector y was passed when a 1d array was expected. Please change the shape of y to (n_samples, ), for example using ravel().\n",
      "  y = column_or_1d(y, warn=True)\n",
      "C:\\Users\\obrunet\\Anaconda3\\envs\\nrj\\lib\\site-packages\\sklearn\\utils\\validation.py:1111: DataConversionWarning: A column-vector y was passed when a 1d array was expected. Please change the shape of y to (n_samples, ), for example using ravel().\n",
      "  y = column_or_1d(y, warn=True)\n",
      "C:\\Users\\obrunet\\Anaconda3\\envs\\nrj\\lib\\site-packages\\sklearn\\utils\\validation.py:1111: DataConversionWarning: A column-vector y was passed when a 1d array was expected. Please change the shape of y to (n_samples, ), for example using ravel().\n",
      "  y = column_or_1d(y, warn=True)\n",
      "C:\\Users\\obrunet\\Anaconda3\\envs\\nrj\\lib\\site-packages\\sklearn\\utils\\validation.py:1111: DataConversionWarning: A column-vector y was passed when a 1d array was expected. Please change the shape of y to (n_samples, ), for example using ravel().\n",
      "  y = column_or_1d(y, warn=True)\n",
      "C:\\Users\\obrunet\\Anaconda3\\envs\\nrj\\lib\\site-packages\\sklearn\\utils\\validation.py:1111: DataConversionWarning: A column-vector y was passed when a 1d array was expected. Please change the shape of y to (n_samples, ), for example using ravel().\n",
      "  y = column_or_1d(y, warn=True)\n",
      "C:\\Users\\obrunet\\Anaconda3\\envs\\nrj\\lib\\site-packages\\sklearn\\model_selection\\_validation.py:686: DataConversionWarning: A column-vector y was passed when a 1d array was expected. Please change the shape of y to (n_samples,), for example using ravel().\n",
      "  estimator.fit(X_train, y_train, **fit_params)\n",
      "C:\\Users\\obrunet\\Anaconda3\\envs\\nrj\\lib\\site-packages\\sklearn\\model_selection\\_validation.py:686: DataConversionWarning: A column-vector y was passed when a 1d array was expected. Please change the shape of y to (n_samples,), for example using ravel().\n",
      "  estimator.fit(X_train, y_train, **fit_params)\n",
      "C:\\Users\\obrunet\\Anaconda3\\envs\\nrj\\lib\\site-packages\\sklearn\\model_selection\\_validation.py:686: DataConversionWarning: A column-vector y was passed when a 1d array was expected. Please change the shape of y to (n_samples,), for example using ravel().\n",
      "  estimator.fit(X_train, y_train, **fit_params)\n",
      "C:\\Users\\obrunet\\Anaconda3\\envs\\nrj\\lib\\site-packages\\sklearn\\model_selection\\_validation.py:686: DataConversionWarning: A column-vector y was passed when a 1d array was expected. Please change the shape of y to (n_samples,), for example using ravel().\n",
      "  estimator.fit(X_train, y_train, **fit_params)\n",
      "C:\\Users\\obrunet\\Anaconda3\\envs\\nrj\\lib\\site-packages\\sklearn\\model_selection\\_validation.py:686: DataConversionWarning: A column-vector y was passed when a 1d array was expected. Please change the shape of y to (n_samples,), for example using ravel().\n",
      "  estimator.fit(X_train, y_train, **fit_params)\n",
      "C:\\Users\\obrunet\\Anaconda3\\envs\\nrj\\lib\\site-packages\\sklearn\\utils\\validation.py:1111: DataConversionWarning: A column-vector y was passed when a 1d array was expected. Please change the shape of y to (n_samples, ), for example using ravel().\n",
      "  y = column_or_1d(y, warn=True)\n",
      "C:\\Users\\obrunet\\Anaconda3\\envs\\nrj\\lib\\site-packages\\sklearn\\utils\\validation.py:1111: DataConversionWarning: A column-vector y was passed when a 1d array was expected. Please change the shape of y to (n_samples, ), for example using ravel().\n",
      "  y = column_or_1d(y, warn=True)\n",
      "C:\\Users\\obrunet\\Anaconda3\\envs\\nrj\\lib\\site-packages\\sklearn\\utils\\validation.py:1111: DataConversionWarning: A column-vector y was passed when a 1d array was expected. Please change the shape of y to (n_samples, ), for example using ravel().\n",
      "  y = column_or_1d(y, warn=True)\n",
      "C:\\Users\\obrunet\\Anaconda3\\envs\\nrj\\lib\\site-packages\\sklearn\\utils\\validation.py:1111: DataConversionWarning: A column-vector y was passed when a 1d array was expected. Please change the shape of y to (n_samples, ), for example using ravel().\n",
      "  y = column_or_1d(y, warn=True)\n",
      "C:\\Users\\obrunet\\Anaconda3\\envs\\nrj\\lib\\site-packages\\sklearn\\utils\\validation.py:1111: DataConversionWarning: A column-vector y was passed when a 1d array was expected. Please change the shape of y to (n_samples, ), for example using ravel().\n",
      "  y = column_or_1d(y, warn=True)\n",
      "C:\\Users\\obrunet\\AppData\\Local\\Temp\\ipykernel_17588\\2927554815.py:14: FutureWarning: this method is deprecated in favour of `Styler.hide(axis=\"index\")`\n",
      "  return results.style.hide_index()\n"
     ]
    },
    {
     "data": {
      "text/html": [
       "<style type=\"text/css\">\n",
       "</style>\n",
       "<table id=\"T_57e01\">\n",
       "  <thead>\n",
       "    <tr>\n",
       "      <th id=\"T_57e01_level0_col0\" class=\"col_heading level0 col0\" >model </th>\n",
       "      <th id=\"T_57e01_level0_col1\" class=\"col_heading level0 col1\" >train r²</th>\n",
       "      <th id=\"T_57e01_level0_col2\" class=\"col_heading level0 col2\" >test r²</th>\n",
       "      <th id=\"T_57e01_level0_col3\" class=\"col_heading level0 col3\" >train RMSE</th>\n",
       "      <th id=\"T_57e01_level0_col4\" class=\"col_heading level0 col4\" >test RMSE</th>\n",
       "      <th id=\"T_57e01_level0_col5\" class=\"col_heading level0 col5\" >train MAE</th>\n",
       "      <th id=\"T_57e01_level0_col6\" class=\"col_heading level0 col6\" >test MAE</th>\n",
       "    </tr>\n",
       "  </thead>\n",
       "  <tbody>\n",
       "    <tr>\n",
       "      <td id=\"T_57e01_row0_col0\" class=\"data row0 col0\" >dummy_regressor</td>\n",
       "      <td id=\"T_57e01_row0_col1\" class=\"data row0 col1\" >0.000000</td>\n",
       "      <td id=\"T_57e01_row0_col2\" class=\"data row0 col2\" >-0.011977</td>\n",
       "      <td id=\"T_57e01_row0_col3\" class=\"data row0 col3\" >522.130882</td>\n",
       "      <td id=\"T_57e01_row0_col4\" class=\"data row0 col4\" >522.457472</td>\n",
       "      <td id=\"T_57e01_row0_col5\" class=\"data row0 col5\" >11.528955</td>\n",
       "      <td id=\"T_57e01_row0_col6\" class=\"data row0 col6\" >11.531474</td>\n",
       "    </tr>\n",
       "    <tr>\n",
       "      <td id=\"T_57e01_row1_col0\" class=\"data row1 col0\" >svr</td>\n",
       "      <td id=\"T_57e01_row1_col1\" class=\"data row1 col1\" >-0.017553</td>\n",
       "      <td id=\"T_57e01_row1_col2\" class=\"data row1 col2\" >-0.035544</td>\n",
       "      <td id=\"T_57e01_row1_col3\" class=\"data row1 col3\" >526.641603</td>\n",
       "      <td id=\"T_57e01_row1_col4\" class=\"data row1 col4\" >526.707679</td>\n",
       "      <td id=\"T_57e01_row1_col5\" class=\"data row1 col5\" >10.058144</td>\n",
       "      <td id=\"T_57e01_row1_col6\" class=\"data row1 col6\" >10.061211</td>\n",
       "    </tr>\n",
       "    <tr>\n",
       "      <td id=\"T_57e01_row2_col0\" class=\"data row2 col0\" >decision_tree</td>\n",
       "      <td id=\"T_57e01_row2_col1\" class=\"data row2 col1\" >1.000000</td>\n",
       "      <td id=\"T_57e01_row2_col2\" class=\"data row2 col2\" >0.654523</td>\n",
       "      <td id=\"T_57e01_row2_col3\" class=\"data row2 col3\" >0.000000</td>\n",
       "      <td id=\"T_57e01_row2_col4\" class=\"data row2 col4\" >309.774264</td>\n",
       "      <td id=\"T_57e01_row2_col5\" class=\"data row2 col5\" >0.000000</td>\n",
       "      <td id=\"T_57e01_row2_col6\" class=\"data row2 col6\" >5.061701</td>\n",
       "    </tr>\n",
       "    <tr>\n",
       "      <td id=\"T_57e01_row3_col0\" class=\"data row3 col0\" >random_forest</td>\n",
       "      <td id=\"T_57e01_row3_col1\" class=\"data row3 col1\" >0.943723</td>\n",
       "      <td id=\"T_57e01_row3_col2\" class=\"data row3 col2\" >0.800730</td>\n",
       "      <td id=\"T_57e01_row3_col3\" class=\"data row3 col3\" >123.320499</td>\n",
       "      <td id=\"T_57e01_row3_col4\" class=\"data row3 col4\" >280.135849</td>\n",
       "      <td id=\"T_57e01_row3_col5\" class=\"data row3 col5\" >2.774561</td>\n",
       "      <td id=\"T_57e01_row3_col6\" class=\"data row3 col6\" >4.422626</td>\n",
       "    </tr>\n",
       "    <tr>\n",
       "      <td id=\"T_57e01_row4_col0\" class=\"data row4 col0\" >adaBoost</td>\n",
       "      <td id=\"T_57e01_row4_col1\" class=\"data row4 col1\" >0.874996</td>\n",
       "      <td id=\"T_57e01_row4_col2\" class=\"data row4 col2\" >0.370977</td>\n",
       "      <td id=\"T_57e01_row4_col3\" class=\"data row4 col3\" >163.963731</td>\n",
       "      <td id=\"T_57e01_row4_col4\" class=\"data row4 col4\" >458.058619</td>\n",
       "      <td id=\"T_57e01_row4_col5\" class=\"data row4 col5\" >10.801661</td>\n",
       "      <td id=\"T_57e01_row4_col6\" class=\"data row4 col6\" >11.674612</td>\n",
       "    </tr>\n",
       "    <tr>\n",
       "      <td id=\"T_57e01_row5_col0\" class=\"data row5 col0\" >lgbm</td>\n",
       "      <td id=\"T_57e01_row5_col1\" class=\"data row5 col1\" >0.759340</td>\n",
       "      <td id=\"T_57e01_row5_col2\" class=\"data row5 col2\" >0.211174</td>\n",
       "      <td id=\"T_57e01_row5_col3\" class=\"data row5 col3\" >255.255250</td>\n",
       "      <td id=\"T_57e01_row5_col4\" class=\"data row5 col4\" >409.587614</td>\n",
       "      <td id=\"T_57e01_row5_col5\" class=\"data row5 col5\" >5.362690</td>\n",
       "      <td id=\"T_57e01_row5_col6\" class=\"data row5 col6\" >6.873892</td>\n",
       "    </tr>\n",
       "  </tbody>\n",
       "</table>\n"
      ],
      "text/plain": [
       "<pandas.io.formats.style.Styler at 0x2814fe2e310>"
      ]
     },
     "execution_count": 24,
     "metadata": {},
     "output_type": "execute_result"
    }
   ],
   "source": [
    "compare_results(X_train_enc, y_train)"
   ]
  },
  {
   "cell_type": "code",
   "execution_count": 25,
   "id": "b7c54fe0",
   "metadata": {},
   "outputs": [],
   "source": []
  },
  {
   "cell_type": "code",
   "execution_count": 26,
   "id": "92db4548",
   "metadata": {},
   "outputs": [],
   "source": [
    "model_list = [\n",
    "    DummyRegressor(),\n",
    "    SVR(),\n",
    "    DecisionTreeRegressor(),\n",
    "    RandomForestRegressor(),\n",
    "    AdaBoostRegressor(),\n",
    "    lgb.LGBMRegressor(),\n",
    "    GradientBoostingRegressor(),\n",
    "    ExtraTreesRegressor()\n",
    "]"
   ]
  },
  {
   "cell_type": "code",
   "execution_count": 27,
   "id": "7984ba45",
   "metadata": {},
   "outputs": [
    {
     "data": {
      "text/plain": [
       "0"
      ]
     },
     "execution_count": 27,
     "metadata": {},
     "output_type": "execute_result"
    }
   ],
   "source": [
    "X_test_enc.isnull().sum().sum()"
   ]
  },
  {
   "cell_type": "code",
   "execution_count": 28,
   "id": "084f00dc",
   "metadata": {},
   "outputs": [
    {
     "name": "stderr",
     "output_type": "stream",
     "text": [
      "C:\\Users\\obrunet\\Anaconda3\\envs\\nrj\\lib\\site-packages\\sklearn\\utils\\validation.py:1111: DataConversionWarning: A column-vector y was passed when a 1d array was expected. Please change the shape of y to (n_samples, ), for example using ravel().\n",
      "  y = column_or_1d(y, warn=True)\n"
     ]
    },
    {
     "name": "stdout",
     "output_type": "stream",
     "text": [
      "DummyRegressor \t - RMSE on training = 522.15 / on test = 605.41\n",
      "SVR \t - RMSE on training = 526.22 / on test = 611.72\n",
      "DecisionTreeRegressor \t - RMSE on training = 0.00 / on test = 218.64\n"
     ]
    },
    {
     "name": "stderr",
     "output_type": "stream",
     "text": [
      "C:\\Users\\obrunet\\AppData\\Local\\Temp\\ipykernel_17588\\903984297.py:14: DataConversionWarning: A column-vector y was passed when a 1d array was expected. Please change the shape of y to (n_samples,), for example using ravel().\n",
      "  model.fit(X_train_enc, y_train)\n"
     ]
    },
    {
     "name": "stdout",
     "output_type": "stream",
     "text": [
      "RandomForestRegressor \t - RMSE on training = 110.44 / on test = 188.18\n"
     ]
    },
    {
     "name": "stderr",
     "output_type": "stream",
     "text": [
      "C:\\Users\\obrunet\\Anaconda3\\envs\\nrj\\lib\\site-packages\\sklearn\\utils\\validation.py:1111: DataConversionWarning: A column-vector y was passed when a 1d array was expected. Please change the shape of y to (n_samples, ), for example using ravel().\n",
      "  y = column_or_1d(y, warn=True)\n"
     ]
    },
    {
     "name": "stdout",
     "output_type": "stream",
     "text": [
      "AdaBoostRegressor \t - RMSE on training = 127.57 / on test = 258.66\n",
      "LGBMRegressor \t - RMSE on training = 225.84 / on test = 227.58\n"
     ]
    },
    {
     "name": "stderr",
     "output_type": "stream",
     "text": [
      "C:\\Users\\obrunet\\Anaconda3\\envs\\nrj\\lib\\site-packages\\sklearn\\ensemble\\_gb.py:570: DataConversionWarning: A column-vector y was passed when a 1d array was expected. Please change the shape of y to (n_samples, ), for example using ravel().\n",
      "  y = column_or_1d(y, warn=True)\n"
     ]
    },
    {
     "name": "stdout",
     "output_type": "stream",
     "text": [
      "GradientBoostingRegressor \t - RMSE on training = 6.07 / on test = 172.48\n"
     ]
    },
    {
     "name": "stderr",
     "output_type": "stream",
     "text": [
      "C:\\Users\\obrunet\\AppData\\Local\\Temp\\ipykernel_17588\\903984297.py:14: DataConversionWarning: A column-vector y was passed when a 1d array was expected. Please change the shape of y to (n_samples,), for example using ravel().\n",
      "  model.fit(X_train_enc, y_train)\n"
     ]
    },
    {
     "name": "stdout",
     "output_type": "stream",
     "text": [
      "ExtraTreesRegressor \t - RMSE on training = 0.00 / on test = 78.36\n"
     ]
    }
   ],
   "source": [
    "model_names = [str(m)[:str(m).index('(')] for m in model_list]\n",
    "rmse_train, rmse_test = [], []\n",
    "\n",
    "def get_rmse(reg, model_name):\n",
    "    \"\"\"Print the score for the model passed in argument & return scores for the train / test sets\"\"\"\n",
    "    y_train_pred, y_pred = reg.predict(X_train_enc), reg.predict(X_test_enc)\n",
    "    rmse_train, rmse_test = np.sqrt(mean_squared_error(y_train, y_train_pred)), np.sqrt(mean_squared_error(y_test, y_pred))\n",
    "    print(model_name, f'\\t - RMSE on training = {rmse_train:.2f} / on test = {rmse_test:.2f}')\n",
    "    return rmse_train, rmse_test\n",
    "\n",
    "\n",
    "# fit and predict all models\n",
    "for model, name in zip(model_list, model_names):\n",
    "    model.fit(X_train_enc, y_train)\n",
    "    sc_train, sc_test = get_rmse(model, name)\n",
    "    rmse_train.append(sc_train)\n",
    "    rmse_test.append(sc_test)\n",
    "    \n",
    "\n",
    "df_score = pd.DataFrame({\n",
    "    'model_names': model_names,\n",
    "    'rmse_train': rmse_train,\n",
    "    'rmse_test': rmse_test\n",
    "})"
   ]
  },
  {
   "cell_type": "code",
   "execution_count": 29,
   "id": "ac645c58",
   "metadata": {},
   "outputs": [
    {
     "data": {
      "text/html": [
       "<div>\n",
       "<style scoped>\n",
       "    .dataframe tbody tr th:only-of-type {\n",
       "        vertical-align: middle;\n",
       "    }\n",
       "\n",
       "    .dataframe tbody tr th {\n",
       "        vertical-align: top;\n",
       "    }\n",
       "\n",
       "    .dataframe thead th {\n",
       "        text-align: right;\n",
       "    }\n",
       "</style>\n",
       "<table border=\"1\" class=\"dataframe\">\n",
       "  <thead>\n",
       "    <tr style=\"text-align: right;\">\n",
       "      <th></th>\n",
       "      <th>model_names</th>\n",
       "      <th>rmse_train</th>\n",
       "      <th>rmse_test</th>\n",
       "    </tr>\n",
       "  </thead>\n",
       "  <tbody>\n",
       "    <tr>\n",
       "      <th>0</th>\n",
       "      <td>DummyRegressor</td>\n",
       "      <td>5.221517e+02</td>\n",
       "      <td>605.411012</td>\n",
       "    </tr>\n",
       "    <tr>\n",
       "      <th>1</th>\n",
       "      <td>SVR</td>\n",
       "      <td>5.262221e+02</td>\n",
       "      <td>611.716741</td>\n",
       "    </tr>\n",
       "    <tr>\n",
       "      <th>2</th>\n",
       "      <td>DecisionTreeRegressor</td>\n",
       "      <td>6.806300e-17</td>\n",
       "      <td>218.644352</td>\n",
       "    </tr>\n",
       "    <tr>\n",
       "      <th>3</th>\n",
       "      <td>RandomForestRegressor</td>\n",
       "      <td>1.104450e+02</td>\n",
       "      <td>188.175091</td>\n",
       "    </tr>\n",
       "    <tr>\n",
       "      <th>4</th>\n",
       "      <td>AdaBoostRegressor</td>\n",
       "      <td>1.275749e+02</td>\n",
       "      <td>258.662963</td>\n",
       "    </tr>\n",
       "    <tr>\n",
       "      <th>5</th>\n",
       "      <td>LGBMRegressor</td>\n",
       "      <td>2.258408e+02</td>\n",
       "      <td>227.580672</td>\n",
       "    </tr>\n",
       "    <tr>\n",
       "      <th>6</th>\n",
       "      <td>GradientBoostingRegressor</td>\n",
       "      <td>6.066924e+00</td>\n",
       "      <td>172.476845</td>\n",
       "    </tr>\n",
       "    <tr>\n",
       "      <th>7</th>\n",
       "      <td>ExtraTreesRegressor</td>\n",
       "      <td>7.430878e-13</td>\n",
       "      <td>78.364148</td>\n",
       "    </tr>\n",
       "  </tbody>\n",
       "</table>\n",
       "</div>"
      ],
      "text/plain": [
       "                 model_names    rmse_train   rmse_test\n",
       "0             DummyRegressor  5.221517e+02  605.411012\n",
       "1                        SVR  5.262221e+02  611.716741\n",
       "2      DecisionTreeRegressor  6.806300e-17  218.644352\n",
       "3      RandomForestRegressor  1.104450e+02  188.175091\n",
       "4          AdaBoostRegressor  1.275749e+02  258.662963\n",
       "5              LGBMRegressor  2.258408e+02  227.580672\n",
       "6  GradientBoostingRegressor  6.066924e+00  172.476845\n",
       "7        ExtraTreesRegressor  7.430878e-13   78.364148"
      ]
     },
     "execution_count": 29,
     "metadata": {},
     "output_type": "execute_result"
    }
   ],
   "source": [
    "df_score"
   ]
  },
  {
   "cell_type": "code",
   "execution_count": 30,
   "id": "f2382f92",
   "metadata": {},
   "outputs": [],
   "source": [
    "df_score_melt = pd.melt(df_score, id_vars=['model_names'], value_vars=['rmse_train', 'rmse_test'])"
   ]
  },
  {
   "cell_type": "code",
   "execution_count": 31,
   "id": "00d8baa6",
   "metadata": {},
   "outputs": [
    {
     "data": {
      "text/html": [
       "<div>\n",
       "<style scoped>\n",
       "    .dataframe tbody tr th:only-of-type {\n",
       "        vertical-align: middle;\n",
       "    }\n",
       "\n",
       "    .dataframe tbody tr th {\n",
       "        vertical-align: top;\n",
       "    }\n",
       "\n",
       "    .dataframe thead th {\n",
       "        text-align: right;\n",
       "    }\n",
       "</style>\n",
       "<table border=\"1\" class=\"dataframe\">\n",
       "  <thead>\n",
       "    <tr style=\"text-align: right;\">\n",
       "      <th></th>\n",
       "      <th>model_names</th>\n",
       "      <th>variable</th>\n",
       "      <th>value</th>\n",
       "    </tr>\n",
       "  </thead>\n",
       "  <tbody>\n",
       "    <tr>\n",
       "      <th>0</th>\n",
       "      <td>DummyRegressor</td>\n",
       "      <td>rmse_train</td>\n",
       "      <td>5.221517e+02</td>\n",
       "    </tr>\n",
       "    <tr>\n",
       "      <th>1</th>\n",
       "      <td>SVR</td>\n",
       "      <td>rmse_train</td>\n",
       "      <td>5.262221e+02</td>\n",
       "    </tr>\n",
       "    <tr>\n",
       "      <th>2</th>\n",
       "      <td>DecisionTreeRegressor</td>\n",
       "      <td>rmse_train</td>\n",
       "      <td>6.806300e-17</td>\n",
       "    </tr>\n",
       "    <tr>\n",
       "      <th>3</th>\n",
       "      <td>RandomForestRegressor</td>\n",
       "      <td>rmse_train</td>\n",
       "      <td>1.104450e+02</td>\n",
       "    </tr>\n",
       "    <tr>\n",
       "      <th>4</th>\n",
       "      <td>AdaBoostRegressor</td>\n",
       "      <td>rmse_train</td>\n",
       "      <td>1.275749e+02</td>\n",
       "    </tr>\n",
       "    <tr>\n",
       "      <th>5</th>\n",
       "      <td>LGBMRegressor</td>\n",
       "      <td>rmse_train</td>\n",
       "      <td>2.258408e+02</td>\n",
       "    </tr>\n",
       "    <tr>\n",
       "      <th>6</th>\n",
       "      <td>GradientBoostingRegressor</td>\n",
       "      <td>rmse_train</td>\n",
       "      <td>6.066924e+00</td>\n",
       "    </tr>\n",
       "    <tr>\n",
       "      <th>7</th>\n",
       "      <td>ExtraTreesRegressor</td>\n",
       "      <td>rmse_train</td>\n",
       "      <td>7.430878e-13</td>\n",
       "    </tr>\n",
       "    <tr>\n",
       "      <th>8</th>\n",
       "      <td>DummyRegressor</td>\n",
       "      <td>rmse_test</td>\n",
       "      <td>6.054110e+02</td>\n",
       "    </tr>\n",
       "    <tr>\n",
       "      <th>9</th>\n",
       "      <td>SVR</td>\n",
       "      <td>rmse_test</td>\n",
       "      <td>6.117167e+02</td>\n",
       "    </tr>\n",
       "    <tr>\n",
       "      <th>10</th>\n",
       "      <td>DecisionTreeRegressor</td>\n",
       "      <td>rmse_test</td>\n",
       "      <td>2.186444e+02</td>\n",
       "    </tr>\n",
       "    <tr>\n",
       "      <th>11</th>\n",
       "      <td>RandomForestRegressor</td>\n",
       "      <td>rmse_test</td>\n",
       "      <td>1.881751e+02</td>\n",
       "    </tr>\n",
       "    <tr>\n",
       "      <th>12</th>\n",
       "      <td>AdaBoostRegressor</td>\n",
       "      <td>rmse_test</td>\n",
       "      <td>2.586630e+02</td>\n",
       "    </tr>\n",
       "    <tr>\n",
       "      <th>13</th>\n",
       "      <td>LGBMRegressor</td>\n",
       "      <td>rmse_test</td>\n",
       "      <td>2.275807e+02</td>\n",
       "    </tr>\n",
       "    <tr>\n",
       "      <th>14</th>\n",
       "      <td>GradientBoostingRegressor</td>\n",
       "      <td>rmse_test</td>\n",
       "      <td>1.724768e+02</td>\n",
       "    </tr>\n",
       "    <tr>\n",
       "      <th>15</th>\n",
       "      <td>ExtraTreesRegressor</td>\n",
       "      <td>rmse_test</td>\n",
       "      <td>7.836415e+01</td>\n",
       "    </tr>\n",
       "  </tbody>\n",
       "</table>\n",
       "</div>"
      ],
      "text/plain": [
       "                  model_names    variable         value\n",
       "0              DummyRegressor  rmse_train  5.221517e+02\n",
       "1                         SVR  rmse_train  5.262221e+02\n",
       "2       DecisionTreeRegressor  rmse_train  6.806300e-17\n",
       "3       RandomForestRegressor  rmse_train  1.104450e+02\n",
       "4           AdaBoostRegressor  rmse_train  1.275749e+02\n",
       "5               LGBMRegressor  rmse_train  2.258408e+02\n",
       "6   GradientBoostingRegressor  rmse_train  6.066924e+00\n",
       "7         ExtraTreesRegressor  rmse_train  7.430878e-13\n",
       "8              DummyRegressor   rmse_test  6.054110e+02\n",
       "9                         SVR   rmse_test  6.117167e+02\n",
       "10      DecisionTreeRegressor   rmse_test  2.186444e+02\n",
       "11      RandomForestRegressor   rmse_test  1.881751e+02\n",
       "12          AdaBoostRegressor   rmse_test  2.586630e+02\n",
       "13              LGBMRegressor   rmse_test  2.275807e+02\n",
       "14  GradientBoostingRegressor   rmse_test  1.724768e+02\n",
       "15        ExtraTreesRegressor   rmse_test  7.836415e+01"
      ]
     },
     "execution_count": 31,
     "metadata": {},
     "output_type": "execute_result"
    }
   ],
   "source": [
    "df_score_melt"
   ]
  },
  {
   "cell_type": "code",
   "execution_count": 34,
   "id": "ed41eb57",
   "metadata": {},
   "outputs": [
    {
     "data": {
      "text/plain": [
       "<AxesSubplot: xlabel='value', ylabel='model_names'>"
      ]
     },
     "execution_count": 34,
     "metadata": {},
     "output_type": "execute_result"
    },
    {
     "data": {
      "image/png": "[encoded data removed]",
      "text/plain": [
       "<Figure size 1200x1000 with 1 Axes>"
      ]
     },
     "metadata": {},
     "output_type": "display_data"
    }
   ],
   "source": [
    "plt.figure(figsize=(12, 10))\n",
    "sns.barplot(y=\"model_names\", x=\"value\", hue=\"variable\", data=df_score_melt)"
   ]
  },
  {
   "cell_type": "code",
   "execution_count": 38,
   "id": "0da4bf28",
   "metadata": {},
   "outputs": [
    {
     "data": {
      "application/vnd.plotly.v1+json": {
       "config": {
        "plotlyServerURL": "https://plot.ly"
       },
       "data": [
        {
         "alignmentgroup": "True",
         "bingroup": "x",
         "histfunc": "sum",
         "hovertemplate": "variable=rmse_train<br>model_names=%{x}<br>sum of value=%{y}<extra></extra>",
         "legendgroup": "rmse_train",
         "marker": {
          "color": "#636efa",
          "pattern": {
           "shape": ""
          }
         },
         "name": "rmse_train",
         "offsetgroup": "rmse_train",
         "orientation": "v",
         "showlegend": true,
         "type": "histogram",
         "x": [
          "DummyRegressor",
          "SVR",
          "DecisionTreeRegressor",
          "RandomForestRegressor",
          "AdaBoostRegressor",
          "LGBMRegressor",
          "GradientBoostingRegressor",
          "ExtraTreesRegressor"
         ],
         "xaxis": "x",
         "y": [
          522.1517096117061,
          526.2220732698163,
          6.806300338648863e-17,
          110.44498338503433,
          127.57487159110619,
          225.84080224264528,
          6.066924303467884,
          7.430877979702966e-13
         ],
         "yaxis": "y"
        },
        {
         "alignmentgroup": "True",
         "bingroup": "x",
         "histfunc": "sum",
         "hovertemplate": "variable=rmse_test<br>model_names=%{x}<br>sum of value=%{y}<extra></extra>",
         "legendgroup": "rmse_test",
         "marker": {
          "color": "#EF553B",
          "pattern": {
           "shape": ""
          }
         },
         "name": "rmse_test",
         "offsetgroup": "rmse_test",
         "orientation": "v",
         "showlegend": true,
         "type": "histogram",
         "x": [
          "DummyRegressor",
          "SVR",
          "DecisionTreeRegressor",
          "RandomForestRegressor",
          "AdaBoostRegressor",
          "LGBMRegressor",
          "GradientBoostingRegressor",
          "ExtraTreesRegressor"
         ],
         "xaxis": "x",
         "y": [
          605.4110116386103,
          611.7167407294971,
          218.64435241658123,
          188.17509104071277,
          258.6629625815687,
          227.58067171357214,
          172.47684548744522,
          78.36414829547144
         ],
         "yaxis": "y"
        }
       ],
       "layout": {
        "barmode": "group",
        "height": 500,
        "legend": {
         "title": {
          "text": "variable"
         },
         "tracegroupgap": 0
        },
        "margin": {
         "t": 60
        },
        "template": {
         "data": {
          "bar": [
           {
            "error_x": {
             "color": "#2a3f5f"
            },
            "error_y": {
             "color": "#2a3f5f"
            },
            "marker": {
             "line": {
              "color": "#E5ECF6",
              "width": 0.5
             },
             "pattern": {
              "fillmode": "overlay",
              "size": 10,
              "solidity": 0.2
             }
            },
            "type": "bar"
           }
          ],
          "barpolar": [
           {
            "marker": {
             "line": {
              "color": "#E5ECF6",
              "width": 0.5
             },
             "pattern": {
              "fillmode": "overlay",
              "size": 10,
              "solidity": 0.2
             }
            },
            "type": "barpolar"
           }
          ],
          "carpet": [
           {
            "aaxis": {
             "endlinecolor": "#2a3f5f",
             "gridcolor": "white",
             "linecolor": "white",
             "minorgridcolor": "white",
             "startlinecolor": "#2a3f5f"
            },
            "baxis": {
             "endlinecolor": "#2a3f5f",
             "gridcolor": "white",
             "linecolor": "white",
             "minorgridcolor": "white",
             "startlinecolor": "#2a3f5f"
            },
            "type": "carpet"
           }
          ],
          "choropleth": [
           {
            "colorbar": {
             "outlinewidth": 0,
             "ticks": ""
            },
            "type": "choropleth"
           }
          ],
          "contour": [
           {
            "colorbar": {
             "outlinewidth": 0,
             "ticks": ""
            },
            "colorscale": [
             [
              0,
              "#0d0887"
             ],
             [
              0.1111111111111111,
              "#46039f"
             ],
             [
              0.2222222222222222,
              "#7201a8"
             ],
             [
              0.3333333333333333,
              "#9c179e"
             ],
             [
              0.4444444444444444,
              "#bd3786"
             ],
             [
              0.5555555555555556,
              "#d8576b"
             ],
             [
              0.6666666666666666,
              "#ed7953"
             ],
             [
              0.7777777777777778,
              "#fb9f3a"
             ],
             [
              0.8888888888888888,
              "#fdca26"
             ],
             [
              1,
              "#f0f921"
             ]
            ],
            "type": "contour"
           }
          ],
          "contourcarpet": [
           {
            "colorbar": {
             "outlinewidth": 0,
             "ticks": ""
            },
            "type": "contourcarpet"
           }
          ],
          "heatmap": [
           {
            "colorbar": {
             "outlinewidth": 0,
             "ticks": ""
            },
            "colorscale": [
             [
              0,
              "#0d0887"
             ],
             [
              0.1111111111111111,
              "#46039f"
             ],
             [
              0.2222222222222222,
              "#7201a8"
             ],
             [
              0.3333333333333333,
              "#9c179e"
             ],
             [
              0.4444444444444444,
              "#bd3786"
             ],
             [
              0.5555555555555556,
              "#d8576b"
             ],
             [
              0.6666666666666666,
              "#ed7953"
             ],
             [
              0.7777777777777778,
              "#fb9f3a"
             ],
             [
              0.8888888888888888,
              "#fdca26"
             ],
             [
              1,
              "#f0f921"
             ]
            ],
            "type": "heatmap"
           }
          ],
          "heatmapgl": [
           {
            "colorbar": {
             "outlinewidth": 0,
             "ticks": ""
            },
            "colorscale": [
             [
              0,
              "#0d0887"
             ],
             [
              0.1111111111111111,
              "#46039f"
             ],
             [
              0.2222222222222222,
              "#7201a8"
             ],
             [
              0.3333333333333333,
              "#9c179e"
             ],
             [
              0.4444444444444444,
              "#bd3786"
             ],
             [
              0.5555555555555556,
              "#d8576b"
             ],
             [
              0.6666666666666666,
              "#ed7953"
             ],
             [
              0.7777777777777778,
              "#fb9f3a"
             ],
             [
              0.8888888888888888,
              "#fdca26"
             ],
             [
              1,
              "#f0f921"
             ]
            ],
            "type": "heatmapgl"
           }
          ],
          "histogram": [
           {
            "marker": {
             "pattern": {
              "fillmode": "overlay",
              "size": 10,
              "solidity": 0.2
             }
            },
            "type": "histogram"
           }
          ],
          "histogram2d": [
           {
            "colorbar": {
             "outlinewidth": 0,
             "ticks": ""
            },
            "colorscale": [
             [
              0,
              "#0d0887"
             ],
             [
              0.1111111111111111,
              "#46039f"
             ],
             [
              0.2222222222222222,
              "#7201a8"
             ],
             [
              0.3333333333333333,
              "#9c179e"
             ],
             [
              0.4444444444444444,
              "#bd3786"
             ],
             [
              0.5555555555555556,
              "#d8576b"
             ],
             [
              0.6666666666666666,
              "#ed7953"
             ],
             [
              0.7777777777777778,
              "#fb9f3a"
             ],
             [
              0.8888888888888888,
              "#fdca26"
             ],
             [
              1,
              "#f0f921"
             ]
            ],
            "type": "histogram2d"
           }
          ],
          "histogram2dcontour": [
           {
            "colorbar": {
             "outlinewidth": 0,
             "ticks": ""
            },
            "colorscale": [
             [
              0,
              "#0d0887"
             ],
             [
              0.1111111111111111,
              "#46039f"
             ],
             [
              0.2222222222222222,
              "#7201a8"
             ],
             [
              0.3333333333333333,
              "#9c179e"
             ],
             [
              0.4444444444444444,
              "#bd3786"
             ],
             [
              0.5555555555555556,
              "#d8576b"
             ],
             [
              0.6666666666666666,
              "#ed7953"
             ],
             [
              0.7777777777777778,
              "#fb9f3a"
             ],
             [
              0.8888888888888888,
              "#fdca26"
             ],
             [
              1,
              "#f0f921"
             ]
            ],
            "type": "histogram2dcontour"
           }
          ],
          "mesh3d": [
           {
            "colorbar": {
             "outlinewidth": 0,
             "ticks": ""
            },
            "type": "mesh3d"
           }
          ],
          "parcoords": [
           {
            "line": {
             "colorbar": {
              "outlinewidth": 0,
              "ticks": ""
             }
            },
            "type": "parcoords"
           }
          ],
          "pie": [
           {
            "automargin": true,
            "type": "pie"
           }
          ],
          "scatter": [
           {
            "fillpattern": {
             "fillmode": "overlay",
             "size": 10,
             "solidity": 0.2
            },
            "type": "scatter"
           }
          ],
          "scatter3d": [
           {
            "line": {
             "colorbar": {
              "outlinewidth": 0,
              "ticks": ""
             }
            },
            "marker": {
             "colorbar": {
              "outlinewidth": 0,
              "ticks": ""
             }
            },
            "type": "scatter3d"
           }
          ],
          "scattercarpet": [
           {
            "marker": {
             "colorbar": {
              "outlinewidth": 0,
              "ticks": ""
             }
            },
            "type": "scattercarpet"
           }
          ],
          "scattergeo": [
           {
            "marker": {
             "colorbar": {
              "outlinewidth": 0,
              "ticks": ""
             }
            },
            "type": "scattergeo"
           }
          ],
          "scattergl": [
           {
            "marker": {
             "colorbar": {
              "outlinewidth": 0,
              "ticks": ""
             }
            },
            "type": "scattergl"
           }
          ],
          "scattermapbox": [
           {
            "marker": {
             "colorbar": {
              "outlinewidth": 0,
              "ticks": ""
             }
            },
            "type": "scattermapbox"
           }
          ],
          "scatterpolar": [
           {
            "marker": {
             "colorbar": {
              "outlinewidth": 0,
              "ticks": ""
             }
            },
            "type": "scatterpolar"
           }
          ],
          "scatterpolargl": [
           {
            "marker": {
             "colorbar": {
              "outlinewidth": 0,
              "ticks": ""
             }
            },
            "type": "scatterpolargl"
           }
          ],
          "scatterternary": [
           {
            "marker": {
             "colorbar": {
              "outlinewidth": 0,
              "ticks": ""
             }
            },
            "type": "scatterternary"
           }
          ],
          "surface": [
           {
            "colorbar": {
             "outlinewidth": 0,
             "ticks": ""
            },
            "colorscale": [
             [
              0,
              "#0d0887"
             ],
             [
              0.1111111111111111,
              "#46039f"
             ],
             [
              0.2222222222222222,
              "#7201a8"
             ],
             [
              0.3333333333333333,
              "#9c179e"
             ],
             [
              0.4444444444444444,
              "#bd3786"
             ],
             [
              0.5555555555555556,
              "#d8576b"
             ],
             [
              0.6666666666666666,
              "#ed7953"
             ],
             [
              0.7777777777777778,
              "#fb9f3a"
             ],
             [
              0.8888888888888888,
              "#fdca26"
             ],
             [
              1,
              "#f0f921"
             ]
            ],
            "type": "surface"
           }
          ],
          "table": [
           {
            "cells": {
             "fill": {
              "color": "#EBF0F8"
             },
             "line": {
              "color": "white"
             }
            },
            "header": {
             "fill": {
              "color": "#C8D4E3"
             },
             "line": {
              "color": "white"
             }
            },
            "type": "table"
           }
          ]
         },
         "layout": {
          "annotationdefaults": {
           "arrowcolor": "#2a3f5f",
           "arrowhead": 0,
           "arrowwidth": 1
          },
          "autotypenumbers": "strict",
          "coloraxis": {
           "colorbar": {
            "outlinewidth": 0,
            "ticks": ""
           }
          },
          "colorscale": {
           "diverging": [
            [
             0,
             "#8e0152"
            ],
            [
             0.1,
             "#c51b7d"
            ],
            [
             0.2,
             "#de77ae"
            ],
            [
             0.3,
             "#f1b6da"
            ],
            [
             0.4,
             "#fde0ef"
            ],
            [
             0.5,
             "#f7f7f7"
            ],
            [
             0.6,
             "#e6f5d0"
            ],
            [
             0.7,
             "#b8e186"
            ],
            [
             0.8,
             "#7fbc41"
            ],
            [
             0.9,
             "#4d9221"
            ],
            [
             1,
             "#276419"
            ]
           ],
           "sequential": [
            [
             0,
             "#0d0887"
            ],
            [
             0.1111111111111111,
             "#46039f"
            ],
            [
             0.2222222222222222,
             "#7201a8"
            ],
            [
             0.3333333333333333,
             "#9c179e"
            ],
            [
             0.4444444444444444,
             "#bd3786"
            ],
            [
             0.5555555555555556,
             "#d8576b"
            ],
            [
             0.6666666666666666,
             "#ed7953"
            ],
            [
             0.7777777777777778,
             "#fb9f3a"
            ],
            [
             0.8888888888888888,
             "#fdca26"
            ],
            [
             1,
             "#f0f921"
            ]
           ],
           "sequentialminus": [
            [
             0,
             "#0d0887"
            ],
            [
             0.1111111111111111,
             "#46039f"
            ],
            [
             0.2222222222222222,
             "#7201a8"
            ],
            [
             0.3333333333333333,
             "#9c179e"
            ],
            [
             0.4444444444444444,
             "#bd3786"
            ],
            [
             0.5555555555555556,
             "#d8576b"
            ],
            [
             0.6666666666666666,
             "#ed7953"
            ],
            [
             0.7777777777777778,
             "#fb9f3a"
            ],
            [
             0.8888888888888888,
             "#fdca26"
            ],
            [
             1,
             "#f0f921"
            ]
           ]
          },
          "colorway": [
           "#636efa",
           "#EF553B",
           "#00cc96",
           "#ab63fa",
           "#FFA15A",
           "#19d3f3",
           "#FF6692",
           "#B6E880",
           "#FF97FF",
           "#FECB52"
          ],
          "font": {
           "color": "#2a3f5f"
          },
          "geo": {
           "bgcolor": "white",
           "lakecolor": "white",
           "landcolor": "#E5ECF6",
           "showlakes": true,
           "showland": true,
           "subunitcolor": "white"
          },
          "hoverlabel": {
           "align": "left"
          },
          "hovermode": "closest",
          "mapbox": {
           "style": "light"
          },
          "paper_bgcolor": "white",
          "plot_bgcolor": "#E5ECF6",
          "polar": {
           "angularaxis": {
            "gridcolor": "white",
            "linecolor": "white",
            "ticks": ""
           },
           "bgcolor": "#E5ECF6",
           "radialaxis": {
            "gridcolor": "white",
            "linecolor": "white",
            "ticks": ""
           }
          },
          "scene": {
           "xaxis": {
            "backgroundcolor": "#E5ECF6",
            "gridcolor": "white",
            "gridwidth": 2,
            "linecolor": "white",
            "showbackground": true,
            "ticks": "",
            "zerolinecolor": "white"
           },
           "yaxis": {
            "backgroundcolor": "#E5ECF6",
            "gridcolor": "white",
            "gridwidth": 2,
            "linecolor": "white",
            "showbackground": true,
            "ticks": "",
            "zerolinecolor": "white"
           },
           "zaxis": {
            "backgroundcolor": "#E5ECF6",
            "gridcolor": "white",
            "gridwidth": 2,
            "linecolor": "white",
            "showbackground": true,
            "ticks": "",
            "zerolinecolor": "white"
           }
          },
          "shapedefaults": {
           "line": {
            "color": "#2a3f5f"
           }
          },
          "ternary": {
           "aaxis": {
            "gridcolor": "white",
            "linecolor": "white",
            "ticks": ""
           },
           "baxis": {
            "gridcolor": "white",
            "linecolor": "white",
            "ticks": ""
           },
           "bgcolor": "#E5ECF6",
           "caxis": {
            "gridcolor": "white",
            "linecolor": "white",
            "ticks": ""
           }
          },
          "title": {
           "x": 0.05
          },
          "xaxis": {
           "automargin": true,
           "gridcolor": "white",
           "linecolor": "white",
           "ticks": "",
           "title": {
            "standoff": 15
           },
           "zerolinecolor": "white",
           "zerolinewidth": 2
          },
          "yaxis": {
           "automargin": true,
           "gridcolor": "white",
           "linecolor": "white",
           "ticks": "",
           "title": {
            "standoff": 15
           },
           "zerolinecolor": "white",
           "zerolinewidth": 2
          }
         }
        },
        "width": 800,
        "xaxis": {
         "anchor": "y",
         "domain": [
          0,
          1
         ],
         "title": {
          "text": "model_names"
         }
        },
        "yaxis": {
         "anchor": "x",
         "domain": [
          0,
          1
         ],
         "title": {
          "text": "sum of value"
         }
        }
       }
      },
      "text/html": [
       "<div>                            <div id=\"1c350f3b-80c1-40d2-ac73-45047388ef16\" class=\"plotly-graph-div\" style=\"height:500px; width:800px;\"></div>            <script type=\"text/javascript\">                require([\"plotly\"], function(Plotly) {                    window.PLOTLYENV=window.PLOTLYENV || {};                                    if (document.getElementById(\"1c350f3b-80c1-40d2-ac73-45047388ef16\")) {                    Plotly.newPlot(                        \"1c350f3b-80c1-40d2-ac73-45047388ef16\",                        [{\"alignmentgroup\":\"True\",\"bingroup\":\"x\",\"histfunc\":\"sum\",\"hovertemplate\":\"variable=rmse_train<br>model_names=%{x}<br>sum of value=%{y}<extra></extra>\",\"legendgroup\":\"rmse_train\",\"marker\":{\"color\":\"#636efa\",\"pattern\":{\"shape\":\"\"}},\"name\":\"rmse_train\",\"offsetgroup\":\"rmse_train\",\"orientation\":\"v\",\"showlegend\":true,\"x\":[\"DummyRegressor\",\"SVR\",\"DecisionTreeRegressor\",\"RandomForestRegressor\",\"AdaBoostRegressor\",\"LGBMRegressor\",\"GradientBoostingRegressor\",\"ExtraTreesRegressor\"],\"xaxis\":\"x\",\"y\":[522.1517096117061,526.2220732698163,6.806300338648863e-17,110.44498338503433,127.57487159110619,225.84080224264528,6.066924303467884,7.430877979702966e-13],\"yaxis\":\"y\",\"type\":\"histogram\"},{\"alignmentgroup\":\"True\",\"bingroup\":\"x\",\"histfunc\":\"sum\",\"hovertemplate\":\"variable=rmse_test<br>model_names=%{x}<br>sum of value=%{y}<extra></extra>\",\"legendgroup\":\"rmse_test\",\"marker\":{\"color\":\"#EF553B\",\"pattern\":{\"shape\":\"\"}},\"name\":\"rmse_test\",\"offsetgroup\":\"rmse_test\",\"orientation\":\"v\",\"showlegend\":true,\"x\":[\"DummyRegressor\",\"SVR\",\"DecisionTreeRegressor\",\"RandomForestRegressor\",\"AdaBoostRegressor\",\"LGBMRegressor\",\"GradientBoostingRegressor\",\"ExtraTreesRegressor\"],\"xaxis\":\"x\",\"y\":[605.4110116386103,611.7167407294971,218.64435241658123,188.17509104071277,258.6629625815687,227.58067171357214,172.47684548744522,78.36414829547144],\"yaxis\":\"y\",\"type\":\"histogram\"}],                        {\"template\":{\"data\":{\"histogram2dcontour\":[{\"type\":\"histogram2dcontour\",\"colorbar\":{\"outlinewidth\":0,\"ticks\":\"\"},\"colorscale\":[[0.0,\"#0d0887\"],[0.1111111111111111,\"#46039f\"],[0.2222222222222222,\"#7201a8\"],[0.3333333333333333,\"#9c179e\"],[0.4444444444444444,\"#bd3786\"],[0.5555555555555556,\"#d8576b\"],[0.6666666666666666,\"#ed7953\"],[0.7777777777777778,\"#fb9f3a\"],[0.8888888888888888,\"#fdca26\"],[1.0,\"#f0f921\"]]}],\"choropleth\":[{\"type\":\"choropleth\",\"colorbar\":{\"outlinewidth\":0,\"ticks\":\"\"}}],\"histogram2d\":[{\"type\":\"histogram2d\",\"colorbar\":{\"outlinewidth\":0,\"ticks\":\"\"},\"colorscale\":[[0.0,\"#0d0887\"],[0.1111111111111111,\"#46039f\"],[0.2222222222222222,\"#7201a8\"],[0.3333333333333333,\"#9c179e\"],[0.4444444444444444,\"#bd3786\"],[0.5555555555555556,\"#d8576b\"],[0.6666666666666666,\"#ed7953\"],[0.7777777777777778,\"#fb9f3a\"],[0.8888888888888888,\"#fdca26\"],[1.0,\"#f0f921\"]]}],\"heatmap\":[{\"type\":\"heatmap\",\"colorbar\":{\"outlinewidth\":0,\"ticks\":\"\"},\"colorscale\":[[0.0,\"#0d0887\"],[0.1111111111111111,\"#46039f\"],[0.2222222222222222,\"#7201a8\"],[0.3333333333333333,\"#9c179e\"],[0.4444444444444444,\"#bd3786\"],[0.5555555555555556,\"#d8576b\"],[0.6666666666666666,\"#ed7953\"],[0.7777777777777778,\"#fb9f3a\"],[0.8888888888888888,\"#fdca26\"],[1.0,\"#f0f921\"]]}],\"heatmapgl\":[{\"type\":\"heatmapgl\",\"colorbar\":{\"outlinewidth\":0,\"ticks\":\"\"},\"colorscale\":[[0.0,\"#0d0887\"],[0.1111111111111111,\"#46039f\"],[0.2222222222222222,\"#7201a8\"],[0.3333333333333333,\"#9c179e\"],[0.4444444444444444,\"#bd3786\"],[0.5555555555555556,\"#d8576b\"],[0.6666666666666666,\"#ed7953\"],[0.7777777777777778,\"#fb9f3a\"],[0.8888888888888888,\"#fdca26\"],[1.0,\"#f0f921\"]]}],\"contourcarpet\":[{\"type\":\"contourcarpet\",\"colorbar\":{\"outlinewidth\":0,\"ticks\":\"\"}}],\"contour\":[{\"type\":\"contour\",\"colorbar\":{\"outlinewidth\":0,\"ticks\":\"\"},\"colorscale\":[[0.0,\"#0d0887\"],[0.1111111111111111,\"#46039f\"],[0.2222222222222222,\"#7201a8\"],[0.3333333333333333,\"#9c179e\"],[0.4444444444444444,\"#bd3786\"],[0.5555555555555556,\"#d8576b\"],[0.6666666666666666,\"#ed7953\"],[0.7777777777777778,\"#fb9f3a\"],[0.8888888888888888,\"#fdca26\"],[1.0,\"#f0f921\"]]}],\"surface\":[{\"type\":\"surface\",\"colorbar\":{\"outlinewidth\":0,\"ticks\":\"\"},\"colorscale\":[[0.0,\"#0d0887\"],[0.1111111111111111,\"#46039f\"],[0.2222222222222222,\"#7201a8\"],[0.3333333333333333,\"#9c179e\"],[0.4444444444444444,\"#bd3786\"],[0.5555555555555556,\"#d8576b\"],[0.6666666666666666,\"#ed7953\"],[0.7777777777777778,\"#fb9f3a\"],[0.8888888888888888,\"#fdca26\"],[1.0,\"#f0f921\"]]}],\"mesh3d\":[{\"type\":\"mesh3d\",\"colorbar\":{\"outlinewidth\":0,\"ticks\":\"\"}}],\"scatter\":[{\"fillpattern\":{\"fillmode\":\"overlay\",\"size\":10,\"solidity\":0.2},\"type\":\"scatter\"}],\"parcoords\":[{\"type\":\"parcoords\",\"line\":{\"colorbar\":{\"outlinewidth\":0,\"ticks\":\"\"}}}],\"scatterpolargl\":[{\"type\":\"scatterpolargl\",\"marker\":{\"colorbar\":{\"outlinewidth\":0,\"ticks\":\"\"}}}],\"bar\":[{\"error_x\":{\"color\":\"#2a3f5f\"},\"error_y\":{\"color\":\"#2a3f5f\"},\"marker\":{\"line\":{\"color\":\"#E5ECF6\",\"width\":0.5},\"pattern\":{\"fillmode\":\"overlay\",\"size\":10,\"solidity\":0.2}},\"type\":\"bar\"}],\"scattergeo\":[{\"type\":\"scattergeo\",\"marker\":{\"colorbar\":{\"outlinewidth\":0,\"ticks\":\"\"}}}],\"scatterpolar\":[{\"type\":\"scatterpolar\",\"marker\":{\"colorbar\":{\"outlinewidth\":0,\"ticks\":\"\"}}}],\"histogram\":[{\"marker\":{\"pattern\":{\"fillmode\":\"overlay\",\"size\":10,\"solidity\":0.2}},\"type\":\"histogram\"}],\"scattergl\":[{\"type\":\"scattergl\",\"marker\":{\"colorbar\":{\"outlinewidth\":0,\"ticks\":\"\"}}}],\"scatter3d\":[{\"type\":\"scatter3d\",\"line\":{\"colorbar\":{\"outlinewidth\":0,\"ticks\":\"\"}},\"marker\":{\"colorbar\":{\"outlinewidth\":0,\"ticks\":\"\"}}}],\"scattermapbox\":[{\"type\":\"scattermapbox\",\"marker\":{\"colorbar\":{\"outlinewidth\":0,\"ticks\":\"\"}}}],\"scatterternary\":[{\"type\":\"scatterternary\",\"marker\":{\"colorbar\":{\"outlinewidth\":0,\"ticks\":\"\"}}}],\"scattercarpet\":[{\"type\":\"scattercarpet\",\"marker\":{\"colorbar\":{\"outlinewidth\":0,\"ticks\":\"\"}}}],\"carpet\":[{\"aaxis\":{\"endlinecolor\":\"#2a3f5f\",\"gridcolor\":\"white\",\"linecolor\":\"white\",\"minorgridcolor\":\"white\",\"startlinecolor\":\"#2a3f5f\"},\"baxis\":{\"endlinecolor\":\"#2a3f5f\",\"gridcolor\":\"white\",\"linecolor\":\"white\",\"minorgridcolor\":\"white\",\"startlinecolor\":\"#2a3f5f\"},\"type\":\"carpet\"}],\"table\":[{\"cells\":{\"fill\":{\"color\":\"#EBF0F8\"},\"line\":{\"color\":\"white\"}},\"header\":{\"fill\":{\"color\":\"#C8D4E3\"},\"line\":{\"color\":\"white\"}},\"type\":\"table\"}],\"barpolar\":[{\"marker\":{\"line\":{\"color\":\"#E5ECF6\",\"width\":0.5},\"pattern\":{\"fillmode\":\"overlay\",\"size\":10,\"solidity\":0.2}},\"type\":\"barpolar\"}],\"pie\":[{\"automargin\":true,\"type\":\"pie\"}]},\"layout\":{\"autotypenumbers\":\"strict\",\"colorway\":[\"#636efa\",\"#EF553B\",\"#00cc96\",\"#ab63fa\",\"#FFA15A\",\"#19d3f3\",\"#FF6692\",\"#B6E880\",\"#FF97FF\",\"#FECB52\"],\"font\":{\"color\":\"#2a3f5f\"},\"hovermode\":\"closest\",\"hoverlabel\":{\"align\":\"left\"},\"paper_bgcolor\":\"white\",\"plot_bgcolor\":\"#E5ECF6\",\"polar\":{\"bgcolor\":\"#E5ECF6\",\"angularaxis\":{\"gridcolor\":\"white\",\"linecolor\":\"white\",\"ticks\":\"\"},\"radialaxis\":{\"gridcolor\":\"white\",\"linecolor\":\"white\",\"ticks\":\"\"}},\"ternary\":{\"bgcolor\":\"#E5ECF6\",\"aaxis\":{\"gridcolor\":\"white\",\"linecolor\":\"white\",\"ticks\":\"\"},\"baxis\":{\"gridcolor\":\"white\",\"linecolor\":\"white\",\"ticks\":\"\"},\"caxis\":{\"gridcolor\":\"white\",\"linecolor\":\"white\",\"ticks\":\"\"}},\"coloraxis\":{\"colorbar\":{\"outlinewidth\":0,\"ticks\":\"\"}},\"colorscale\":{\"sequential\":[[0.0,\"#0d0887\"],[0.1111111111111111,\"#46039f\"],[0.2222222222222222,\"#7201a8\"],[0.3333333333333333,\"#9c179e\"],[0.4444444444444444,\"#bd3786\"],[0.5555555555555556,\"#d8576b\"],[0.6666666666666666,\"#ed7953\"],[0.7777777777777778,\"#fb9f3a\"],[0.8888888888888888,\"#fdca26\"],[1.0,\"#f0f921\"]],\"sequentialminus\":[[0.0,\"#0d0887\"],[0.1111111111111111,\"#46039f\"],[0.2222222222222222,\"#7201a8\"],[0.3333333333333333,\"#9c179e\"],[0.4444444444444444,\"#bd3786\"],[0.5555555555555556,\"#d8576b\"],[0.6666666666666666,\"#ed7953\"],[0.7777777777777778,\"#fb9f3a\"],[0.8888888888888888,\"#fdca26\"],[1.0,\"#f0f921\"]],\"diverging\":[[0,\"#8e0152\"],[0.1,\"#c51b7d\"],[0.2,\"#de77ae\"],[0.3,\"#f1b6da\"],[0.4,\"#fde0ef\"],[0.5,\"#f7f7f7\"],[0.6,\"#e6f5d0\"],[0.7,\"#b8e186\"],[0.8,\"#7fbc41\"],[0.9,\"#4d9221\"],[1,\"#276419\"]]},\"xaxis\":{\"gridcolor\":\"white\",\"linecolor\":\"white\",\"ticks\":\"\",\"title\":{\"standoff\":15},\"zerolinecolor\":\"white\",\"automargin\":true,\"zerolinewidth\":2},\"yaxis\":{\"gridcolor\":\"white\",\"linecolor\":\"white\",\"ticks\":\"\",\"title\":{\"standoff\":15},\"zerolinecolor\":\"white\",\"automargin\":true,\"zerolinewidth\":2},\"scene\":{\"xaxis\":{\"backgroundcolor\":\"#E5ECF6\",\"gridcolor\":\"white\",\"linecolor\":\"white\",\"showbackground\":true,\"ticks\":\"\",\"zerolinecolor\":\"white\",\"gridwidth\":2},\"yaxis\":{\"backgroundcolor\":\"#E5ECF6\",\"gridcolor\":\"white\",\"linecolor\":\"white\",\"showbackground\":true,\"ticks\":\"\",\"zerolinecolor\":\"white\",\"gridwidth\":2},\"zaxis\":{\"backgroundcolor\":\"#E5ECF6\",\"gridcolor\":\"white\",\"linecolor\":\"white\",\"showbackground\":true,\"ticks\":\"\",\"zerolinecolor\":\"white\",\"gridwidth\":2}},\"shapedefaults\":{\"line\":{\"color\":\"#2a3f5f\"}},\"annotationdefaults\":{\"arrowcolor\":\"#2a3f5f\",\"arrowhead\":0,\"arrowwidth\":1},\"geo\":{\"bgcolor\":\"white\",\"landcolor\":\"#E5ECF6\",\"subunitcolor\":\"white\",\"showland\":true,\"showlakes\":true,\"lakecolor\":\"white\"},\"title\":{\"x\":0.05},\"mapbox\":{\"style\":\"light\"}}},\"xaxis\":{\"anchor\":\"y\",\"domain\":[0.0,1.0],\"title\":{\"text\":\"model_names\"}},\"yaxis\":{\"anchor\":\"x\",\"domain\":[0.0,1.0],\"title\":{\"text\":\"sum of value\"}},\"legend\":{\"title\":{\"text\":\"variable\"},\"tracegroupgap\":0},\"margin\":{\"t\":60},\"barmode\":\"group\",\"height\":500,\"width\":800},                        {\"responsive\": true}                    ).then(function(){\n",
       "                            \n",
       "var gd = document.getElementById('1c350f3b-80c1-40d2-ac73-45047388ef16');\n",
       "var x = new MutationObserver(function (mutations, observer) {{\n",
       "        var display = window.getComputedStyle(gd).display;\n",
       "        if (!display || display === 'none') {{\n",
       "            console.log([gd, 'removed!']);\n",
       "            Plotly.purge(gd);\n",
       "            observer.disconnect();\n",
       "        }}\n",
       "}});\n",
       "\n",
       "// Listen for the removal of the full notebook cells\n",
       "var notebookContainer = gd.closest('#notebook-container');\n",
       "if (notebookContainer) {{\n",
       "    x.observe(notebookContainer, {childList: true});\n",
       "}}\n",
       "\n",
       "// Listen for the clearing of the current output cell\n",
       "var outputEl = gd.closest('.output');\n",
       "if (outputEl) {{\n",
       "    x.observe(outputEl, {childList: true});\n",
       "}}\n",
       "\n",
       "                        })                };                });            </script>        </div>"
      ]
     },
     "metadata": {},
     "output_type": "display_data"
    }
   ],
   "source": [
    "px.histogram(\n",
    "    df_score_melt,\n",
    "    x=\"model_names\",\n",
    "    y=\"value\",\n",
    "    color='variable',\n",
    "    barmode='group',\n",
    "    width=800,\n",
    "    height=500\n",
    ").show()"
   ]
  },
  {
   "cell_type": "code",
   "execution_count": null,
   "id": "6d34b7f6",
   "metadata": {},
   "outputs": [],
   "source": []
  }
 ],
 "metadata": {
  "kernelspec": {
   "display_name": "Python 3 (ipykernel)",
   "language": "python",
   "name": "python3"
  },
  "language_info": {
   "codemirror_mode": {
    "name": "ipython",
    "version": 3
   },
   "file_extension": ".py",
   "mimetype": "text/x-python",
   "name": "python",
   "nbconvert_exporter": "python",
   "pygments_lexer": "ipython3",
   "version": "3.9.15"
  }
 },
 "nbformat": 4,
 "nbformat_minor": 5
}

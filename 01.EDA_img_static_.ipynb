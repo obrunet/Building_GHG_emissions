{
 "cells": [
  {
   "cell_type": "markdown",
   "id": "14224180",
   "metadata": {
    "id": "14224180"
   },
   "source": [
    "![title](./backup/robert-ritchie-JEicDFy5Cd8-unsplash_Copy.jpg)  \n",
    "\n",
    "Photo by <a href=\"https://unsplash.com/@robert___ritchie?utm_source=unsplash&utm_medium=referral&utm_content=creditCopyText\">Robert Ritchie</a> on <a href=\"https://unsplash.com/fr/photos/JEicDFy5Cd8?utm_source=unsplash&utm_medium=referral&utm_content=creditCopyText\">Unsplash</a>\n",
    "\n",
    "__Preambule__: [here is the orignal notebook]() that can be run flawlessly. Since Plotly data visualisations can't be saved offline with their interactive property, this notebook used images saved to show the plots.  \n",
    "\n",
    "# Datasets & Problem Statement\n",
    "\n",
    "\n",
    "The datasets come form the [open data platform provided by the city of Seattle](https://data.seattle.gov/). Seattle’s Building Energy Benchmarking and Reporting Program requires owners of non-residential and multifamily buildings (20,000 square feet or larger) to track energy performance and annually report to the City of Seattle. Buildings account for 33% of Seattle's core emissions. The benchmarking policy supports Seattle's goals to reduce energy use and greenhouse gas emissions from existing buildings.  \n",
    "\n",
    "In 2013, the City of Seattle adopted a Climate Action Plan to achieve zero net greenhouse gas (GHG) emissions by 2050. Annual benchmarking, reporting and disclosing of building performance are foundational elements of creating more market value for energy efficiency.\n",
    "\n",
    "The records for the years from 2015 to 2020 are available except 2018.\n",
    "\n",
    "Here i'm going to:\n",
    "- first in part 1, analyze all the informatins over the differents years.\n",
    "- then in the 2nd part, prepare the dataset for a specific year in order to make a prediction model of the total GHG emissions depending on the buildings' characteristics.\n",
    "\n",
    "This is the first part."
   ]
  },
  {
   "cell_type": "markdown",
   "id": "25bdb477",
   "metadata": {
    "id": "25bdb477"
   },
   "source": [
    "---\n",
    "\n",
    "## Requirements & imports\n",
    "\n",
    "If the notebook in run in colab / kaggle, or more generally in a new python virtual environnemnt, you should probably start by installing all the libraries. For that purpose use:\n",
    "`pip install requirements.txt` or with the command line:"
   ]
  },
  {
   "cell_type": "code",
   "execution_count": null,
   "id": "DAYjKgY8hpXi",
   "metadata": {
    "colab": {
     "base_uri": "https://localhost:8080/"
    },
    "executionInfo": {
     "elapsed": 9002,
     "status": "ok",
     "timestamp": 1678284239507,
     "user": {
      "displayName": "jean rochefort",
      "userId": "04520792891621341900"
     },
     "user_tz": -60
    },
    "id": "DAYjKgY8hpXi",
    "outputId": "d301f2e9-ea20-4c71-9734-90bef9815499"
   },
   "outputs": [],
   "source": [
    "!pip install dython missingno"
   ]
  },
  {
   "cell_type": "markdown",
   "id": "845111f4",
   "metadata": {},
   "source": [
    "This part is specific to colab in order to access the files / datasets stored in the drive, and set the paths in constants:"
   ]
  },
  {
   "cell_type": "code",
   "execution_count": 1,
   "id": "cqQ4oclNh44N",
   "metadata": {
    "colab": {
     "base_uri": "https://localhost:8080/"
    },
    "executionInfo": {
     "elapsed": 1852,
     "status": "ok",
     "timestamp": 1678284251469,
     "user": {
      "displayName": "jean rochefort",
      "userId": "04520792891621341900"
     },
     "user_tz": -60
    },
    "id": "cqQ4oclNh44N",
    "outputId": "63a7485f-e98f-41c7-9ff5-6fedb1732c4a"
   },
   "outputs": [],
   "source": [
    "COLAB = False\n",
    "\n",
    "if COLAB:\n",
    "    from google.colab import drive\n",
    "    drive.mount('/content/drive')\n",
    "\n",
    "    DATA_DIR = 'drive/MyDrive/energy/data'\n",
    "    DATA_OUTPUT = 'drive/MyDrive/energy/'\n",
    "else:\n",
    "    DATA_DIR = './data'\n",
    "    DATA_OUTPUT_DIR = './data/clean/'"
   ]
  },
  {
   "cell_type": "markdown",
   "id": "449dfca0",
   "metadata": {},
   "source": [
    "we can list them:"
   ]
  },
  {
   "cell_type": "code",
   "execution_count": null,
   "id": "1a090fda",
   "metadata": {},
   "outputs": [],
   "source": [
    "!ls drive/MyDrive/energy/data"
   ]
  },
  {
   "cell_type": "markdown",
   "id": "d3e36230",
   "metadata": {},
   "source": [
    "then import all the needed libs:"
   ]
  },
  {
   "cell_type": "code",
   "execution_count": 2,
   "id": "7a4ae718",
   "metadata": {},
   "outputs": [],
   "source": [
    "import os\n",
    "\n",
    "import numpy as np\n",
    "import pandas as pd\n",
    "pd.set_option('display.max_columns', 100)\n",
    "\n",
    "import missingno as msno\n",
    "from dython.nominal import associations\n",
    "\n",
    "import plotly.express as px\n",
    "import seaborn as sns\n",
    "%matplotlib inline\n",
    "import matplotlib.pyplot as plt\n",
    "\n",
    "from sklearn.impute import KNNImputer"
   ]
  },
  {
   "cell_type": "markdown",
   "id": "6d2d9dea",
   "metadata": {},
   "source": [
    "---\n",
    "\n",
    "# First insight & datasets homogenization \n",
    "\n",
    "Let's begin by detecting what may differs in the various datasets over the years, in order to be able later to compare them, and study the evolutions.\n",
    "\n",
    "## Breef peek into the building IDs over years\n",
    "\n",
    "How many unique ids are there for each year?"
   ]
  },
  {
   "cell_type": "code",
   "execution_count": 3,
   "id": "6bcf2b39",
   "metadata": {
    "colab": {
     "base_uri": "https://localhost:8080/"
    },
    "executionInfo": {
     "elapsed": 541,
     "status": "ok",
     "timestamp": 1678284523929,
     "user": {
      "displayName": "jean rochefort",
      "userId": "04520792891621341900"
     },
     "user_tz": -60
    },
    "id": "6bcf2b39",
    "outputId": "48978782-1851-4ad3-fd04-5f14ec653ad3"
   },
   "outputs": [
    {
     "name": "stdout",
     "output_type": "stream",
     "text": [
      "['2015-building-energy-benchmarking.csv', '2016-building-energy-benchmarking.csv', '2017-building-energy-benchmarking.csv', '2019-building-energy-benchmarking.csv', '2020-building-energy-benchmarking.csv']\n",
      "\n",
      "The field 'OSEBuildingID' can be used as index:\n",
      "For 2015 - nb unique IDs: 3340 - shape: (3340, 42) - duplicated rows: 0\n",
      "For 2016 - nb unique IDs: 3376 - shape: (3376, 46) - duplicated rows: 0\n",
      "For 2017 - nb unique IDs: 3461 - shape: (3461, 45) - duplicated rows: 0\n",
      "For 2019 - nb unique IDs: 3581 - shape: (3581, 42) - duplicated rows: 0\n",
      "For 2020 - nb unique IDs: 3628 - shape: (3628, 42) - duplicated rows: 0\n"
     ]
    }
   ],
   "source": [
    "csv_files = [f for f in os.listdir(DATA_DIR) if 'csv' in f]\n",
    "print(csv_files)\n",
    "\n",
    "dfs = {}\n",
    "for csv_file in csv_files:\n",
    "    dfs[int(csv_file[:4])] = pd.read_csv(os.path.join(DATA_DIR, csv_file))\n",
    "\n",
    "print(\"\\nThe field 'OSEBuildingID' can be used as index:\")\n",
    "for k, v in dfs.items():\n",
    "    print(f\"For {k} - nb unique IDs: {v.OSEBuildingID.nunique()} - shape: {v.shape} - duplicated rows: {v.duplicated().sum()}\")"
   ]
  },
  {
   "cell_type": "markdown",
   "id": "40f9e0e7",
   "metadata": {
    "id": "40f9e0e7"
   },
   "source": [
    "We can see that a large proportion of the building IDs are present in the recent benchmarkings. The number of recordings increase probably because more data is provided or new buildings are created. "
   ]
  },
  {
   "cell_type": "code",
   "execution_count": 4,
   "id": "7b412629",
   "metadata": {
    "colab": {
     "base_uri": "https://localhost:8080/"
    },
    "executionInfo": {
     "elapsed": 3922,
     "status": "ok",
     "timestamp": 1678284531687,
     "user": {
      "displayName": "jean rochefort",
      "userId": "04520792891621341900"
     },
     "user_tz": -60
    },
    "id": "7b412629",
    "outputId": "470df4df-1b93-417a-b9bf-ddf68a534522"
   },
   "outputs": [
    {
     "name": "stdout",
     "output_type": "stream",
     "text": [
      "For 2016, IDs in common w. previous year 97.3%\n",
      "For 2017, IDs in common w. previous year 96.5%\n",
      "For 2019, IDs in common w. previous year 94.7%\n",
      "For 2020, IDs in common w. previous year 97.3%\n"
     ]
    }
   ],
   "source": [
    "for i, k in enumerate(dfs.keys()):\n",
    "    if i == 0:\n",
    "        continue\n",
    "    nb_rows = dfs[list(dfs.keys())[i]].shape[0]\n",
    "    previous_ids = dfs[list(dfs.keys())[i-1]].OSEBuildingID.unique()\n",
    "    current_ids = dfs[list(dfs.keys())[i]].OSEBuildingID.unique()\n",
    "    nb_common_ids = np.intersect1d(previous_ids, current_ids, assume_unique=True).shape[0]\n",
    "    print(f\"For {k}, IDs in common w. previous year {nb_common_ids / nb_rows * 100:.1f}%\")"
   ]
  },
  {
   "cell_type": "markdown",
   "id": "e4968a58",
   "metadata": {
    "id": "e4968a58"
   },
   "source": [
    "## Analysis of columns in common or absent"
   ]
  },
  {
   "cell_type": "markdown",
   "id": "44c8f2cb",
   "metadata": {},
   "source": [
    "Differences are highlighted in yellow:"
   ]
  },
  {
   "cell_type": "code",
   "execution_count": 5,
   "id": "81f38096",
   "metadata": {
    "colab": {
     "base_uri": "https://localhost:8080/",
     "height": 1000
    },
    "executionInfo": {
     "elapsed": 21,
     "status": "ok",
     "timestamp": 1678284536056,
     "user": {
      "displayName": "jean rochefort",
      "userId": "04520792891621341900"
     },
     "user_tz": -60
    },
    "id": "81f38096",
    "outputId": "53b66e88-2ba2-40eb-acea-28516f39e06e"
   },
   "outputs": [
    {
     "data": {
      "text/html": [
       "<style type=\"text/css\">\n",
       "#T_a9a7b_row3_col4, #T_a9a7b_row4_col3, #T_a9a7b_row4_col4, #T_a9a7b_row6_col1, #T_a9a7b_row6_col2, #T_a9a7b_row6_col3, #T_a9a7b_row6_col4, #T_a9a7b_row10_col3, #T_a9a7b_row15_col3, #T_a9a7b_row15_col4, #T_a9a7b_row22_col3, #T_a9a7b_row22_col4, #T_a9a7b_row35_col1, #T_a9a7b_row35_col2, #T_a9a7b_row35_col3, #T_a9a7b_row35_col4, #T_a9a7b_row36_col1, #T_a9a7b_row36_col2, #T_a9a7b_row36_col3, #T_a9a7b_row36_col4, #T_a9a7b_row37_col1, #T_a9a7b_row37_col2, #T_a9a7b_row37_col3, #T_a9a7b_row37_col4, #T_a9a7b_row38_col3, #T_a9a7b_row38_col4, #T_a9a7b_row39_col1, #T_a9a7b_row39_col2, #T_a9a7b_row39_col3, #T_a9a7b_row39_col4, #T_a9a7b_row41_col3, #T_a9a7b_row41_col4, #T_a9a7b_row42_col0, #T_a9a7b_row43_col0, #T_a9a7b_row44_col0, #T_a9a7b_row45_col0, #T_a9a7b_row46_col0, #T_a9a7b_row47_col0, #T_a9a7b_row48_col0, #T_a9a7b_row48_col2, #T_a9a7b_row48_col3, #T_a9a7b_row48_col4, #T_a9a7b_row49_col0, #T_a9a7b_row50_col0, #T_a9a7b_row51_col0, #T_a9a7b_row51_col1, #T_a9a7b_row51_col2, #T_a9a7b_row52_col0, #T_a9a7b_row52_col1, #T_a9a7b_row52_col2, #T_a9a7b_row53_col0, #T_a9a7b_row53_col1, #T_a9a7b_row53_col2 {\n",
       "  background-color: yellow;\n",
       "}\n",
       "</style>\n",
       "<table id=\"T_a9a7b\">\n",
       "  <thead>\n",
       "    <tr>\n",
       "      <th class=\"blank level0\" >&nbsp;</th>\n",
       "      <th id=\"T_a9a7b_level0_col0\" class=\"col_heading level0 col0\" >2015</th>\n",
       "      <th id=\"T_a9a7b_level0_col1\" class=\"col_heading level0 col1\" >2016</th>\n",
       "      <th id=\"T_a9a7b_level0_col2\" class=\"col_heading level0 col2\" >2017</th>\n",
       "      <th id=\"T_a9a7b_level0_col3\" class=\"col_heading level0 col3\" >2019</th>\n",
       "      <th id=\"T_a9a7b_level0_col4\" class=\"col_heading level0 col4\" >2020</th>\n",
       "    </tr>\n",
       "  </thead>\n",
       "  <tbody>\n",
       "    <tr>\n",
       "      <th id=\"T_a9a7b_level0_row0\" class=\"row_heading level0 row0\" >OSEBuildingID</th>\n",
       "      <td id=\"T_a9a7b_row0_col0\" class=\"data row0 col0\" >int64</td>\n",
       "      <td id=\"T_a9a7b_row0_col1\" class=\"data row0 col1\" >int64</td>\n",
       "      <td id=\"T_a9a7b_row0_col2\" class=\"data row0 col2\" >int64</td>\n",
       "      <td id=\"T_a9a7b_row0_col3\" class=\"data row0 col3\" >int64</td>\n",
       "      <td id=\"T_a9a7b_row0_col4\" class=\"data row0 col4\" >int64</td>\n",
       "    </tr>\n",
       "    <tr>\n",
       "      <th id=\"T_a9a7b_level0_row1\" class=\"row_heading level0 row1\" >DataYear</th>\n",
       "      <td id=\"T_a9a7b_row1_col0\" class=\"data row1 col0\" >int64</td>\n",
       "      <td id=\"T_a9a7b_row1_col1\" class=\"data row1 col1\" >int64</td>\n",
       "      <td id=\"T_a9a7b_row1_col2\" class=\"data row1 col2\" >int64</td>\n",
       "      <td id=\"T_a9a7b_row1_col3\" class=\"data row1 col3\" >int64</td>\n",
       "      <td id=\"T_a9a7b_row1_col4\" class=\"data row1 col4\" >int64</td>\n",
       "    </tr>\n",
       "    <tr>\n",
       "      <th id=\"T_a9a7b_level0_row2\" class=\"row_heading level0 row2\" >BuildingType</th>\n",
       "      <td id=\"T_a9a7b_row2_col0\" class=\"data row2 col0\" >object</td>\n",
       "      <td id=\"T_a9a7b_row2_col1\" class=\"data row2 col1\" >object</td>\n",
       "      <td id=\"T_a9a7b_row2_col2\" class=\"data row2 col2\" >object</td>\n",
       "      <td id=\"T_a9a7b_row2_col3\" class=\"data row2 col3\" >object</td>\n",
       "      <td id=\"T_a9a7b_row2_col4\" class=\"data row2 col4\" >object</td>\n",
       "    </tr>\n",
       "    <tr>\n",
       "      <th id=\"T_a9a7b_level0_row3\" class=\"row_heading level0 row3\" >PrimaryPropertyType</th>\n",
       "      <td id=\"T_a9a7b_row3_col0\" class=\"data row3 col0\" >object</td>\n",
       "      <td id=\"T_a9a7b_row3_col1\" class=\"data row3 col1\" >object</td>\n",
       "      <td id=\"T_a9a7b_row3_col2\" class=\"data row3 col2\" >object</td>\n",
       "      <td id=\"T_a9a7b_row3_col3\" class=\"data row3 col3\" >object</td>\n",
       "      <td id=\"T_a9a7b_row3_col4\" class=\"data row3 col4\" >nan</td>\n",
       "    </tr>\n",
       "    <tr>\n",
       "      <th id=\"T_a9a7b_level0_row4\" class=\"row_heading level0 row4\" >PropertyName</th>\n",
       "      <td id=\"T_a9a7b_row4_col0\" class=\"data row4 col0\" >object</td>\n",
       "      <td id=\"T_a9a7b_row4_col1\" class=\"data row4 col1\" >object</td>\n",
       "      <td id=\"T_a9a7b_row4_col2\" class=\"data row4 col2\" >object</td>\n",
       "      <td id=\"T_a9a7b_row4_col3\" class=\"data row4 col3\" >nan</td>\n",
       "      <td id=\"T_a9a7b_row4_col4\" class=\"data row4 col4\" >nan</td>\n",
       "    </tr>\n",
       "    <tr>\n",
       "      <th id=\"T_a9a7b_level0_row5\" class=\"row_heading level0 row5\" >TaxParcelIdentificationNumber</th>\n",
       "      <td id=\"T_a9a7b_row5_col0\" class=\"data row5 col0\" >object</td>\n",
       "      <td id=\"T_a9a7b_row5_col1\" class=\"data row5 col1\" >object</td>\n",
       "      <td id=\"T_a9a7b_row5_col2\" class=\"data row5 col2\" >object</td>\n",
       "      <td id=\"T_a9a7b_row5_col3\" class=\"data row5 col3\" >object</td>\n",
       "      <td id=\"T_a9a7b_row5_col4\" class=\"data row5 col4\" >object</td>\n",
       "    </tr>\n",
       "    <tr>\n",
       "      <th id=\"T_a9a7b_level0_row6\" class=\"row_heading level0 row6\" >Location</th>\n",
       "      <td id=\"T_a9a7b_row6_col0\" class=\"data row6 col0\" >object</td>\n",
       "      <td id=\"T_a9a7b_row6_col1\" class=\"data row6 col1\" >nan</td>\n",
       "      <td id=\"T_a9a7b_row6_col2\" class=\"data row6 col2\" >nan</td>\n",
       "      <td id=\"T_a9a7b_row6_col3\" class=\"data row6 col3\" >nan</td>\n",
       "      <td id=\"T_a9a7b_row6_col4\" class=\"data row6 col4\" >nan</td>\n",
       "    </tr>\n",
       "    <tr>\n",
       "      <th id=\"T_a9a7b_level0_row7\" class=\"row_heading level0 row7\" >CouncilDistrictCode</th>\n",
       "      <td id=\"T_a9a7b_row7_col0\" class=\"data row7 col0\" >int64</td>\n",
       "      <td id=\"T_a9a7b_row7_col1\" class=\"data row7 col1\" >int64</td>\n",
       "      <td id=\"T_a9a7b_row7_col2\" class=\"data row7 col2\" >float64</td>\n",
       "      <td id=\"T_a9a7b_row7_col3\" class=\"data row7 col3\" >float64</td>\n",
       "      <td id=\"T_a9a7b_row7_col4\" class=\"data row7 col4\" >float64</td>\n",
       "    </tr>\n",
       "    <tr>\n",
       "      <th id=\"T_a9a7b_level0_row8\" class=\"row_heading level0 row8\" >Neighborhood</th>\n",
       "      <td id=\"T_a9a7b_row8_col0\" class=\"data row8 col0\" >object</td>\n",
       "      <td id=\"T_a9a7b_row8_col1\" class=\"data row8 col1\" >object</td>\n",
       "      <td id=\"T_a9a7b_row8_col2\" class=\"data row8 col2\" >object</td>\n",
       "      <td id=\"T_a9a7b_row8_col3\" class=\"data row8 col3\" >object</td>\n",
       "      <td id=\"T_a9a7b_row8_col4\" class=\"data row8 col4\" >object</td>\n",
       "    </tr>\n",
       "    <tr>\n",
       "      <th id=\"T_a9a7b_level0_row9\" class=\"row_heading level0 row9\" >YearBuilt</th>\n",
       "      <td id=\"T_a9a7b_row9_col0\" class=\"data row9 col0\" >int64</td>\n",
       "      <td id=\"T_a9a7b_row9_col1\" class=\"data row9 col1\" >int64</td>\n",
       "      <td id=\"T_a9a7b_row9_col2\" class=\"data row9 col2\" >float64</td>\n",
       "      <td id=\"T_a9a7b_row9_col3\" class=\"data row9 col3\" >int64</td>\n",
       "      <td id=\"T_a9a7b_row9_col4\" class=\"data row9 col4\" >int64</td>\n",
       "    </tr>\n",
       "    <tr>\n",
       "      <th id=\"T_a9a7b_level0_row10\" class=\"row_heading level0 row10\" >NumberofBuildings</th>\n",
       "      <td id=\"T_a9a7b_row10_col0\" class=\"data row10 col0\" >int64</td>\n",
       "      <td id=\"T_a9a7b_row10_col1\" class=\"data row10 col1\" >float64</td>\n",
       "      <td id=\"T_a9a7b_row10_col2\" class=\"data row10 col2\" >float64</td>\n",
       "      <td id=\"T_a9a7b_row10_col3\" class=\"data row10 col3\" >nan</td>\n",
       "      <td id=\"T_a9a7b_row10_col4\" class=\"data row10 col4\" >int64</td>\n",
       "    </tr>\n",
       "    <tr>\n",
       "      <th id=\"T_a9a7b_level0_row11\" class=\"row_heading level0 row11\" >NumberofFloors</th>\n",
       "      <td id=\"T_a9a7b_row11_col0\" class=\"data row11 col0\" >float64</td>\n",
       "      <td id=\"T_a9a7b_row11_col1\" class=\"data row11 col1\" >int64</td>\n",
       "      <td id=\"T_a9a7b_row11_col2\" class=\"data row11 col2\" >float64</td>\n",
       "      <td id=\"T_a9a7b_row11_col3\" class=\"data row11 col3\" >int64</td>\n",
       "      <td id=\"T_a9a7b_row11_col4\" class=\"data row11 col4\" >int64</td>\n",
       "    </tr>\n",
       "    <tr>\n",
       "      <th id=\"T_a9a7b_level0_row12\" class=\"row_heading level0 row12\" >PropertyGFATotal</th>\n",
       "      <td id=\"T_a9a7b_row12_col0\" class=\"data row12 col0\" >int64</td>\n",
       "      <td id=\"T_a9a7b_row12_col1\" class=\"data row12 col1\" >int64</td>\n",
       "      <td id=\"T_a9a7b_row12_col2\" class=\"data row12 col2\" >int64</td>\n",
       "      <td id=\"T_a9a7b_row12_col3\" class=\"data row12 col3\" >int64</td>\n",
       "      <td id=\"T_a9a7b_row12_col4\" class=\"data row12 col4\" >int64</td>\n",
       "    </tr>\n",
       "    <tr>\n",
       "      <th id=\"T_a9a7b_level0_row13\" class=\"row_heading level0 row13\" >PropertyGFAParking</th>\n",
       "      <td id=\"T_a9a7b_row13_col0\" class=\"data row13 col0\" >int64</td>\n",
       "      <td id=\"T_a9a7b_row13_col1\" class=\"data row13 col1\" >int64</td>\n",
       "      <td id=\"T_a9a7b_row13_col2\" class=\"data row13 col2\" >float64</td>\n",
       "      <td id=\"T_a9a7b_row13_col3\" class=\"data row13 col3\" >int64</td>\n",
       "      <td id=\"T_a9a7b_row13_col4\" class=\"data row13 col4\" >int64</td>\n",
       "    </tr>\n",
       "    <tr>\n",
       "      <th id=\"T_a9a7b_level0_row14\" class=\"row_heading level0 row14\" >PropertyGFABuilding(s)</th>\n",
       "      <td id=\"T_a9a7b_row14_col0\" class=\"data row14 col0\" >int64</td>\n",
       "      <td id=\"T_a9a7b_row14_col1\" class=\"data row14 col1\" >int64</td>\n",
       "      <td id=\"T_a9a7b_row14_col2\" class=\"data row14 col2\" >float64</td>\n",
       "      <td id=\"T_a9a7b_row14_col3\" class=\"data row14 col3\" >int64</td>\n",
       "      <td id=\"T_a9a7b_row14_col4\" class=\"data row14 col4\" >int64</td>\n",
       "    </tr>\n",
       "    <tr>\n",
       "      <th id=\"T_a9a7b_level0_row15\" class=\"row_heading level0 row15\" >ListOfAllPropertyUseTypes</th>\n",
       "      <td id=\"T_a9a7b_row15_col0\" class=\"data row15 col0\" >object</td>\n",
       "      <td id=\"T_a9a7b_row15_col1\" class=\"data row15 col1\" >object</td>\n",
       "      <td id=\"T_a9a7b_row15_col2\" class=\"data row15 col2\" >object</td>\n",
       "      <td id=\"T_a9a7b_row15_col3\" class=\"data row15 col3\" >nan</td>\n",
       "      <td id=\"T_a9a7b_row15_col4\" class=\"data row15 col4\" >nan</td>\n",
       "    </tr>\n",
       "    <tr>\n",
       "      <th id=\"T_a9a7b_level0_row16\" class=\"row_heading level0 row16\" >LargestPropertyUseType</th>\n",
       "      <td id=\"T_a9a7b_row16_col0\" class=\"data row16 col0\" >object</td>\n",
       "      <td id=\"T_a9a7b_row16_col1\" class=\"data row16 col1\" >object</td>\n",
       "      <td id=\"T_a9a7b_row16_col2\" class=\"data row16 col2\" >object</td>\n",
       "      <td id=\"T_a9a7b_row16_col3\" class=\"data row16 col3\" >object</td>\n",
       "      <td id=\"T_a9a7b_row16_col4\" class=\"data row16 col4\" >object</td>\n",
       "    </tr>\n",
       "    <tr>\n",
       "      <th id=\"T_a9a7b_level0_row17\" class=\"row_heading level0 row17\" >LargestPropertyUseTypeGFA</th>\n",
       "      <td id=\"T_a9a7b_row17_col0\" class=\"data row17 col0\" >float64</td>\n",
       "      <td id=\"T_a9a7b_row17_col1\" class=\"data row17 col1\" >float64</td>\n",
       "      <td id=\"T_a9a7b_row17_col2\" class=\"data row17 col2\" >float64</td>\n",
       "      <td id=\"T_a9a7b_row17_col3\" class=\"data row17 col3\" >float64</td>\n",
       "      <td id=\"T_a9a7b_row17_col4\" class=\"data row17 col4\" >float64</td>\n",
       "    </tr>\n",
       "    <tr>\n",
       "      <th id=\"T_a9a7b_level0_row18\" class=\"row_heading level0 row18\" >SecondLargestPropertyUseType</th>\n",
       "      <td id=\"T_a9a7b_row18_col0\" class=\"data row18 col0\" >object</td>\n",
       "      <td id=\"T_a9a7b_row18_col1\" class=\"data row18 col1\" >object</td>\n",
       "      <td id=\"T_a9a7b_row18_col2\" class=\"data row18 col2\" >object</td>\n",
       "      <td id=\"T_a9a7b_row18_col3\" class=\"data row18 col3\" >object</td>\n",
       "      <td id=\"T_a9a7b_row18_col4\" class=\"data row18 col4\" >object</td>\n",
       "    </tr>\n",
       "    <tr>\n",
       "      <th id=\"T_a9a7b_level0_row19\" class=\"row_heading level0 row19\" >SecondLargestPropertyUseTypeGFA</th>\n",
       "      <td id=\"T_a9a7b_row19_col0\" class=\"data row19 col0\" >float64</td>\n",
       "      <td id=\"T_a9a7b_row19_col1\" class=\"data row19 col1\" >float64</td>\n",
       "      <td id=\"T_a9a7b_row19_col2\" class=\"data row19 col2\" >float64</td>\n",
       "      <td id=\"T_a9a7b_row19_col3\" class=\"data row19 col3\" >float64</td>\n",
       "      <td id=\"T_a9a7b_row19_col4\" class=\"data row19 col4\" >float64</td>\n",
       "    </tr>\n",
       "    <tr>\n",
       "      <th id=\"T_a9a7b_level0_row20\" class=\"row_heading level0 row20\" >ThirdLargestPropertyUseType</th>\n",
       "      <td id=\"T_a9a7b_row20_col0\" class=\"data row20 col0\" >object</td>\n",
       "      <td id=\"T_a9a7b_row20_col1\" class=\"data row20 col1\" >object</td>\n",
       "      <td id=\"T_a9a7b_row20_col2\" class=\"data row20 col2\" >object</td>\n",
       "      <td id=\"T_a9a7b_row20_col3\" class=\"data row20 col3\" >object</td>\n",
       "      <td id=\"T_a9a7b_row20_col4\" class=\"data row20 col4\" >object</td>\n",
       "    </tr>\n",
       "    <tr>\n",
       "      <th id=\"T_a9a7b_level0_row21\" class=\"row_heading level0 row21\" >ThirdLargestPropertyUseTypeGFA</th>\n",
       "      <td id=\"T_a9a7b_row21_col0\" class=\"data row21 col0\" >float64</td>\n",
       "      <td id=\"T_a9a7b_row21_col1\" class=\"data row21 col1\" >float64</td>\n",
       "      <td id=\"T_a9a7b_row21_col2\" class=\"data row21 col2\" >float64</td>\n",
       "      <td id=\"T_a9a7b_row21_col3\" class=\"data row21 col3\" >float64</td>\n",
       "      <td id=\"T_a9a7b_row21_col4\" class=\"data row21 col4\" >float64</td>\n",
       "    </tr>\n",
       "    <tr>\n",
       "      <th id=\"T_a9a7b_level0_row22\" class=\"row_heading level0 row22\" >YearsENERGYSTARCertified</th>\n",
       "      <td id=\"T_a9a7b_row22_col0\" class=\"data row22 col0\" >object</td>\n",
       "      <td id=\"T_a9a7b_row22_col1\" class=\"data row22 col1\" >object</td>\n",
       "      <td id=\"T_a9a7b_row22_col2\" class=\"data row22 col2\" >object</td>\n",
       "      <td id=\"T_a9a7b_row22_col3\" class=\"data row22 col3\" >nan</td>\n",
       "      <td id=\"T_a9a7b_row22_col4\" class=\"data row22 col4\" >nan</td>\n",
       "    </tr>\n",
       "    <tr>\n",
       "      <th id=\"T_a9a7b_level0_row23\" class=\"row_heading level0 row23\" >ENERGYSTARScore</th>\n",
       "      <td id=\"T_a9a7b_row23_col0\" class=\"data row23 col0\" >float64</td>\n",
       "      <td id=\"T_a9a7b_row23_col1\" class=\"data row23 col1\" >float64</td>\n",
       "      <td id=\"T_a9a7b_row23_col2\" class=\"data row23 col2\" >float64</td>\n",
       "      <td id=\"T_a9a7b_row23_col3\" class=\"data row23 col3\" >float64</td>\n",
       "      <td id=\"T_a9a7b_row23_col4\" class=\"data row23 col4\" >float64</td>\n",
       "    </tr>\n",
       "    <tr>\n",
       "      <th id=\"T_a9a7b_level0_row24\" class=\"row_heading level0 row24\" >SiteEUI(kBtu/sf)</th>\n",
       "      <td id=\"T_a9a7b_row24_col0\" class=\"data row24 col0\" >float64</td>\n",
       "      <td id=\"T_a9a7b_row24_col1\" class=\"data row24 col1\" >float64</td>\n",
       "      <td id=\"T_a9a7b_row24_col2\" class=\"data row24 col2\" >float64</td>\n",
       "      <td id=\"T_a9a7b_row24_col3\" class=\"data row24 col3\" >float64</td>\n",
       "      <td id=\"T_a9a7b_row24_col4\" class=\"data row24 col4\" >float64</td>\n",
       "    </tr>\n",
       "    <tr>\n",
       "      <th id=\"T_a9a7b_level0_row25\" class=\"row_heading level0 row25\" >SiteEUIWN(kBtu/sf)</th>\n",
       "      <td id=\"T_a9a7b_row25_col0\" class=\"data row25 col0\" >float64</td>\n",
       "      <td id=\"T_a9a7b_row25_col1\" class=\"data row25 col1\" >float64</td>\n",
       "      <td id=\"T_a9a7b_row25_col2\" class=\"data row25 col2\" >float64</td>\n",
       "      <td id=\"T_a9a7b_row25_col3\" class=\"data row25 col3\" >float64</td>\n",
       "      <td id=\"T_a9a7b_row25_col4\" class=\"data row25 col4\" >float64</td>\n",
       "    </tr>\n",
       "    <tr>\n",
       "      <th id=\"T_a9a7b_level0_row26\" class=\"row_heading level0 row26\" >SourceEUI(kBtu/sf)</th>\n",
       "      <td id=\"T_a9a7b_row26_col0\" class=\"data row26 col0\" >float64</td>\n",
       "      <td id=\"T_a9a7b_row26_col1\" class=\"data row26 col1\" >float64</td>\n",
       "      <td id=\"T_a9a7b_row26_col2\" class=\"data row26 col2\" >float64</td>\n",
       "      <td id=\"T_a9a7b_row26_col3\" class=\"data row26 col3\" >float64</td>\n",
       "      <td id=\"T_a9a7b_row26_col4\" class=\"data row26 col4\" >float64</td>\n",
       "    </tr>\n",
       "    <tr>\n",
       "      <th id=\"T_a9a7b_level0_row27\" class=\"row_heading level0 row27\" >SourceEUIWN(kBtu/sf)</th>\n",
       "      <td id=\"T_a9a7b_row27_col0\" class=\"data row27 col0\" >float64</td>\n",
       "      <td id=\"T_a9a7b_row27_col1\" class=\"data row27 col1\" >float64</td>\n",
       "      <td id=\"T_a9a7b_row27_col2\" class=\"data row27 col2\" >float64</td>\n",
       "      <td id=\"T_a9a7b_row27_col3\" class=\"data row27 col3\" >float64</td>\n",
       "      <td id=\"T_a9a7b_row27_col4\" class=\"data row27 col4\" >float64</td>\n",
       "    </tr>\n",
       "    <tr>\n",
       "      <th id=\"T_a9a7b_level0_row28\" class=\"row_heading level0 row28\" >SiteEnergyUse(kBtu)</th>\n",
       "      <td id=\"T_a9a7b_row28_col0\" class=\"data row28 col0\" >float64</td>\n",
       "      <td id=\"T_a9a7b_row28_col1\" class=\"data row28 col1\" >float64</td>\n",
       "      <td id=\"T_a9a7b_row28_col2\" class=\"data row28 col2\" >float64</td>\n",
       "      <td id=\"T_a9a7b_row28_col3\" class=\"data row28 col3\" >float64</td>\n",
       "      <td id=\"T_a9a7b_row28_col4\" class=\"data row28 col4\" >float64</td>\n",
       "    </tr>\n",
       "    <tr>\n",
       "      <th id=\"T_a9a7b_level0_row29\" class=\"row_heading level0 row29\" >SiteEnergyUseWN(kBtu)</th>\n",
       "      <td id=\"T_a9a7b_row29_col0\" class=\"data row29 col0\" >float64</td>\n",
       "      <td id=\"T_a9a7b_row29_col1\" class=\"data row29 col1\" >float64</td>\n",
       "      <td id=\"T_a9a7b_row29_col2\" class=\"data row29 col2\" >float64</td>\n",
       "      <td id=\"T_a9a7b_row29_col3\" class=\"data row29 col3\" >float64</td>\n",
       "      <td id=\"T_a9a7b_row29_col4\" class=\"data row29 col4\" >float64</td>\n",
       "    </tr>\n",
       "    <tr>\n",
       "      <th id=\"T_a9a7b_level0_row30\" class=\"row_heading level0 row30\" >SteamUse(kBtu)</th>\n",
       "      <td id=\"T_a9a7b_row30_col0\" class=\"data row30 col0\" >float64</td>\n",
       "      <td id=\"T_a9a7b_row30_col1\" class=\"data row30 col1\" >float64</td>\n",
       "      <td id=\"T_a9a7b_row30_col2\" class=\"data row30 col2\" >float64</td>\n",
       "      <td id=\"T_a9a7b_row30_col3\" class=\"data row30 col3\" >int64</td>\n",
       "      <td id=\"T_a9a7b_row30_col4\" class=\"data row30 col4\" >int64</td>\n",
       "    </tr>\n",
       "    <tr>\n",
       "      <th id=\"T_a9a7b_level0_row31\" class=\"row_heading level0 row31\" >Electricity(kWh)</th>\n",
       "      <td id=\"T_a9a7b_row31_col0\" class=\"data row31 col0\" >float64</td>\n",
       "      <td id=\"T_a9a7b_row31_col1\" class=\"data row31 col1\" >float64</td>\n",
       "      <td id=\"T_a9a7b_row31_col2\" class=\"data row31 col2\" >float64</td>\n",
       "      <td id=\"T_a9a7b_row31_col3\" class=\"data row31 col3\" >int64</td>\n",
       "      <td id=\"T_a9a7b_row31_col4\" class=\"data row31 col4\" >int64</td>\n",
       "    </tr>\n",
       "    <tr>\n",
       "      <th id=\"T_a9a7b_level0_row32\" class=\"row_heading level0 row32\" >Electricity(kBtu)</th>\n",
       "      <td id=\"T_a9a7b_row32_col0\" class=\"data row32 col0\" >float64</td>\n",
       "      <td id=\"T_a9a7b_row32_col1\" class=\"data row32 col1\" >float64</td>\n",
       "      <td id=\"T_a9a7b_row32_col2\" class=\"data row32 col2\" >float64</td>\n",
       "      <td id=\"T_a9a7b_row32_col3\" class=\"data row32 col3\" >int64</td>\n",
       "      <td id=\"T_a9a7b_row32_col4\" class=\"data row32 col4\" >float64</td>\n",
       "    </tr>\n",
       "    <tr>\n",
       "      <th id=\"T_a9a7b_level0_row33\" class=\"row_heading level0 row33\" >NaturalGas(therms)</th>\n",
       "      <td id=\"T_a9a7b_row33_col0\" class=\"data row33 col0\" >float64</td>\n",
       "      <td id=\"T_a9a7b_row33_col1\" class=\"data row33 col1\" >float64</td>\n",
       "      <td id=\"T_a9a7b_row33_col2\" class=\"data row33 col2\" >float64</td>\n",
       "      <td id=\"T_a9a7b_row33_col3\" class=\"data row33 col3\" >int64</td>\n",
       "      <td id=\"T_a9a7b_row33_col4\" class=\"data row33 col4\" >int64</td>\n",
       "    </tr>\n",
       "    <tr>\n",
       "      <th id=\"T_a9a7b_level0_row34\" class=\"row_heading level0 row34\" >NaturalGas(kBtu)</th>\n",
       "      <td id=\"T_a9a7b_row34_col0\" class=\"data row34 col0\" >float64</td>\n",
       "      <td id=\"T_a9a7b_row34_col1\" class=\"data row34 col1\" >float64</td>\n",
       "      <td id=\"T_a9a7b_row34_col2\" class=\"data row34 col2\" >float64</td>\n",
       "      <td id=\"T_a9a7b_row34_col3\" class=\"data row34 col3\" >int64</td>\n",
       "      <td id=\"T_a9a7b_row34_col4\" class=\"data row34 col4\" >float64</td>\n",
       "    </tr>\n",
       "    <tr>\n",
       "      <th id=\"T_a9a7b_level0_row35\" class=\"row_heading level0 row35\" >OtherFuelUse(kBtu)</th>\n",
       "      <td id=\"T_a9a7b_row35_col0\" class=\"data row35 col0\" >float64</td>\n",
       "      <td id=\"T_a9a7b_row35_col1\" class=\"data row35 col1\" >nan</td>\n",
       "      <td id=\"T_a9a7b_row35_col2\" class=\"data row35 col2\" >nan</td>\n",
       "      <td id=\"T_a9a7b_row35_col3\" class=\"data row35 col3\" >nan</td>\n",
       "      <td id=\"T_a9a7b_row35_col4\" class=\"data row35 col4\" >nan</td>\n",
       "    </tr>\n",
       "    <tr>\n",
       "      <th id=\"T_a9a7b_level0_row36\" class=\"row_heading level0 row36\" >GHGEmissions(MetricTonsCO2e)</th>\n",
       "      <td id=\"T_a9a7b_row36_col0\" class=\"data row36 col0\" >float64</td>\n",
       "      <td id=\"T_a9a7b_row36_col1\" class=\"data row36 col1\" >nan</td>\n",
       "      <td id=\"T_a9a7b_row36_col2\" class=\"data row36 col2\" >nan</td>\n",
       "      <td id=\"T_a9a7b_row36_col3\" class=\"data row36 col3\" >nan</td>\n",
       "      <td id=\"T_a9a7b_row36_col4\" class=\"data row36 col4\" >nan</td>\n",
       "    </tr>\n",
       "    <tr>\n",
       "      <th id=\"T_a9a7b_level0_row37\" class=\"row_heading level0 row37\" >GHGEmissionsIntensity(kgCO2e/ft2)</th>\n",
       "      <td id=\"T_a9a7b_row37_col0\" class=\"data row37 col0\" >float64</td>\n",
       "      <td id=\"T_a9a7b_row37_col1\" class=\"data row37 col1\" >nan</td>\n",
       "      <td id=\"T_a9a7b_row37_col2\" class=\"data row37 col2\" >nan</td>\n",
       "      <td id=\"T_a9a7b_row37_col3\" class=\"data row37 col3\" >nan</td>\n",
       "      <td id=\"T_a9a7b_row37_col4\" class=\"data row37 col4\" >nan</td>\n",
       "    </tr>\n",
       "    <tr>\n",
       "      <th id=\"T_a9a7b_level0_row38\" class=\"row_heading level0 row38\" >DefaultData</th>\n",
       "      <td id=\"T_a9a7b_row38_col0\" class=\"data row38 col0\" >object</td>\n",
       "      <td id=\"T_a9a7b_row38_col1\" class=\"data row38 col1\" >bool</td>\n",
       "      <td id=\"T_a9a7b_row38_col2\" class=\"data row38 col2\" >object</td>\n",
       "      <td id=\"T_a9a7b_row38_col3\" class=\"data row38 col3\" >nan</td>\n",
       "      <td id=\"T_a9a7b_row38_col4\" class=\"data row38 col4\" >nan</td>\n",
       "    </tr>\n",
       "    <tr>\n",
       "      <th id=\"T_a9a7b_level0_row39\" class=\"row_heading level0 row39\" >Comment</th>\n",
       "      <td id=\"T_a9a7b_row39_col0\" class=\"data row39 col0\" >object</td>\n",
       "      <td id=\"T_a9a7b_row39_col1\" class=\"data row39 col1\" >nan</td>\n",
       "      <td id=\"T_a9a7b_row39_col2\" class=\"data row39 col2\" >nan</td>\n",
       "      <td id=\"T_a9a7b_row39_col3\" class=\"data row39 col3\" >nan</td>\n",
       "      <td id=\"T_a9a7b_row39_col4\" class=\"data row39 col4\" >nan</td>\n",
       "    </tr>\n",
       "    <tr>\n",
       "      <th id=\"T_a9a7b_level0_row40\" class=\"row_heading level0 row40\" >ComplianceStatus</th>\n",
       "      <td id=\"T_a9a7b_row40_col0\" class=\"data row40 col0\" >object</td>\n",
       "      <td id=\"T_a9a7b_row40_col1\" class=\"data row40 col1\" >object</td>\n",
       "      <td id=\"T_a9a7b_row40_col2\" class=\"data row40 col2\" >object</td>\n",
       "      <td id=\"T_a9a7b_row40_col3\" class=\"data row40 col3\" >object</td>\n",
       "      <td id=\"T_a9a7b_row40_col4\" class=\"data row40 col4\" >object</td>\n",
       "    </tr>\n",
       "    <tr>\n",
       "      <th id=\"T_a9a7b_level0_row41\" class=\"row_heading level0 row41\" >Outlier</th>\n",
       "      <td id=\"T_a9a7b_row41_col0\" class=\"data row41 col0\" >object</td>\n",
       "      <td id=\"T_a9a7b_row41_col1\" class=\"data row41 col1\" >object</td>\n",
       "      <td id=\"T_a9a7b_row41_col2\" class=\"data row41 col2\" >object</td>\n",
       "      <td id=\"T_a9a7b_row41_col3\" class=\"data row41 col3\" >nan</td>\n",
       "      <td id=\"T_a9a7b_row41_col4\" class=\"data row41 col4\" >nan</td>\n",
       "    </tr>\n",
       "    <tr>\n",
       "      <th id=\"T_a9a7b_level0_row42\" class=\"row_heading level0 row42\" >Address</th>\n",
       "      <td id=\"T_a9a7b_row42_col0\" class=\"data row42 col0\" >nan</td>\n",
       "      <td id=\"T_a9a7b_row42_col1\" class=\"data row42 col1\" >object</td>\n",
       "      <td id=\"T_a9a7b_row42_col2\" class=\"data row42 col2\" >object</td>\n",
       "      <td id=\"T_a9a7b_row42_col3\" class=\"data row42 col3\" >object</td>\n",
       "      <td id=\"T_a9a7b_row42_col4\" class=\"data row42 col4\" >object</td>\n",
       "    </tr>\n",
       "    <tr>\n",
       "      <th id=\"T_a9a7b_level0_row43\" class=\"row_heading level0 row43\" >City</th>\n",
       "      <td id=\"T_a9a7b_row43_col0\" class=\"data row43 col0\" >nan</td>\n",
       "      <td id=\"T_a9a7b_row43_col1\" class=\"data row43 col1\" >object</td>\n",
       "      <td id=\"T_a9a7b_row43_col2\" class=\"data row43 col2\" >object</td>\n",
       "      <td id=\"T_a9a7b_row43_col3\" class=\"data row43 col3\" >object</td>\n",
       "      <td id=\"T_a9a7b_row43_col4\" class=\"data row43 col4\" >object</td>\n",
       "    </tr>\n",
       "    <tr>\n",
       "      <th id=\"T_a9a7b_level0_row44\" class=\"row_heading level0 row44\" >State</th>\n",
       "      <td id=\"T_a9a7b_row44_col0\" class=\"data row44 col0\" >nan</td>\n",
       "      <td id=\"T_a9a7b_row44_col1\" class=\"data row44 col1\" >object</td>\n",
       "      <td id=\"T_a9a7b_row44_col2\" class=\"data row44 col2\" >object</td>\n",
       "      <td id=\"T_a9a7b_row44_col3\" class=\"data row44 col3\" >object</td>\n",
       "      <td id=\"T_a9a7b_row44_col4\" class=\"data row44 col4\" >object</td>\n",
       "    </tr>\n",
       "    <tr>\n",
       "      <th id=\"T_a9a7b_level0_row45\" class=\"row_heading level0 row45\" >ZipCode</th>\n",
       "      <td id=\"T_a9a7b_row45_col0\" class=\"data row45 col0\" >nan</td>\n",
       "      <td id=\"T_a9a7b_row45_col1\" class=\"data row45 col1\" >float64</td>\n",
       "      <td id=\"T_a9a7b_row45_col2\" class=\"data row45 col2\" >float64</td>\n",
       "      <td id=\"T_a9a7b_row45_col3\" class=\"data row45 col3\" >float64</td>\n",
       "      <td id=\"T_a9a7b_row45_col4\" class=\"data row45 col4\" >float64</td>\n",
       "    </tr>\n",
       "    <tr>\n",
       "      <th id=\"T_a9a7b_level0_row46\" class=\"row_heading level0 row46\" >Latitude</th>\n",
       "      <td id=\"T_a9a7b_row46_col0\" class=\"data row46 col0\" >nan</td>\n",
       "      <td id=\"T_a9a7b_row46_col1\" class=\"data row46 col1\" >float64</td>\n",
       "      <td id=\"T_a9a7b_row46_col2\" class=\"data row46 col2\" >float64</td>\n",
       "      <td id=\"T_a9a7b_row46_col3\" class=\"data row46 col3\" >float64</td>\n",
       "      <td id=\"T_a9a7b_row46_col4\" class=\"data row46 col4\" >float64</td>\n",
       "    </tr>\n",
       "    <tr>\n",
       "      <th id=\"T_a9a7b_level0_row47\" class=\"row_heading level0 row47\" >Longitude</th>\n",
       "      <td id=\"T_a9a7b_row47_col0\" class=\"data row47 col0\" >nan</td>\n",
       "      <td id=\"T_a9a7b_row47_col1\" class=\"data row47 col1\" >float64</td>\n",
       "      <td id=\"T_a9a7b_row47_col2\" class=\"data row47 col2\" >float64</td>\n",
       "      <td id=\"T_a9a7b_row47_col3\" class=\"data row47 col3\" >float64</td>\n",
       "      <td id=\"T_a9a7b_row47_col4\" class=\"data row47 col4\" >float64</td>\n",
       "    </tr>\n",
       "    <tr>\n",
       "      <th id=\"T_a9a7b_level0_row48\" class=\"row_heading level0 row48\" >Comments</th>\n",
       "      <td id=\"T_a9a7b_row48_col0\" class=\"data row48 col0\" >nan</td>\n",
       "      <td id=\"T_a9a7b_row48_col1\" class=\"data row48 col1\" >float64</td>\n",
       "      <td id=\"T_a9a7b_row48_col2\" class=\"data row48 col2\" >nan</td>\n",
       "      <td id=\"T_a9a7b_row48_col3\" class=\"data row48 col3\" >nan</td>\n",
       "      <td id=\"T_a9a7b_row48_col4\" class=\"data row48 col4\" >nan</td>\n",
       "    </tr>\n",
       "    <tr>\n",
       "      <th id=\"T_a9a7b_level0_row49\" class=\"row_heading level0 row49\" >TotalGHGEmissions</th>\n",
       "      <td id=\"T_a9a7b_row49_col0\" class=\"data row49 col0\" >nan</td>\n",
       "      <td id=\"T_a9a7b_row49_col1\" class=\"data row49 col1\" >float64</td>\n",
       "      <td id=\"T_a9a7b_row49_col2\" class=\"data row49 col2\" >float64</td>\n",
       "      <td id=\"T_a9a7b_row49_col3\" class=\"data row49 col3\" >float64</td>\n",
       "      <td id=\"T_a9a7b_row49_col4\" class=\"data row49 col4\" >float64</td>\n",
       "    </tr>\n",
       "    <tr>\n",
       "      <th id=\"T_a9a7b_level0_row50\" class=\"row_heading level0 row50\" >GHGEmissionsIntensity</th>\n",
       "      <td id=\"T_a9a7b_row50_col0\" class=\"data row50 col0\" >nan</td>\n",
       "      <td id=\"T_a9a7b_row50_col1\" class=\"data row50 col1\" >float64</td>\n",
       "      <td id=\"T_a9a7b_row50_col2\" class=\"data row50 col2\" >float64</td>\n",
       "      <td id=\"T_a9a7b_row50_col3\" class=\"data row50 col3\" >float64</td>\n",
       "      <td id=\"T_a9a7b_row50_col4\" class=\"data row50 col4\" >float64</td>\n",
       "    </tr>\n",
       "    <tr>\n",
       "      <th id=\"T_a9a7b_level0_row51\" class=\"row_heading level0 row51\" >BuildingName</th>\n",
       "      <td id=\"T_a9a7b_row51_col0\" class=\"data row51 col0\" >nan</td>\n",
       "      <td id=\"T_a9a7b_row51_col1\" class=\"data row51 col1\" >nan</td>\n",
       "      <td id=\"T_a9a7b_row51_col2\" class=\"data row51 col2\" >nan</td>\n",
       "      <td id=\"T_a9a7b_row51_col3\" class=\"data row51 col3\" >object</td>\n",
       "      <td id=\"T_a9a7b_row51_col4\" class=\"data row51 col4\" >object</td>\n",
       "    </tr>\n",
       "    <tr>\n",
       "      <th id=\"T_a9a7b_level0_row52\" class=\"row_heading level0 row52\" >EPAPropertyType</th>\n",
       "      <td id=\"T_a9a7b_row52_col0\" class=\"data row52 col0\" >nan</td>\n",
       "      <td id=\"T_a9a7b_row52_col1\" class=\"data row52 col1\" >nan</td>\n",
       "      <td id=\"T_a9a7b_row52_col2\" class=\"data row52 col2\" >nan</td>\n",
       "      <td id=\"T_a9a7b_row52_col3\" class=\"data row52 col3\" >object</td>\n",
       "      <td id=\"T_a9a7b_row52_col4\" class=\"data row52 col4\" >object</td>\n",
       "    </tr>\n",
       "    <tr>\n",
       "      <th id=\"T_a9a7b_level0_row53\" class=\"row_heading level0 row53\" >ComplianceIssue</th>\n",
       "      <td id=\"T_a9a7b_row53_col0\" class=\"data row53 col0\" >nan</td>\n",
       "      <td id=\"T_a9a7b_row53_col1\" class=\"data row53 col1\" >nan</td>\n",
       "      <td id=\"T_a9a7b_row53_col2\" class=\"data row53 col2\" >nan</td>\n",
       "      <td id=\"T_a9a7b_row53_col3\" class=\"data row53 col3\" >object</td>\n",
       "      <td id=\"T_a9a7b_row53_col4\" class=\"data row53 col4\" >object</td>\n",
       "    </tr>\n",
       "  </tbody>\n",
       "</table>\n"
      ],
      "text/plain": [
       "<pandas.io.formats.style.Styler at 0x20b7dd21ee0>"
      ]
     },
     "execution_count": 5,
     "metadata": {},
     "output_type": "execute_result"
    }
   ],
   "source": [
    "pd.concat([df.dtypes for df in dfs.values()], axis=1) \\\n",
    "    .rename(columns={i: k for (i, k) in zip(range(len(dfs.keys())), dfs.keys())}) \\\n",
    "    .style.applymap(lambda x: '' if x==x else 'background-color: yellow')"
   ]
  },
  {
   "cell_type": "markdown",
   "id": "21e682ee",
   "metadata": {
    "id": "21e682ee"
   },
   "source": [
    "we can easily see that 'Location' in the 2015 dataset is in fact an aggregation of 'Address', 'City', 'State', 'ZipCode', 'Latitude', 'Longitude' of the dataset of the following years"
   ]
  },
  {
   "cell_type": "code",
   "execution_count": 6,
   "id": "40a216ab",
   "metadata": {
    "colab": {
     "base_uri": "https://localhost:8080/",
     "height": 147
    },
    "executionInfo": {
     "elapsed": 86,
     "status": "ok",
     "timestamp": 1678284537065,
     "user": {
      "displayName": "jean rochefort",
      "userId": "04520792891621341900"
     },
     "user_tz": -60
    },
    "id": "40a216ab",
    "outputId": "ca8f34d3-b93c-484f-aad8-f6b21b42bfce"
   },
   "outputs": [
    {
     "name": "stdout",
     "output_type": "stream",
     "text": [
      "['411 W REPUBLICAN ST\\r\\nSEATTLE, WA 98119\\r\\n(47.62305186, -122.3623121)'\n",
      " '6100 CORSON AVE S\\r\\nSEATTLE, WA 98108\\r\\n(47.5477336, -122.3207866)']\n"
     ]
    },
    {
     "data": {
      "text/html": [
       "<div>\n",
       "<style scoped>\n",
       "    .dataframe tbody tr th:only-of-type {\n",
       "        vertical-align: middle;\n",
       "    }\n",
       "\n",
       "    .dataframe tbody tr th {\n",
       "        vertical-align: top;\n",
       "    }\n",
       "\n",
       "    .dataframe thead th {\n",
       "        text-align: right;\n",
       "    }\n",
       "</style>\n",
       "<table border=\"1\" class=\"dataframe\">\n",
       "  <thead>\n",
       "    <tr style=\"text-align: right;\">\n",
       "      <th></th>\n",
       "      <th>Address</th>\n",
       "      <th>City</th>\n",
       "      <th>State</th>\n",
       "      <th>ZipCode</th>\n",
       "      <th>Latitude</th>\n",
       "      <th>Longitude</th>\n",
       "    </tr>\n",
       "  </thead>\n",
       "  <tbody>\n",
       "    <tr>\n",
       "      <th>0</th>\n",
       "      <td>405 Olive way</td>\n",
       "      <td>Seattle</td>\n",
       "      <td>WA</td>\n",
       "      <td>98101.0</td>\n",
       "      <td>47.61220</td>\n",
       "      <td>-122.33799</td>\n",
       "    </tr>\n",
       "    <tr>\n",
       "      <th>1</th>\n",
       "      <td>724 Pine street</td>\n",
       "      <td>Seattle</td>\n",
       "      <td>WA</td>\n",
       "      <td>98101.0</td>\n",
       "      <td>47.61317</td>\n",
       "      <td>-122.33393</td>\n",
       "    </tr>\n",
       "  </tbody>\n",
       "</table>\n",
       "</div>"
      ],
      "text/plain": [
       "           Address     City State  ZipCode  Latitude  Longitude\n",
       "0    405 Olive way  Seattle    WA  98101.0  47.61220 -122.33799\n",
       "1  724 Pine street  Seattle    WA  98101.0  47.61317 -122.33393"
      ]
     },
     "execution_count": 6,
     "metadata": {},
     "output_type": "execute_result"
    }
   ],
   "source": [
    "print(dfs[2015].Location.head(2).values)\n",
    "dfs[2016][['Address', 'City', 'State', 'ZipCode', 'Latitude', 'Longitude' ]].head(2)"
   ]
  },
  {
   "cell_type": "markdown",
   "id": "74625386",
   "metadata": {
    "id": "74625386"
   },
   "source": [
    "in the 2015 dataset 'GHGEmissions(MetricTonsCO2e)' and 'GHGEmissionsIntensity(kgCO2e/ft2)' are similar to 'TotalGHGEmissions', 'GHGEmissionsIntensity' in the 2016 version"
   ]
  },
  {
   "cell_type": "code",
   "execution_count": 7,
   "id": "2a1e5e2f",
   "metadata": {
    "colab": {
     "base_uri": "https://localhost:8080/",
     "height": 207
    },
    "executionInfo": {
     "elapsed": 78,
     "status": "ok",
     "timestamp": 1678284537066,
     "user": {
      "displayName": "jean rochefort",
      "userId": "04520792891621341900"
     },
     "user_tz": -60
    },
    "id": "2a1e5e2f",
    "outputId": "8c58e658-6bb4-4548-9382-3264053a0a51"
   },
   "outputs": [
    {
     "data": {
      "text/html": [
       "<div>\n",
       "<style scoped>\n",
       "    .dataframe tbody tr th:only-of-type {\n",
       "        vertical-align: middle;\n",
       "    }\n",
       "\n",
       "    .dataframe tbody tr th {\n",
       "        vertical-align: top;\n",
       "    }\n",
       "\n",
       "    .dataframe thead th {\n",
       "        text-align: right;\n",
       "    }\n",
       "</style>\n",
       "<table border=\"1\" class=\"dataframe\">\n",
       "  <thead>\n",
       "    <tr style=\"text-align: right;\">\n",
       "      <th></th>\n",
       "      <th>count</th>\n",
       "      <th>mean</th>\n",
       "      <th>std</th>\n",
       "      <th>min</th>\n",
       "      <th>25%</th>\n",
       "      <th>50%</th>\n",
       "      <th>75%</th>\n",
       "      <th>max</th>\n",
       "    </tr>\n",
       "  </thead>\n",
       "  <tbody>\n",
       "    <tr>\n",
       "      <th>GHGEmissions(MetricTonsCO2e)</th>\n",
       "      <td>3330.0</td>\n",
       "      <td>110.1</td>\n",
       "      <td>409.5</td>\n",
       "      <td>0.0</td>\n",
       "      <td>9.3</td>\n",
       "      <td>32.7</td>\n",
       "      <td>88.6</td>\n",
       "      <td>11824.9</td>\n",
       "    </tr>\n",
       "    <tr>\n",
       "      <th>GHGEmissionsIntensity(kgCO2e/ft2)</th>\n",
       "      <td>3330.0</td>\n",
       "      <td>1.0</td>\n",
       "      <td>1.6</td>\n",
       "      <td>0.0</td>\n",
       "      <td>0.1</td>\n",
       "      <td>0.5</td>\n",
       "      <td>1.2</td>\n",
       "      <td>31.4</td>\n",
       "    </tr>\n",
       "  </tbody>\n",
       "</table>\n",
       "</div>"
      ],
      "text/plain": [
       "                                    count   mean    std  min  25%   50%   75%  \\\n",
       "GHGEmissions(MetricTonsCO2e)       3330.0  110.1  409.5  0.0  9.3  32.7  88.6   \n",
       "GHGEmissionsIntensity(kgCO2e/ft2)  3330.0    1.0    1.6  0.0  0.1   0.5   1.2   \n",
       "\n",
       "                                       max  \n",
       "GHGEmissions(MetricTonsCO2e)       11824.9  \n",
       "GHGEmissionsIntensity(kgCO2e/ft2)     31.4  "
      ]
     },
     "metadata": {},
     "output_type": "display_data"
    },
    {
     "data": {
      "text/html": [
       "<div>\n",
       "<style scoped>\n",
       "    .dataframe tbody tr th:only-of-type {\n",
       "        vertical-align: middle;\n",
       "    }\n",
       "\n",
       "    .dataframe tbody tr th {\n",
       "        vertical-align: top;\n",
       "    }\n",
       "\n",
       "    .dataframe thead th {\n",
       "        text-align: right;\n",
       "    }\n",
       "</style>\n",
       "<table border=\"1\" class=\"dataframe\">\n",
       "  <thead>\n",
       "    <tr style=\"text-align: right;\">\n",
       "      <th></th>\n",
       "      <th>count</th>\n",
       "      <th>mean</th>\n",
       "      <th>std</th>\n",
       "      <th>min</th>\n",
       "      <th>25%</th>\n",
       "      <th>50%</th>\n",
       "      <th>75%</th>\n",
       "      <th>max</th>\n",
       "    </tr>\n",
       "  </thead>\n",
       "  <tbody>\n",
       "    <tr>\n",
       "      <th>TotalGHGEmissions</th>\n",
       "      <td>3367.0</td>\n",
       "      <td>119.7</td>\n",
       "      <td>538.8</td>\n",
       "      <td>-0.8</td>\n",
       "      <td>9.5</td>\n",
       "      <td>33.9</td>\n",
       "      <td>93.9</td>\n",
       "      <td>16871.0</td>\n",
       "    </tr>\n",
       "    <tr>\n",
       "      <th>GHGEmissionsIntensity</th>\n",
       "      <td>3367.0</td>\n",
       "      <td>1.2</td>\n",
       "      <td>1.8</td>\n",
       "      <td>-0.0</td>\n",
       "      <td>0.2</td>\n",
       "      <td>0.6</td>\n",
       "      <td>1.4</td>\n",
       "      <td>34.1</td>\n",
       "    </tr>\n",
       "  </tbody>\n",
       "</table>\n",
       "</div>"
      ],
      "text/plain": [
       "                        count   mean    std  min  25%   50%   75%      max\n",
       "TotalGHGEmissions      3367.0  119.7  538.8 -0.8  9.5  33.9  93.9  16871.0\n",
       "GHGEmissionsIntensity  3367.0    1.2    1.8 -0.0  0.2   0.6   1.4     34.1"
      ]
     },
     "metadata": {},
     "output_type": "display_data"
    }
   ],
   "source": [
    "display(dfs[2015][['GHGEmissions(MetricTonsCO2e)', 'GHGEmissionsIntensity(kgCO2e/ft2)']].describe().T.round(1))\n",
    "display(dfs[2016][['TotalGHGEmissions', 'GHGEmissionsIntensity']].describe().T.round(1))"
   ]
  },
  {
   "cell_type": "markdown",
   "id": "4597d165",
   "metadata": {
    "id": "4597d165"
   },
   "source": [
    "'Comments' & 'Comment' are useless because those columns are nearly always full of Nan... 'PropertyName' has been renamed to 'BuildingName' since 2019:"
   ]
  },
  {
   "cell_type": "code",
   "execution_count": 8,
   "id": "f2646740",
   "metadata": {
    "colab": {
     "base_uri": "https://localhost:8080/",
     "height": 430
    },
    "executionInfo": {
     "elapsed": 76,
     "status": "ok",
     "timestamp": 1678284537067,
     "user": {
      "displayName": "jean rochefort",
      "userId": "04520792891621341900"
     },
     "user_tz": -60
    },
    "id": "f2646740",
    "outputId": "76c972a3-39f7-4deb-c98d-d0209e13f2f5"
   },
   "outputs": [
    {
     "name": "stdout",
     "output_type": "stream",
     "text": [
      "for year 2017:\n"
     ]
    },
    {
     "data": {
      "text/html": [
       "<div>\n",
       "<style scoped>\n",
       "    .dataframe tbody tr th:only-of-type {\n",
       "        vertical-align: middle;\n",
       "    }\n",
       "\n",
       "    .dataframe tbody tr th {\n",
       "        vertical-align: top;\n",
       "    }\n",
       "\n",
       "    .dataframe thead th {\n",
       "        text-align: right;\n",
       "    }\n",
       "</style>\n",
       "<table border=\"1\" class=\"dataframe\">\n",
       "  <thead>\n",
       "    <tr style=\"text-align: right;\">\n",
       "      <th></th>\n",
       "      <th>PropertyName</th>\n",
       "    </tr>\n",
       "  </thead>\n",
       "  <tbody>\n",
       "    <tr>\n",
       "      <th>0</th>\n",
       "      <td>Mayflower park hotel</td>\n",
       "    </tr>\n",
       "    <tr>\n",
       "      <th>1</th>\n",
       "      <td>Paramount Hotel</td>\n",
       "    </tr>\n",
       "    <tr>\n",
       "      <th>2</th>\n",
       "      <td>84SC9-The Westin Seattle</td>\n",
       "    </tr>\n",
       "    <tr>\n",
       "      <th>3</th>\n",
       "      <td>HOTEL MAX</td>\n",
       "    </tr>\n",
       "    <tr>\n",
       "      <th>4</th>\n",
       "      <td>WARWICK SEATTLE HOTEL (ID8)</td>\n",
       "    </tr>\n",
       "  </tbody>\n",
       "</table>\n",
       "</div>"
      ],
      "text/plain": [
       "                  PropertyName\n",
       "0         Mayflower park hotel\n",
       "1              Paramount Hotel\n",
       "2     84SC9-The Westin Seattle\n",
       "3                    HOTEL MAX\n",
       "4  WARWICK SEATTLE HOTEL (ID8)"
      ]
     },
     "metadata": {},
     "output_type": "display_data"
    },
    {
     "name": "stdout",
     "output_type": "stream",
     "text": [
      "for year 2019:\n"
     ]
    },
    {
     "data": {
      "text/html": [
       "<div>\n",
       "<style scoped>\n",
       "    .dataframe tbody tr th:only-of-type {\n",
       "        vertical-align: middle;\n",
       "    }\n",
       "\n",
       "    .dataframe tbody tr th {\n",
       "        vertical-align: top;\n",
       "    }\n",
       "\n",
       "    .dataframe thead th {\n",
       "        text-align: right;\n",
       "    }\n",
       "</style>\n",
       "<table border=\"1\" class=\"dataframe\">\n",
       "  <thead>\n",
       "    <tr style=\"text-align: right;\">\n",
       "      <th></th>\n",
       "      <th>BuildingName</th>\n",
       "    </tr>\n",
       "  </thead>\n",
       "  <tbody>\n",
       "    <tr>\n",
       "      <th>0</th>\n",
       "      <td>MAYFLOWER PARK HOTEL</td>\n",
       "    </tr>\n",
       "    <tr>\n",
       "      <th>1</th>\n",
       "      <td>PARAMOUNT HOTEL</td>\n",
       "    </tr>\n",
       "    <tr>\n",
       "      <th>2</th>\n",
       "      <td>WESTIN HOTEL (Parent Building)</td>\n",
       "    </tr>\n",
       "    <tr>\n",
       "      <th>3</th>\n",
       "      <td>HOTEL MAX</td>\n",
       "    </tr>\n",
       "    <tr>\n",
       "      <th>4</th>\n",
       "      <td>WARWICK SEATTLE HOTEL</td>\n",
       "    </tr>\n",
       "  </tbody>\n",
       "</table>\n",
       "</div>"
      ],
      "text/plain": [
       "                     BuildingName\n",
       "0            MAYFLOWER PARK HOTEL\n",
       "1                 PARAMOUNT HOTEL\n",
       "2  WESTIN HOTEL (Parent Building)\n",
       "3                       HOTEL MAX\n",
       "4           WARWICK SEATTLE HOTEL"
      ]
     },
     "metadata": {},
     "output_type": "display_data"
    }
   ],
   "source": [
    "print(\"for year 2017:\")\n",
    "display(dfs[2017][['PropertyName']].head())\n",
    "print(\"for year 2019:\")\n",
    "display(dfs[2019][['BuildingName']].head())"
   ]
  },
  {
   "cell_type": "markdown",
   "id": "6f85d6db",
   "metadata": {
    "id": "6f85d6db"
   },
   "source": [
    "'YearsENERGYSTARCertified' contains all the years of certifications - all the years between 2000 & 2020 (so we'll count the number of certifications)"
   ]
  },
  {
   "cell_type": "code",
   "execution_count": 9,
   "id": "2315d5d9",
   "metadata": {
    "colab": {
     "base_uri": "https://localhost:8080/",
     "height": 164
    },
    "executionInfo": {
     "elapsed": 67,
     "status": "ok",
     "timestamp": 1678284537067,
     "user": {
      "displayName": "jean rochefort",
      "userId": "04520792891621341900"
     },
     "user_tz": -60
    },
    "id": "2315d5d9",
    "outputId": "c6890c70-f305-450b-c562-fc3829918d36"
   },
   "outputs": [
    {
     "data": {
      "text/html": [
       "<div>\n",
       "<style scoped>\n",
       "    .dataframe tbody tr th:only-of-type {\n",
       "        vertical-align: middle;\n",
       "    }\n",
       "\n",
       "    .dataframe tbody tr th {\n",
       "        vertical-align: top;\n",
       "    }\n",
       "\n",
       "    .dataframe thead th {\n",
       "        text-align: right;\n",
       "    }\n",
       "</style>\n",
       "<table border=\"1\" class=\"dataframe\">\n",
       "  <thead>\n",
       "    <tr style=\"text-align: right;\">\n",
       "      <th></th>\n",
       "      <th>OSEBuildingID</th>\n",
       "      <th>YearsENERGYSTARCertified</th>\n",
       "    </tr>\n",
       "  </thead>\n",
       "  <tbody>\n",
       "    <tr>\n",
       "      <th>37</th>\n",
       "      <td>50</td>\n",
       "      <td>2016</td>\n",
       "    </tr>\n",
       "    <tr>\n",
       "      <th>44</th>\n",
       "      <td>57</td>\n",
       "      <td>201820172016</td>\n",
       "    </tr>\n",
       "  </tbody>\n",
       "</table>\n",
       "</div>"
      ],
      "text/plain": [
       "    OSEBuildingID YearsENERGYSTARCertified\n",
       "37             50                     2016\n",
       "44             57             201820172016"
      ]
     },
     "metadata": {},
     "output_type": "display_data"
    },
    {
     "name": "stdout",
     "output_type": "stream",
     "text": [
      "['No Issue' 'Missing 2019 EUI or Electricity Data'\n",
      " 'Account Requires Verification' 'Default Data'\n",
      " 'Portfolio Manager Account Not Shared' 'Contact the Help Desk']\n"
     ]
    }
   ],
   "source": [
    "display(dfs[2017][~dfs[2017]['YearsENERGYSTARCertified'].isnull()][['OSEBuildingID', 'YearsENERGYSTARCertified' ]].head(2))\n",
    "print(dfs[2019]['ComplianceIssue'].unique())"
   ]
  },
  {
   "cell_type": "markdown",
   "id": "6b95679d",
   "metadata": {
    "id": "6b95679d"
   },
   "source": [
    "the 2019 dataset is the only one to have both 'PrimaryPropertyType' & 'EPAPropertyType' but the 2nd one is more informative, and finally the same thing as 'BuildingType'"
   ]
  },
  {
   "cell_type": "code",
   "execution_count": 10,
   "id": "ed731a16",
   "metadata": {
    "colab": {
     "base_uri": "https://localhost:8080/",
     "height": 423
    },
    "executionInfo": {
     "elapsed": 65,
     "status": "ok",
     "timestamp": 1678284537068,
     "user": {
      "displayName": "jean rochefort",
      "userId": "04520792891621341900"
     },
     "user_tz": -60
    },
    "id": "ed731a16",
    "outputId": "cbd172fb-c3fa-4a1d-cea9-63b29ef2702e"
   },
   "outputs": [
    {
     "data": {
      "text/html": [
       "<div>\n",
       "<style scoped>\n",
       "    .dataframe tbody tr th:only-of-type {\n",
       "        vertical-align: middle;\n",
       "    }\n",
       "\n",
       "    .dataframe tbody tr th {\n",
       "        vertical-align: top;\n",
       "    }\n",
       "\n",
       "    .dataframe thead th {\n",
       "        text-align: right;\n",
       "    }\n",
       "</style>\n",
       "<table border=\"1\" class=\"dataframe\">\n",
       "  <thead>\n",
       "    <tr style=\"text-align: right;\">\n",
       "      <th></th>\n",
       "      <th>OSEBuildingID</th>\n",
       "      <th>BuildingName</th>\n",
       "      <th>BuildingType</th>\n",
       "      <th>PrimaryPropertyType</th>\n",
       "      <th>EPAPropertyType</th>\n",
       "    </tr>\n",
       "  </thead>\n",
       "  <tbody>\n",
       "    <tr>\n",
       "      <th>9</th>\n",
       "      <td>13</td>\n",
       "      <td>LYON BUILDING</td>\n",
       "      <td>Multifamily MR (5-9)</td>\n",
       "      <td>Multifamily Housing</td>\n",
       "      <td>Multifamily MR (5-9)</td>\n",
       "    </tr>\n",
       "    <tr>\n",
       "      <th>110</th>\n",
       "      <td>183</td>\n",
       "      <td>EMERSON HALL, SEATTLE PACIFIC UNIVERSITY</td>\n",
       "      <td>Multifamily LR (1-4)</td>\n",
       "      <td>Residence Hall/Dormitory</td>\n",
       "      <td>Multifamily LR (1-4)</td>\n",
       "    </tr>\n",
       "    <tr>\n",
       "      <th>160</th>\n",
       "      <td>265</td>\n",
       "      <td>2024 THIRD AVE/YWCA</td>\n",
       "      <td>Multifamily MR (5-9)</td>\n",
       "      <td>Multifamily Housing</td>\n",
       "      <td>Multifamily MR (5-9)</td>\n",
       "    </tr>\n",
       "    <tr>\n",
       "      <th>161</th>\n",
       "      <td>266</td>\n",
       "      <td>WEST SEATTLE COMM. RESOURCE CENTER/FOOD BANK A...</td>\n",
       "      <td>Multifamily LR (1-4)</td>\n",
       "      <td>Multifamily Housing</td>\n",
       "      <td>Multifamily LR (1-4)</td>\n",
       "    </tr>\n",
       "    <tr>\n",
       "      <th>169</th>\n",
       "      <td>280</td>\n",
       "      <td>THE WINTONIA</td>\n",
       "      <td>Multifamily MR (5-9)</td>\n",
       "      <td>Multifamily Housing</td>\n",
       "      <td>Multifamily MR (5-9)</td>\n",
       "    </tr>\n",
       "    <tr>\n",
       "      <th>...</th>\n",
       "      <td>...</td>\n",
       "      <td>...</td>\n",
       "      <td>...</td>\n",
       "      <td>...</td>\n",
       "      <td>...</td>\n",
       "    </tr>\n",
       "    <tr>\n",
       "      <th>3573</th>\n",
       "      <td>50535</td>\n",
       "      <td>UPTON FLATS AT HIGH POINT</td>\n",
       "      <td>Multifamily LR (1-4)</td>\n",
       "      <td>NaN</td>\n",
       "      <td>NaN</td>\n",
       "    </tr>\n",
       "    <tr>\n",
       "      <th>3575</th>\n",
       "      <td>50539</td>\n",
       "      <td>KIARA</td>\n",
       "      <td>Multifamily HR (10+)</td>\n",
       "      <td>Multifamily Housing</td>\n",
       "      <td>Multifamily HR (10+)</td>\n",
       "    </tr>\n",
       "    <tr>\n",
       "      <th>3576</th>\n",
       "      <td>50540</td>\n",
       "      <td>EVEN HOTELS &amp; STAYBRIDGE SUITES</td>\n",
       "      <td>NonResidential</td>\n",
       "      <td>NaN</td>\n",
       "      <td>NaN</td>\n",
       "    </tr>\n",
       "    <tr>\n",
       "      <th>3579</th>\n",
       "      <td>50633</td>\n",
       "      <td>BROADWAY ESTATES LLC</td>\n",
       "      <td>Multifamily MR (5-9)</td>\n",
       "      <td>Multifamily Housing</td>\n",
       "      <td>Multifamily MR (5-9)</td>\n",
       "    </tr>\n",
       "    <tr>\n",
       "      <th>3580</th>\n",
       "      <td>50634</td>\n",
       "      <td>NORTHGATE 3 LLC</td>\n",
       "      <td>Multifamily MR (5-9)</td>\n",
       "      <td>Multifamily Housing</td>\n",
       "      <td>Multifamily MR (5-9)</td>\n",
       "    </tr>\n",
       "  </tbody>\n",
       "</table>\n",
       "<p>1914 rows × 5 columns</p>\n",
       "</div>"
      ],
      "text/plain": [
       "      OSEBuildingID                                       BuildingName  \\\n",
       "9                13                                      LYON BUILDING   \n",
       "110             183           EMERSON HALL, SEATTLE PACIFIC UNIVERSITY   \n",
       "160             265                                2024 THIRD AVE/YWCA   \n",
       "161             266  WEST SEATTLE COMM. RESOURCE CENTER/FOOD BANK A...   \n",
       "169             280                                       THE WINTONIA   \n",
       "...             ...                                                ...   \n",
       "3573          50535                          UPTON FLATS AT HIGH POINT   \n",
       "3575          50539                                              KIARA   \n",
       "3576          50540                    EVEN HOTELS & STAYBRIDGE SUITES   \n",
       "3579          50633                               BROADWAY ESTATES LLC   \n",
       "3580          50634                                    NORTHGATE 3 LLC   \n",
       "\n",
       "              BuildingType       PrimaryPropertyType       EPAPropertyType  \n",
       "9     Multifamily MR (5-9)       Multifamily Housing  Multifamily MR (5-9)  \n",
       "110   Multifamily LR (1-4)  Residence Hall/Dormitory  Multifamily LR (1-4)  \n",
       "160   Multifamily MR (5-9)       Multifamily Housing  Multifamily MR (5-9)  \n",
       "161   Multifamily LR (1-4)       Multifamily Housing  Multifamily LR (1-4)  \n",
       "169   Multifamily MR (5-9)       Multifamily Housing  Multifamily MR (5-9)  \n",
       "...                    ...                       ...                   ...  \n",
       "3573  Multifamily LR (1-4)                       NaN                   NaN  \n",
       "3575  Multifamily HR (10+)       Multifamily Housing  Multifamily HR (10+)  \n",
       "3576        NonResidential                       NaN                   NaN  \n",
       "3579  Multifamily MR (5-9)       Multifamily Housing  Multifamily MR (5-9)  \n",
       "3580  Multifamily MR (5-9)       Multifamily Housing  Multifamily MR (5-9)  \n",
       "\n",
       "[1914 rows x 5 columns]"
      ]
     },
     "execution_count": 10,
     "metadata": {},
     "output_type": "execute_result"
    }
   ],
   "source": [
    "df_19 = dfs[2019].copy()\n",
    "df_19[df_19.PrimaryPropertyType != df_19.EPAPropertyType][['OSEBuildingID', 'BuildingName', 'BuildingType', 'PrimaryPropertyType', 'EPAPropertyType' ]]"
   ]
  },
  {
   "cell_type": "markdown",
   "id": "e24e5229",
   "metadata": {
    "id": "e24e5229"
   },
   "source": [
    "But 'ListOfAllPropertyUseTypes' add many informations. It'll be interesting to count the number of different types"
   ]
  },
  {
   "cell_type": "code",
   "execution_count": 11,
   "id": "2ddd57b4",
   "metadata": {
    "colab": {
     "base_uri": "https://localhost:8080/",
     "height": 206
    },
    "executionInfo": {
     "elapsed": 64,
     "status": "ok",
     "timestamp": 1678284537069,
     "user": {
      "displayName": "jean rochefort",
      "userId": "04520792891621341900"
     },
     "user_tz": -60
    },
    "id": "2ddd57b4",
    "outputId": "0f981b6d-22f4-49b9-f637-57dbbe3a8562"
   },
   "outputs": [
    {
     "data": {
      "text/html": [
       "<div>\n",
       "<style scoped>\n",
       "    .dataframe tbody tr th:only-of-type {\n",
       "        vertical-align: middle;\n",
       "    }\n",
       "\n",
       "    .dataframe tbody tr th {\n",
       "        vertical-align: top;\n",
       "    }\n",
       "\n",
       "    .dataframe thead th {\n",
       "        text-align: right;\n",
       "    }\n",
       "</style>\n",
       "<table border=\"1\" class=\"dataframe\">\n",
       "  <thead>\n",
       "    <tr style=\"text-align: right;\">\n",
       "      <th></th>\n",
       "      <th>ListOfAllPropertyUseTypes</th>\n",
       "    </tr>\n",
       "  </thead>\n",
       "  <tbody>\n",
       "    <tr>\n",
       "      <th>0</th>\n",
       "      <td>Hotel</td>\n",
       "    </tr>\n",
       "    <tr>\n",
       "      <th>1</th>\n",
       "      <td>Hotel, Parking, Restaurant</td>\n",
       "    </tr>\n",
       "    <tr>\n",
       "      <th>2</th>\n",
       "      <td>Hotel, Parking, Swimming Pool</td>\n",
       "    </tr>\n",
       "    <tr>\n",
       "      <th>3</th>\n",
       "      <td>Hotel</td>\n",
       "    </tr>\n",
       "    <tr>\n",
       "      <th>4</th>\n",
       "      <td>Hotel, Parking, Swimming Pool</td>\n",
       "    </tr>\n",
       "  </tbody>\n",
       "</table>\n",
       "</div>"
      ],
      "text/plain": [
       "       ListOfAllPropertyUseTypes\n",
       "0                          Hotel\n",
       "1     Hotel, Parking, Restaurant\n",
       "2  Hotel, Parking, Swimming Pool\n",
       "3                          Hotel\n",
       "4  Hotel, Parking, Swimming Pool"
      ]
     },
     "metadata": {},
     "output_type": "display_data"
    }
   ],
   "source": [
    "display(dfs[2017][['ListOfAllPropertyUseTypes']].head())"
   ]
  },
  {
   "cell_type": "markdown",
   "id": "aaf09c85",
   "metadata": {
    "id": "aaf09c85"
   },
   "source": [
    "## Aggregation of the datasets for all the years\n",
    "\n",
    "Now we are able to concatenate all the files together, there are still few nan that we'll deal with later:"
   ]
  },
  {
   "cell_type": "code",
   "execution_count": 12,
   "id": "2576aeb0",
   "metadata": {
    "colab": {
     "base_uri": "https://localhost:8080/",
     "height": 1000
    },
    "executionInfo": {
     "elapsed": 3643,
     "status": "ok",
     "timestamp": 1678284540651,
     "user": {
      "displayName": "jean rochefort",
      "userId": "04520792891621341900"
     },
     "user_tz": -60
    },
    "id": "2576aeb0",
    "outputId": "b8195c19-d1ef-492e-a514-82e0710636c6"
   },
   "outputs": [
    {
     "data": {
      "text/html": [
       "<style type=\"text/css\">\n",
       "#T_1c9bb_row20_col3, #T_1c9bb_row20_col4, #T_1c9bb_row33_col1, #T_1c9bb_row33_col2, #T_1c9bb_row33_col3, #T_1c9bb_row33_col4, #T_1c9bb_row36_col3, #T_1c9bb_row36_col4, #T_1c9bb_row37_col1, #T_1c9bb_row37_col2, #T_1c9bb_row37_col3, #T_1c9bb_row37_col4, #T_1c9bb_row39_col3, #T_1c9bb_row39_col4, #T_1c9bb_row46_col0, #T_1c9bb_row46_col2, #T_1c9bb_row46_col3, #T_1c9bb_row46_col4, #T_1c9bb_row47_col0, #T_1c9bb_row47_col1, #T_1c9bb_row47_col2 {\n",
       "  background-color: yellow;\n",
       "}\n",
       "</style>\n",
       "<table id=\"T_1c9bb\">\n",
       "  <thead>\n",
       "    <tr>\n",
       "      <th class=\"blank level0\" >&nbsp;</th>\n",
       "      <th id=\"T_1c9bb_level0_col0\" class=\"col_heading level0 col0\" >2015</th>\n",
       "      <th id=\"T_1c9bb_level0_col1\" class=\"col_heading level0 col1\" >2016</th>\n",
       "      <th id=\"T_1c9bb_level0_col2\" class=\"col_heading level0 col2\" >2017</th>\n",
       "      <th id=\"T_1c9bb_level0_col3\" class=\"col_heading level0 col3\" >2019</th>\n",
       "      <th id=\"T_1c9bb_level0_col4\" class=\"col_heading level0 col4\" >2020</th>\n",
       "    </tr>\n",
       "  </thead>\n",
       "  <tbody>\n",
       "    <tr>\n",
       "      <th id=\"T_1c9bb_level0_row0\" class=\"row_heading level0 row0\" >DataYear</th>\n",
       "      <td id=\"T_1c9bb_row0_col0\" class=\"data row0 col0\" >int64</td>\n",
       "      <td id=\"T_1c9bb_row0_col1\" class=\"data row0 col1\" >int64</td>\n",
       "      <td id=\"T_1c9bb_row0_col2\" class=\"data row0 col2\" >int64</td>\n",
       "      <td id=\"T_1c9bb_row0_col3\" class=\"data row0 col3\" >int64</td>\n",
       "      <td id=\"T_1c9bb_row0_col4\" class=\"data row0 col4\" >int64</td>\n",
       "    </tr>\n",
       "    <tr>\n",
       "      <th id=\"T_1c9bb_level0_row1\" class=\"row_heading level0 row1\" >BuildingType</th>\n",
       "      <td id=\"T_1c9bb_row1_col0\" class=\"data row1 col0\" >object</td>\n",
       "      <td id=\"T_1c9bb_row1_col1\" class=\"data row1 col1\" >object</td>\n",
       "      <td id=\"T_1c9bb_row1_col2\" class=\"data row1 col2\" >object</td>\n",
       "      <td id=\"T_1c9bb_row1_col3\" class=\"data row1 col3\" >object</td>\n",
       "      <td id=\"T_1c9bb_row1_col4\" class=\"data row1 col4\" >object</td>\n",
       "    </tr>\n",
       "    <tr>\n",
       "      <th id=\"T_1c9bb_level0_row2\" class=\"row_heading level0 row2\" >PrimaryPropertyType</th>\n",
       "      <td id=\"T_1c9bb_row2_col0\" class=\"data row2 col0\" >object</td>\n",
       "      <td id=\"T_1c9bb_row2_col1\" class=\"data row2 col1\" >object</td>\n",
       "      <td id=\"T_1c9bb_row2_col2\" class=\"data row2 col2\" >object</td>\n",
       "      <td id=\"T_1c9bb_row2_col3\" class=\"data row2 col3\" >object</td>\n",
       "      <td id=\"T_1c9bb_row2_col4\" class=\"data row2 col4\" >object</td>\n",
       "    </tr>\n",
       "    <tr>\n",
       "      <th id=\"T_1c9bb_level0_row3\" class=\"row_heading level0 row3\" >BuildingName</th>\n",
       "      <td id=\"T_1c9bb_row3_col0\" class=\"data row3 col0\" >object</td>\n",
       "      <td id=\"T_1c9bb_row3_col1\" class=\"data row3 col1\" >object</td>\n",
       "      <td id=\"T_1c9bb_row3_col2\" class=\"data row3 col2\" >object</td>\n",
       "      <td id=\"T_1c9bb_row3_col3\" class=\"data row3 col3\" >object</td>\n",
       "      <td id=\"T_1c9bb_row3_col4\" class=\"data row3 col4\" >object</td>\n",
       "    </tr>\n",
       "    <tr>\n",
       "      <th id=\"T_1c9bb_level0_row4\" class=\"row_heading level0 row4\" >TaxParcelIdentificationNumber</th>\n",
       "      <td id=\"T_1c9bb_row4_col0\" class=\"data row4 col0\" >object</td>\n",
       "      <td id=\"T_1c9bb_row4_col1\" class=\"data row4 col1\" >object</td>\n",
       "      <td id=\"T_1c9bb_row4_col2\" class=\"data row4 col2\" >object</td>\n",
       "      <td id=\"T_1c9bb_row4_col3\" class=\"data row4 col3\" >object</td>\n",
       "      <td id=\"T_1c9bb_row4_col4\" class=\"data row4 col4\" >object</td>\n",
       "    </tr>\n",
       "    <tr>\n",
       "      <th id=\"T_1c9bb_level0_row5\" class=\"row_heading level0 row5\" >CouncilDistrictCode</th>\n",
       "      <td id=\"T_1c9bb_row5_col0\" class=\"data row5 col0\" >int64</td>\n",
       "      <td id=\"T_1c9bb_row5_col1\" class=\"data row5 col1\" >int64</td>\n",
       "      <td id=\"T_1c9bb_row5_col2\" class=\"data row5 col2\" >float64</td>\n",
       "      <td id=\"T_1c9bb_row5_col3\" class=\"data row5 col3\" >float64</td>\n",
       "      <td id=\"T_1c9bb_row5_col4\" class=\"data row5 col4\" >float64</td>\n",
       "    </tr>\n",
       "    <tr>\n",
       "      <th id=\"T_1c9bb_level0_row6\" class=\"row_heading level0 row6\" >Neighborhood</th>\n",
       "      <td id=\"T_1c9bb_row6_col0\" class=\"data row6 col0\" >object</td>\n",
       "      <td id=\"T_1c9bb_row6_col1\" class=\"data row6 col1\" >object</td>\n",
       "      <td id=\"T_1c9bb_row6_col2\" class=\"data row6 col2\" >object</td>\n",
       "      <td id=\"T_1c9bb_row6_col3\" class=\"data row6 col3\" >object</td>\n",
       "      <td id=\"T_1c9bb_row6_col4\" class=\"data row6 col4\" >object</td>\n",
       "    </tr>\n",
       "    <tr>\n",
       "      <th id=\"T_1c9bb_level0_row7\" class=\"row_heading level0 row7\" >YearBuilt</th>\n",
       "      <td id=\"T_1c9bb_row7_col0\" class=\"data row7 col0\" >int64</td>\n",
       "      <td id=\"T_1c9bb_row7_col1\" class=\"data row7 col1\" >int64</td>\n",
       "      <td id=\"T_1c9bb_row7_col2\" class=\"data row7 col2\" >float64</td>\n",
       "      <td id=\"T_1c9bb_row7_col3\" class=\"data row7 col3\" >int64</td>\n",
       "      <td id=\"T_1c9bb_row7_col4\" class=\"data row7 col4\" >int64</td>\n",
       "    </tr>\n",
       "    <tr>\n",
       "      <th id=\"T_1c9bb_level0_row8\" class=\"row_heading level0 row8\" >NumberofBuildings</th>\n",
       "      <td id=\"T_1c9bb_row8_col0\" class=\"data row8 col0\" >int64</td>\n",
       "      <td id=\"T_1c9bb_row8_col1\" class=\"data row8 col1\" >float64</td>\n",
       "      <td id=\"T_1c9bb_row8_col2\" class=\"data row8 col2\" >float64</td>\n",
       "      <td id=\"T_1c9bb_row8_col3\" class=\"data row8 col3\" >float64</td>\n",
       "      <td id=\"T_1c9bb_row8_col4\" class=\"data row8 col4\" >int64</td>\n",
       "    </tr>\n",
       "    <tr>\n",
       "      <th id=\"T_1c9bb_level0_row9\" class=\"row_heading level0 row9\" >NumberofFloors</th>\n",
       "      <td id=\"T_1c9bb_row9_col0\" class=\"data row9 col0\" >float64</td>\n",
       "      <td id=\"T_1c9bb_row9_col1\" class=\"data row9 col1\" >int64</td>\n",
       "      <td id=\"T_1c9bb_row9_col2\" class=\"data row9 col2\" >float64</td>\n",
       "      <td id=\"T_1c9bb_row9_col3\" class=\"data row9 col3\" >int64</td>\n",
       "      <td id=\"T_1c9bb_row9_col4\" class=\"data row9 col4\" >int64</td>\n",
       "    </tr>\n",
       "    <tr>\n",
       "      <th id=\"T_1c9bb_level0_row10\" class=\"row_heading level0 row10\" >PropertyGFATotal</th>\n",
       "      <td id=\"T_1c9bb_row10_col0\" class=\"data row10 col0\" >int64</td>\n",
       "      <td id=\"T_1c9bb_row10_col1\" class=\"data row10 col1\" >int64</td>\n",
       "      <td id=\"T_1c9bb_row10_col2\" class=\"data row10 col2\" >int64</td>\n",
       "      <td id=\"T_1c9bb_row10_col3\" class=\"data row10 col3\" >int64</td>\n",
       "      <td id=\"T_1c9bb_row10_col4\" class=\"data row10 col4\" >int64</td>\n",
       "    </tr>\n",
       "    <tr>\n",
       "      <th id=\"T_1c9bb_level0_row11\" class=\"row_heading level0 row11\" >PropertyGFAParking</th>\n",
       "      <td id=\"T_1c9bb_row11_col0\" class=\"data row11 col0\" >int64</td>\n",
       "      <td id=\"T_1c9bb_row11_col1\" class=\"data row11 col1\" >int64</td>\n",
       "      <td id=\"T_1c9bb_row11_col2\" class=\"data row11 col2\" >float64</td>\n",
       "      <td id=\"T_1c9bb_row11_col3\" class=\"data row11 col3\" >int64</td>\n",
       "      <td id=\"T_1c9bb_row11_col4\" class=\"data row11 col4\" >int64</td>\n",
       "    </tr>\n",
       "    <tr>\n",
       "      <th id=\"T_1c9bb_level0_row12\" class=\"row_heading level0 row12\" >PropertyGFABuilding(s)</th>\n",
       "      <td id=\"T_1c9bb_row12_col0\" class=\"data row12 col0\" >int64</td>\n",
       "      <td id=\"T_1c9bb_row12_col1\" class=\"data row12 col1\" >int64</td>\n",
       "      <td id=\"T_1c9bb_row12_col2\" class=\"data row12 col2\" >float64</td>\n",
       "      <td id=\"T_1c9bb_row12_col3\" class=\"data row12 col3\" >int64</td>\n",
       "      <td id=\"T_1c9bb_row12_col4\" class=\"data row12 col4\" >int64</td>\n",
       "    </tr>\n",
       "    <tr>\n",
       "      <th id=\"T_1c9bb_level0_row13\" class=\"row_heading level0 row13\" >ListOfAllPropertyUseTypes</th>\n",
       "      <td id=\"T_1c9bb_row13_col0\" class=\"data row13 col0\" >object</td>\n",
       "      <td id=\"T_1c9bb_row13_col1\" class=\"data row13 col1\" >object</td>\n",
       "      <td id=\"T_1c9bb_row13_col2\" class=\"data row13 col2\" >object</td>\n",
       "      <td id=\"T_1c9bb_row13_col3\" class=\"data row13 col3\" >object</td>\n",
       "      <td id=\"T_1c9bb_row13_col4\" class=\"data row13 col4\" >object</td>\n",
       "    </tr>\n",
       "    <tr>\n",
       "      <th id=\"T_1c9bb_level0_row14\" class=\"row_heading level0 row14\" >LargestPropertyUseType</th>\n",
       "      <td id=\"T_1c9bb_row14_col0\" class=\"data row14 col0\" >object</td>\n",
       "      <td id=\"T_1c9bb_row14_col1\" class=\"data row14 col1\" >object</td>\n",
       "      <td id=\"T_1c9bb_row14_col2\" class=\"data row14 col2\" >object</td>\n",
       "      <td id=\"T_1c9bb_row14_col3\" class=\"data row14 col3\" >object</td>\n",
       "      <td id=\"T_1c9bb_row14_col4\" class=\"data row14 col4\" >object</td>\n",
       "    </tr>\n",
       "    <tr>\n",
       "      <th id=\"T_1c9bb_level0_row15\" class=\"row_heading level0 row15\" >LargestPropertyUseTypeGFA</th>\n",
       "      <td id=\"T_1c9bb_row15_col0\" class=\"data row15 col0\" >float64</td>\n",
       "      <td id=\"T_1c9bb_row15_col1\" class=\"data row15 col1\" >float64</td>\n",
       "      <td id=\"T_1c9bb_row15_col2\" class=\"data row15 col2\" >float64</td>\n",
       "      <td id=\"T_1c9bb_row15_col3\" class=\"data row15 col3\" >float64</td>\n",
       "      <td id=\"T_1c9bb_row15_col4\" class=\"data row15 col4\" >float64</td>\n",
       "    </tr>\n",
       "    <tr>\n",
       "      <th id=\"T_1c9bb_level0_row16\" class=\"row_heading level0 row16\" >SecondLargestPropertyUseType</th>\n",
       "      <td id=\"T_1c9bb_row16_col0\" class=\"data row16 col0\" >object</td>\n",
       "      <td id=\"T_1c9bb_row16_col1\" class=\"data row16 col1\" >object</td>\n",
       "      <td id=\"T_1c9bb_row16_col2\" class=\"data row16 col2\" >object</td>\n",
       "      <td id=\"T_1c9bb_row16_col3\" class=\"data row16 col3\" >object</td>\n",
       "      <td id=\"T_1c9bb_row16_col4\" class=\"data row16 col4\" >object</td>\n",
       "    </tr>\n",
       "    <tr>\n",
       "      <th id=\"T_1c9bb_level0_row17\" class=\"row_heading level0 row17\" >SecondLargestPropertyUseTypeGFA</th>\n",
       "      <td id=\"T_1c9bb_row17_col0\" class=\"data row17 col0\" >float64</td>\n",
       "      <td id=\"T_1c9bb_row17_col1\" class=\"data row17 col1\" >float64</td>\n",
       "      <td id=\"T_1c9bb_row17_col2\" class=\"data row17 col2\" >float64</td>\n",
       "      <td id=\"T_1c9bb_row17_col3\" class=\"data row17 col3\" >float64</td>\n",
       "      <td id=\"T_1c9bb_row17_col4\" class=\"data row17 col4\" >float64</td>\n",
       "    </tr>\n",
       "    <tr>\n",
       "      <th id=\"T_1c9bb_level0_row18\" class=\"row_heading level0 row18\" >ThirdLargestPropertyUseType</th>\n",
       "      <td id=\"T_1c9bb_row18_col0\" class=\"data row18 col0\" >object</td>\n",
       "      <td id=\"T_1c9bb_row18_col1\" class=\"data row18 col1\" >object</td>\n",
       "      <td id=\"T_1c9bb_row18_col2\" class=\"data row18 col2\" >object</td>\n",
       "      <td id=\"T_1c9bb_row18_col3\" class=\"data row18 col3\" >object</td>\n",
       "      <td id=\"T_1c9bb_row18_col4\" class=\"data row18 col4\" >object</td>\n",
       "    </tr>\n",
       "    <tr>\n",
       "      <th id=\"T_1c9bb_level0_row19\" class=\"row_heading level0 row19\" >ThirdLargestPropertyUseTypeGFA</th>\n",
       "      <td id=\"T_1c9bb_row19_col0\" class=\"data row19 col0\" >float64</td>\n",
       "      <td id=\"T_1c9bb_row19_col1\" class=\"data row19 col1\" >float64</td>\n",
       "      <td id=\"T_1c9bb_row19_col2\" class=\"data row19 col2\" >float64</td>\n",
       "      <td id=\"T_1c9bb_row19_col3\" class=\"data row19 col3\" >float64</td>\n",
       "      <td id=\"T_1c9bb_row19_col4\" class=\"data row19 col4\" >float64</td>\n",
       "    </tr>\n",
       "    <tr>\n",
       "      <th id=\"T_1c9bb_level0_row20\" class=\"row_heading level0 row20\" >YearsENERGYSTARCertified</th>\n",
       "      <td id=\"T_1c9bb_row20_col0\" class=\"data row20 col0\" >object</td>\n",
       "      <td id=\"T_1c9bb_row20_col1\" class=\"data row20 col1\" >object</td>\n",
       "      <td id=\"T_1c9bb_row20_col2\" class=\"data row20 col2\" >object</td>\n",
       "      <td id=\"T_1c9bb_row20_col3\" class=\"data row20 col3\" >nan</td>\n",
       "      <td id=\"T_1c9bb_row20_col4\" class=\"data row20 col4\" >nan</td>\n",
       "    </tr>\n",
       "    <tr>\n",
       "      <th id=\"T_1c9bb_level0_row21\" class=\"row_heading level0 row21\" >ENERGYSTARScore</th>\n",
       "      <td id=\"T_1c9bb_row21_col0\" class=\"data row21 col0\" >float64</td>\n",
       "      <td id=\"T_1c9bb_row21_col1\" class=\"data row21 col1\" >float64</td>\n",
       "      <td id=\"T_1c9bb_row21_col2\" class=\"data row21 col2\" >float64</td>\n",
       "      <td id=\"T_1c9bb_row21_col3\" class=\"data row21 col3\" >float64</td>\n",
       "      <td id=\"T_1c9bb_row21_col4\" class=\"data row21 col4\" >float64</td>\n",
       "    </tr>\n",
       "    <tr>\n",
       "      <th id=\"T_1c9bb_level0_row22\" class=\"row_heading level0 row22\" >SiteEUI(kBtu/sf)</th>\n",
       "      <td id=\"T_1c9bb_row22_col0\" class=\"data row22 col0\" >float64</td>\n",
       "      <td id=\"T_1c9bb_row22_col1\" class=\"data row22 col1\" >float64</td>\n",
       "      <td id=\"T_1c9bb_row22_col2\" class=\"data row22 col2\" >float64</td>\n",
       "      <td id=\"T_1c9bb_row22_col3\" class=\"data row22 col3\" >float64</td>\n",
       "      <td id=\"T_1c9bb_row22_col4\" class=\"data row22 col4\" >float64</td>\n",
       "    </tr>\n",
       "    <tr>\n",
       "      <th id=\"T_1c9bb_level0_row23\" class=\"row_heading level0 row23\" >SiteEUIWN(kBtu/sf)</th>\n",
       "      <td id=\"T_1c9bb_row23_col0\" class=\"data row23 col0\" >float64</td>\n",
       "      <td id=\"T_1c9bb_row23_col1\" class=\"data row23 col1\" >float64</td>\n",
       "      <td id=\"T_1c9bb_row23_col2\" class=\"data row23 col2\" >float64</td>\n",
       "      <td id=\"T_1c9bb_row23_col3\" class=\"data row23 col3\" >float64</td>\n",
       "      <td id=\"T_1c9bb_row23_col4\" class=\"data row23 col4\" >float64</td>\n",
       "    </tr>\n",
       "    <tr>\n",
       "      <th id=\"T_1c9bb_level0_row24\" class=\"row_heading level0 row24\" >SourceEUI(kBtu/sf)</th>\n",
       "      <td id=\"T_1c9bb_row24_col0\" class=\"data row24 col0\" >float64</td>\n",
       "      <td id=\"T_1c9bb_row24_col1\" class=\"data row24 col1\" >float64</td>\n",
       "      <td id=\"T_1c9bb_row24_col2\" class=\"data row24 col2\" >float64</td>\n",
       "      <td id=\"T_1c9bb_row24_col3\" class=\"data row24 col3\" >float64</td>\n",
       "      <td id=\"T_1c9bb_row24_col4\" class=\"data row24 col4\" >float64</td>\n",
       "    </tr>\n",
       "    <tr>\n",
       "      <th id=\"T_1c9bb_level0_row25\" class=\"row_heading level0 row25\" >SourceEUIWN(kBtu/sf)</th>\n",
       "      <td id=\"T_1c9bb_row25_col0\" class=\"data row25 col0\" >float64</td>\n",
       "      <td id=\"T_1c9bb_row25_col1\" class=\"data row25 col1\" >float64</td>\n",
       "      <td id=\"T_1c9bb_row25_col2\" class=\"data row25 col2\" >float64</td>\n",
       "      <td id=\"T_1c9bb_row25_col3\" class=\"data row25 col3\" >float64</td>\n",
       "      <td id=\"T_1c9bb_row25_col4\" class=\"data row25 col4\" >float64</td>\n",
       "    </tr>\n",
       "    <tr>\n",
       "      <th id=\"T_1c9bb_level0_row26\" class=\"row_heading level0 row26\" >SiteEnergyUse(kBtu)</th>\n",
       "      <td id=\"T_1c9bb_row26_col0\" class=\"data row26 col0\" >float64</td>\n",
       "      <td id=\"T_1c9bb_row26_col1\" class=\"data row26 col1\" >float64</td>\n",
       "      <td id=\"T_1c9bb_row26_col2\" class=\"data row26 col2\" >float64</td>\n",
       "      <td id=\"T_1c9bb_row26_col3\" class=\"data row26 col3\" >float64</td>\n",
       "      <td id=\"T_1c9bb_row26_col4\" class=\"data row26 col4\" >float64</td>\n",
       "    </tr>\n",
       "    <tr>\n",
       "      <th id=\"T_1c9bb_level0_row27\" class=\"row_heading level0 row27\" >SiteEnergyUseWN(kBtu)</th>\n",
       "      <td id=\"T_1c9bb_row27_col0\" class=\"data row27 col0\" >float64</td>\n",
       "      <td id=\"T_1c9bb_row27_col1\" class=\"data row27 col1\" >float64</td>\n",
       "      <td id=\"T_1c9bb_row27_col2\" class=\"data row27 col2\" >float64</td>\n",
       "      <td id=\"T_1c9bb_row27_col3\" class=\"data row27 col3\" >float64</td>\n",
       "      <td id=\"T_1c9bb_row27_col4\" class=\"data row27 col4\" >float64</td>\n",
       "    </tr>\n",
       "    <tr>\n",
       "      <th id=\"T_1c9bb_level0_row28\" class=\"row_heading level0 row28\" >SteamUse(kBtu)</th>\n",
       "      <td id=\"T_1c9bb_row28_col0\" class=\"data row28 col0\" >float64</td>\n",
       "      <td id=\"T_1c9bb_row28_col1\" class=\"data row28 col1\" >float64</td>\n",
       "      <td id=\"T_1c9bb_row28_col2\" class=\"data row28 col2\" >float64</td>\n",
       "      <td id=\"T_1c9bb_row28_col3\" class=\"data row28 col3\" >int64</td>\n",
       "      <td id=\"T_1c9bb_row28_col4\" class=\"data row28 col4\" >int64</td>\n",
       "    </tr>\n",
       "    <tr>\n",
       "      <th id=\"T_1c9bb_level0_row29\" class=\"row_heading level0 row29\" >Electricity(kWh)</th>\n",
       "      <td id=\"T_1c9bb_row29_col0\" class=\"data row29 col0\" >float64</td>\n",
       "      <td id=\"T_1c9bb_row29_col1\" class=\"data row29 col1\" >float64</td>\n",
       "      <td id=\"T_1c9bb_row29_col2\" class=\"data row29 col2\" >float64</td>\n",
       "      <td id=\"T_1c9bb_row29_col3\" class=\"data row29 col3\" >int64</td>\n",
       "      <td id=\"T_1c9bb_row29_col4\" class=\"data row29 col4\" >int64</td>\n",
       "    </tr>\n",
       "    <tr>\n",
       "      <th id=\"T_1c9bb_level0_row30\" class=\"row_heading level0 row30\" >Electricity(kBtu)</th>\n",
       "      <td id=\"T_1c9bb_row30_col0\" class=\"data row30 col0\" >float64</td>\n",
       "      <td id=\"T_1c9bb_row30_col1\" class=\"data row30 col1\" >float64</td>\n",
       "      <td id=\"T_1c9bb_row30_col2\" class=\"data row30 col2\" >float64</td>\n",
       "      <td id=\"T_1c9bb_row30_col3\" class=\"data row30 col3\" >int64</td>\n",
       "      <td id=\"T_1c9bb_row30_col4\" class=\"data row30 col4\" >float64</td>\n",
       "    </tr>\n",
       "    <tr>\n",
       "      <th id=\"T_1c9bb_level0_row31\" class=\"row_heading level0 row31\" >NaturalGas(therms)</th>\n",
       "      <td id=\"T_1c9bb_row31_col0\" class=\"data row31 col0\" >float64</td>\n",
       "      <td id=\"T_1c9bb_row31_col1\" class=\"data row31 col1\" >float64</td>\n",
       "      <td id=\"T_1c9bb_row31_col2\" class=\"data row31 col2\" >float64</td>\n",
       "      <td id=\"T_1c9bb_row31_col3\" class=\"data row31 col3\" >int64</td>\n",
       "      <td id=\"T_1c9bb_row31_col4\" class=\"data row31 col4\" >int64</td>\n",
       "    </tr>\n",
       "    <tr>\n",
       "      <th id=\"T_1c9bb_level0_row32\" class=\"row_heading level0 row32\" >NaturalGas(kBtu)</th>\n",
       "      <td id=\"T_1c9bb_row32_col0\" class=\"data row32 col0\" >float64</td>\n",
       "      <td id=\"T_1c9bb_row32_col1\" class=\"data row32 col1\" >float64</td>\n",
       "      <td id=\"T_1c9bb_row32_col2\" class=\"data row32 col2\" >float64</td>\n",
       "      <td id=\"T_1c9bb_row32_col3\" class=\"data row32 col3\" >int64</td>\n",
       "      <td id=\"T_1c9bb_row32_col4\" class=\"data row32 col4\" >float64</td>\n",
       "    </tr>\n",
       "    <tr>\n",
       "      <th id=\"T_1c9bb_level0_row33\" class=\"row_heading level0 row33\" >OtherFuelUse(kBtu)</th>\n",
       "      <td id=\"T_1c9bb_row33_col0\" class=\"data row33 col0\" >float64</td>\n",
       "      <td id=\"T_1c9bb_row33_col1\" class=\"data row33 col1\" >nan</td>\n",
       "      <td id=\"T_1c9bb_row33_col2\" class=\"data row33 col2\" >nan</td>\n",
       "      <td id=\"T_1c9bb_row33_col3\" class=\"data row33 col3\" >nan</td>\n",
       "      <td id=\"T_1c9bb_row33_col4\" class=\"data row33 col4\" >nan</td>\n",
       "    </tr>\n",
       "    <tr>\n",
       "      <th id=\"T_1c9bb_level0_row34\" class=\"row_heading level0 row34\" >TotalGHGEmissions</th>\n",
       "      <td id=\"T_1c9bb_row34_col0\" class=\"data row34 col0\" >float64</td>\n",
       "      <td id=\"T_1c9bb_row34_col1\" class=\"data row34 col1\" >float64</td>\n",
       "      <td id=\"T_1c9bb_row34_col2\" class=\"data row34 col2\" >float64</td>\n",
       "      <td id=\"T_1c9bb_row34_col3\" class=\"data row34 col3\" >float64</td>\n",
       "      <td id=\"T_1c9bb_row34_col4\" class=\"data row34 col4\" >float64</td>\n",
       "    </tr>\n",
       "    <tr>\n",
       "      <th id=\"T_1c9bb_level0_row35\" class=\"row_heading level0 row35\" >GHGEmissionsIntensity</th>\n",
       "      <td id=\"T_1c9bb_row35_col0\" class=\"data row35 col0\" >float64</td>\n",
       "      <td id=\"T_1c9bb_row35_col1\" class=\"data row35 col1\" >float64</td>\n",
       "      <td id=\"T_1c9bb_row35_col2\" class=\"data row35 col2\" >float64</td>\n",
       "      <td id=\"T_1c9bb_row35_col3\" class=\"data row35 col3\" >float64</td>\n",
       "      <td id=\"T_1c9bb_row35_col4\" class=\"data row35 col4\" >float64</td>\n",
       "    </tr>\n",
       "    <tr>\n",
       "      <th id=\"T_1c9bb_level0_row36\" class=\"row_heading level0 row36\" >DefaultData</th>\n",
       "      <td id=\"T_1c9bb_row36_col0\" class=\"data row36 col0\" >object</td>\n",
       "      <td id=\"T_1c9bb_row36_col1\" class=\"data row36 col1\" >bool</td>\n",
       "      <td id=\"T_1c9bb_row36_col2\" class=\"data row36 col2\" >object</td>\n",
       "      <td id=\"T_1c9bb_row36_col3\" class=\"data row36 col3\" >nan</td>\n",
       "      <td id=\"T_1c9bb_row36_col4\" class=\"data row36 col4\" >nan</td>\n",
       "    </tr>\n",
       "    <tr>\n",
       "      <th id=\"T_1c9bb_level0_row37\" class=\"row_heading level0 row37\" >Comment</th>\n",
       "      <td id=\"T_1c9bb_row37_col0\" class=\"data row37 col0\" >object</td>\n",
       "      <td id=\"T_1c9bb_row37_col1\" class=\"data row37 col1\" >nan</td>\n",
       "      <td id=\"T_1c9bb_row37_col2\" class=\"data row37 col2\" >nan</td>\n",
       "      <td id=\"T_1c9bb_row37_col3\" class=\"data row37 col3\" >nan</td>\n",
       "      <td id=\"T_1c9bb_row37_col4\" class=\"data row37 col4\" >nan</td>\n",
       "    </tr>\n",
       "    <tr>\n",
       "      <th id=\"T_1c9bb_level0_row38\" class=\"row_heading level0 row38\" >ComplianceStatus</th>\n",
       "      <td id=\"T_1c9bb_row38_col0\" class=\"data row38 col0\" >object</td>\n",
       "      <td id=\"T_1c9bb_row38_col1\" class=\"data row38 col1\" >object</td>\n",
       "      <td id=\"T_1c9bb_row38_col2\" class=\"data row38 col2\" >object</td>\n",
       "      <td id=\"T_1c9bb_row38_col3\" class=\"data row38 col3\" >object</td>\n",
       "      <td id=\"T_1c9bb_row38_col4\" class=\"data row38 col4\" >object</td>\n",
       "    </tr>\n",
       "    <tr>\n",
       "      <th id=\"T_1c9bb_level0_row39\" class=\"row_heading level0 row39\" >Outlier</th>\n",
       "      <td id=\"T_1c9bb_row39_col0\" class=\"data row39 col0\" >object</td>\n",
       "      <td id=\"T_1c9bb_row39_col1\" class=\"data row39 col1\" >object</td>\n",
       "      <td id=\"T_1c9bb_row39_col2\" class=\"data row39 col2\" >object</td>\n",
       "      <td id=\"T_1c9bb_row39_col3\" class=\"data row39 col3\" >nan</td>\n",
       "      <td id=\"T_1c9bb_row39_col4\" class=\"data row39 col4\" >nan</td>\n",
       "    </tr>\n",
       "    <tr>\n",
       "      <th id=\"T_1c9bb_level0_row40\" class=\"row_heading level0 row40\" >Address</th>\n",
       "      <td id=\"T_1c9bb_row40_col0\" class=\"data row40 col0\" >object</td>\n",
       "      <td id=\"T_1c9bb_row40_col1\" class=\"data row40 col1\" >object</td>\n",
       "      <td id=\"T_1c9bb_row40_col2\" class=\"data row40 col2\" >object</td>\n",
       "      <td id=\"T_1c9bb_row40_col3\" class=\"data row40 col3\" >object</td>\n",
       "      <td id=\"T_1c9bb_row40_col4\" class=\"data row40 col4\" >object</td>\n",
       "    </tr>\n",
       "    <tr>\n",
       "      <th id=\"T_1c9bb_level0_row41\" class=\"row_heading level0 row41\" >City</th>\n",
       "      <td id=\"T_1c9bb_row41_col0\" class=\"data row41 col0\" >object</td>\n",
       "      <td id=\"T_1c9bb_row41_col1\" class=\"data row41 col1\" >object</td>\n",
       "      <td id=\"T_1c9bb_row41_col2\" class=\"data row41 col2\" >object</td>\n",
       "      <td id=\"T_1c9bb_row41_col3\" class=\"data row41 col3\" >object</td>\n",
       "      <td id=\"T_1c9bb_row41_col4\" class=\"data row41 col4\" >object</td>\n",
       "    </tr>\n",
       "    <tr>\n",
       "      <th id=\"T_1c9bb_level0_row42\" class=\"row_heading level0 row42\" >State</th>\n",
       "      <td id=\"T_1c9bb_row42_col0\" class=\"data row42 col0\" >object</td>\n",
       "      <td id=\"T_1c9bb_row42_col1\" class=\"data row42 col1\" >object</td>\n",
       "      <td id=\"T_1c9bb_row42_col2\" class=\"data row42 col2\" >object</td>\n",
       "      <td id=\"T_1c9bb_row42_col3\" class=\"data row42 col3\" >object</td>\n",
       "      <td id=\"T_1c9bb_row42_col4\" class=\"data row42 col4\" >object</td>\n",
       "    </tr>\n",
       "    <tr>\n",
       "      <th id=\"T_1c9bb_level0_row43\" class=\"row_heading level0 row43\" >ZipCode</th>\n",
       "      <td id=\"T_1c9bb_row43_col0\" class=\"data row43 col0\" >float64</td>\n",
       "      <td id=\"T_1c9bb_row43_col1\" class=\"data row43 col1\" >float64</td>\n",
       "      <td id=\"T_1c9bb_row43_col2\" class=\"data row43 col2\" >float64</td>\n",
       "      <td id=\"T_1c9bb_row43_col3\" class=\"data row43 col3\" >float64</td>\n",
       "      <td id=\"T_1c9bb_row43_col4\" class=\"data row43 col4\" >float64</td>\n",
       "    </tr>\n",
       "    <tr>\n",
       "      <th id=\"T_1c9bb_level0_row44\" class=\"row_heading level0 row44\" >Latitude</th>\n",
       "      <td id=\"T_1c9bb_row44_col0\" class=\"data row44 col0\" >float64</td>\n",
       "      <td id=\"T_1c9bb_row44_col1\" class=\"data row44 col1\" >float64</td>\n",
       "      <td id=\"T_1c9bb_row44_col2\" class=\"data row44 col2\" >float64</td>\n",
       "      <td id=\"T_1c9bb_row44_col3\" class=\"data row44 col3\" >float64</td>\n",
       "      <td id=\"T_1c9bb_row44_col4\" class=\"data row44 col4\" >float64</td>\n",
       "    </tr>\n",
       "    <tr>\n",
       "      <th id=\"T_1c9bb_level0_row45\" class=\"row_heading level0 row45\" >Longitude</th>\n",
       "      <td id=\"T_1c9bb_row45_col0\" class=\"data row45 col0\" >float64</td>\n",
       "      <td id=\"T_1c9bb_row45_col1\" class=\"data row45 col1\" >float64</td>\n",
       "      <td id=\"T_1c9bb_row45_col2\" class=\"data row45 col2\" >float64</td>\n",
       "      <td id=\"T_1c9bb_row45_col3\" class=\"data row45 col3\" >float64</td>\n",
       "      <td id=\"T_1c9bb_row45_col4\" class=\"data row45 col4\" >float64</td>\n",
       "    </tr>\n",
       "    <tr>\n",
       "      <th id=\"T_1c9bb_level0_row46\" class=\"row_heading level0 row46\" >Comments</th>\n",
       "      <td id=\"T_1c9bb_row46_col0\" class=\"data row46 col0\" >nan</td>\n",
       "      <td id=\"T_1c9bb_row46_col1\" class=\"data row46 col1\" >float64</td>\n",
       "      <td id=\"T_1c9bb_row46_col2\" class=\"data row46 col2\" >nan</td>\n",
       "      <td id=\"T_1c9bb_row46_col3\" class=\"data row46 col3\" >nan</td>\n",
       "      <td id=\"T_1c9bb_row46_col4\" class=\"data row46 col4\" >nan</td>\n",
       "    </tr>\n",
       "    <tr>\n",
       "      <th id=\"T_1c9bb_level0_row47\" class=\"row_heading level0 row47\" >ComplianceIssue</th>\n",
       "      <td id=\"T_1c9bb_row47_col0\" class=\"data row47 col0\" >nan</td>\n",
       "      <td id=\"T_1c9bb_row47_col1\" class=\"data row47 col1\" >nan</td>\n",
       "      <td id=\"T_1c9bb_row47_col2\" class=\"data row47 col2\" >nan</td>\n",
       "      <td id=\"T_1c9bb_row47_col3\" class=\"data row47 col3\" >object</td>\n",
       "      <td id=\"T_1c9bb_row47_col4\" class=\"data row47 col4\" >object</td>\n",
       "    </tr>\n",
       "  </tbody>\n",
       "</table>\n"
      ],
      "text/plain": [
       "<pandas.io.formats.style.Styler at 0x20b7a0f3130>"
      ]
     },
     "execution_count": 12,
     "metadata": {},
     "output_type": "execute_result"
    }
   ],
   "source": [
    "df_16 = pd.read_csv(os.path.join(DATA_DIR, '2016-building-energy-benchmarking.csv'), index_col=0) \\\n",
    "    .rename(columns={'PropertyName': 'BuildingName'})\n",
    "\n",
    "df_15 = pd.read_csv(os.path.join(DATA_DIR, '2015-building-energy-benchmarking.csv'), index_col=0) \\\n",
    "    .drop(columns=['Location']) \\\n",
    "    .rename(columns={\n",
    "         'GHGEmissions(MetricTonsCO2e)': 'TotalGHGEmissions', \n",
    "         'GHGEmissionsIntensity(kgCO2e/ft2)': 'GHGEmissionsIntensity',\n",
    "         'PropertyName': 'BuildingName'}) \\\n",
    "    .join(df_16[['Address', 'City', 'State', 'ZipCode', 'Latitude', 'Longitude']])\n",
    "\n",
    "df_17 = pd.read_csv(os.path.join(DATA_DIR, '2017-building-energy-benchmarking.csv'), index_col=0) \\\n",
    "    .rename(columns={'PropertyName': 'BuildingName'})\n",
    "\n",
    "df_19 = pd.read_csv(os.path.join(DATA_DIR, '2019-building-energy-benchmarking.csv'), index_col=0) \\\n",
    "     .drop(columns=['EPAPropertyType']) \\\n",
    "     .join(df_17[['NumberofBuildings','ListOfAllPropertyUseTypes']])\n",
    "\n",
    "df_20 = pd.read_csv(os.path.join(DATA_DIR, '2020-building-energy-benchmarking.csv'), index_col=0) \\\n",
    "     .drop(columns=['EPAPropertyType']) \\\n",
    "     .join(df_19[['PrimaryPropertyType']]) \\\n",
    "     .join(df_17[['ListOfAllPropertyUseTypes']])\n",
    "\n",
    "dfs = [df_15, df_16, df_17, df_19, df_20]\n",
    "\n",
    "pd.concat([df.dtypes for df in dfs], axis=1) \\\n",
    "    .rename(columns={i: k for (i, k) in zip(range(len(dfs)), ['2015', '2016', '2017', '2019', '2020'])}) \\\n",
    "    .style.applymap(lambda x: '' if x==x else 'background-color: yellow')"
   ]
  },
  {
   "cell_type": "markdown",
   "id": "21e0f43b",
   "metadata": {
    "id": "21e0f43b"
   },
   "source": [
    "Further investigations for the EnergySTAR score compliance criteria would be needed, but are out of scope of this study"
   ]
  },
  {
   "cell_type": "code",
   "execution_count": 13,
   "id": "75de6f27",
   "metadata": {
    "colab": {
     "base_uri": "https://localhost:8080/",
     "height": 492
    },
    "executionInfo": {
     "elapsed": 66,
     "status": "ok",
     "timestamp": 1678284540652,
     "user": {
      "displayName": "jean rochefort",
      "userId": "04520792891621341900"
     },
     "user_tz": -60
    },
    "id": "75de6f27",
    "outputId": "125bbef8-872b-4a51-ffaf-cf58fed90177"
   },
   "outputs": [
    {
     "name": "stdout",
     "output_type": "stream",
     "text": [
      "(17386, 45)\n"
     ]
    },
    {
     "data": {
      "text/html": [
       "<div>\n",
       "<style scoped>\n",
       "    .dataframe tbody tr th:only-of-type {\n",
       "        vertical-align: middle;\n",
       "    }\n",
       "\n",
       "    .dataframe tbody tr th {\n",
       "        vertical-align: top;\n",
       "    }\n",
       "\n",
       "    .dataframe thead th {\n",
       "        text-align: right;\n",
       "    }\n",
       "</style>\n",
       "<table border=\"1\" class=\"dataframe\">\n",
       "  <thead>\n",
       "    <tr style=\"text-align: right;\">\n",
       "      <th></th>\n",
       "      <th>DataYear</th>\n",
       "      <th>BuildingType</th>\n",
       "      <th>PrimaryPropertyType</th>\n",
       "      <th>BuildingName</th>\n",
       "      <th>TaxParcelIdentificationNumber</th>\n",
       "      <th>CouncilDistrictCode</th>\n",
       "      <th>Neighborhood</th>\n",
       "      <th>YearBuilt</th>\n",
       "      <th>NumberofBuildings</th>\n",
       "      <th>NumberofFloors</th>\n",
       "      <th>PropertyGFATotal</th>\n",
       "      <th>PropertyGFAParking</th>\n",
       "      <th>PropertyGFABuilding(s)</th>\n",
       "      <th>ListOfAllPropertyUseTypes</th>\n",
       "      <th>LargestPropertyUseType</th>\n",
       "      <th>LargestPropertyUseTypeGFA</th>\n",
       "      <th>SecondLargestPropertyUseType</th>\n",
       "      <th>SecondLargestPropertyUseTypeGFA</th>\n",
       "      <th>ThirdLargestPropertyUseType</th>\n",
       "      <th>ThirdLargestPropertyUseTypeGFA</th>\n",
       "      <th>YearsENERGYSTARCertified</th>\n",
       "      <th>ENERGYSTARScore</th>\n",
       "      <th>SiteEUI(kBtu/sf)</th>\n",
       "      <th>SiteEUIWN(kBtu/sf)</th>\n",
       "      <th>SourceEUI(kBtu/sf)</th>\n",
       "      <th>SourceEUIWN(kBtu/sf)</th>\n",
       "      <th>SiteEnergyUse(kBtu)</th>\n",
       "      <th>SiteEnergyUseWN(kBtu)</th>\n",
       "      <th>SteamUse(kBtu)</th>\n",
       "      <th>Electricity(kWh)</th>\n",
       "      <th>Electricity(kBtu)</th>\n",
       "      <th>NaturalGas(therms)</th>\n",
       "      <th>NaturalGas(kBtu)</th>\n",
       "      <th>TotalGHGEmissions</th>\n",
       "      <th>GHGEmissionsIntensity</th>\n",
       "      <th>DefaultData</th>\n",
       "      <th>ComplianceStatus</th>\n",
       "      <th>Outlier</th>\n",
       "      <th>Address</th>\n",
       "      <th>City</th>\n",
       "      <th>State</th>\n",
       "      <th>ZipCode</th>\n",
       "      <th>Latitude</th>\n",
       "      <th>Longitude</th>\n",
       "      <th>ComplianceIssue</th>\n",
       "    </tr>\n",
       "    <tr>\n",
       "      <th>OSEBuildingID</th>\n",
       "      <th></th>\n",
       "      <th></th>\n",
       "      <th></th>\n",
       "      <th></th>\n",
       "      <th></th>\n",
       "      <th></th>\n",
       "      <th></th>\n",
       "      <th></th>\n",
       "      <th></th>\n",
       "      <th></th>\n",
       "      <th></th>\n",
       "      <th></th>\n",
       "      <th></th>\n",
       "      <th></th>\n",
       "      <th></th>\n",
       "      <th></th>\n",
       "      <th></th>\n",
       "      <th></th>\n",
       "      <th></th>\n",
       "      <th></th>\n",
       "      <th></th>\n",
       "      <th></th>\n",
       "      <th></th>\n",
       "      <th></th>\n",
       "      <th></th>\n",
       "      <th></th>\n",
       "      <th></th>\n",
       "      <th></th>\n",
       "      <th></th>\n",
       "      <th></th>\n",
       "      <th></th>\n",
       "      <th></th>\n",
       "      <th></th>\n",
       "      <th></th>\n",
       "      <th></th>\n",
       "      <th></th>\n",
       "      <th></th>\n",
       "      <th></th>\n",
       "      <th></th>\n",
       "      <th></th>\n",
       "      <th></th>\n",
       "      <th></th>\n",
       "      <th></th>\n",
       "      <th></th>\n",
       "      <th></th>\n",
       "    </tr>\n",
       "  </thead>\n",
       "  <tbody>\n",
       "    <tr>\n",
       "      <th>21548</th>\n",
       "      <td>2015</td>\n",
       "      <td>Multifamily LR (1-4)</td>\n",
       "      <td>Low-Rise Multifamily</td>\n",
       "      <td>PUGET VISTA APTS</td>\n",
       "      <td>1992200030</td>\n",
       "      <td>7.0</td>\n",
       "      <td>MAGNOLIA / QUEEN ANNE</td>\n",
       "      <td>1967.0</td>\n",
       "      <td>1.0</td>\n",
       "      <td>4.0</td>\n",
       "      <td>40086</td>\n",
       "      <td>6133.0</td>\n",
       "      <td>33953.0</td>\n",
       "      <td>NaN</td>\n",
       "      <td>NaN</td>\n",
       "      <td>NaN</td>\n",
       "      <td>NaN</td>\n",
       "      <td>NaN</td>\n",
       "      <td>NaN</td>\n",
       "      <td>NaN</td>\n",
       "      <td>NaN</td>\n",
       "      <td>NaN</td>\n",
       "      <td>NaN</td>\n",
       "      <td>NaN</td>\n",
       "      <td>NaN</td>\n",
       "      <td>NaN</td>\n",
       "      <td>NaN</td>\n",
       "      <td>NaN</td>\n",
       "      <td>NaN</td>\n",
       "      <td>NaN</td>\n",
       "      <td>NaN</td>\n",
       "      <td>NaN</td>\n",
       "      <td>NaN</td>\n",
       "      <td>NaN</td>\n",
       "      <td>NaN</td>\n",
       "      <td>No</td>\n",
       "      <td>Not Compliant</td>\n",
       "      <td>NaN</td>\n",
       "      <td>411 W Republican Street</td>\n",
       "      <td>Seattle</td>\n",
       "      <td>WA</td>\n",
       "      <td>98119.0</td>\n",
       "      <td>47.62304</td>\n",
       "      <td>-122.36240</td>\n",
       "      <td>NaN</td>\n",
       "    </tr>\n",
       "    <tr>\n",
       "      <th>26379</th>\n",
       "      <td>2015</td>\n",
       "      <td>NonResidential</td>\n",
       "      <td>Hotel</td>\n",
       "      <td>GEORGETOWN  INN</td>\n",
       "      <td>6920700025</td>\n",
       "      <td>2.0</td>\n",
       "      <td>GREATER DUWAMISH</td>\n",
       "      <td>1992.0</td>\n",
       "      <td>1.0</td>\n",
       "      <td>3.0</td>\n",
       "      <td>22452</td>\n",
       "      <td>0.0</td>\n",
       "      <td>22452.0</td>\n",
       "      <td>Hotel</td>\n",
       "      <td>Hotel</td>\n",
       "      <td>22452.0</td>\n",
       "      <td>NaN</td>\n",
       "      <td>NaN</td>\n",
       "      <td>NaN</td>\n",
       "      <td>NaN</td>\n",
       "      <td>NaN</td>\n",
       "      <td>78.0</td>\n",
       "      <td>60.3</td>\n",
       "      <td>61.5</td>\n",
       "      <td>118.2</td>\n",
       "      <td>122.0</td>\n",
       "      <td>1354219.0</td>\n",
       "      <td>1381137.0</td>\n",
       "      <td>0.0</td>\n",
       "      <td>172881.0</td>\n",
       "      <td>589893.0</td>\n",
       "      <td>7644.0</td>\n",
       "      <td>764350.0</td>\n",
       "      <td>44.71</td>\n",
       "      <td>1.88</td>\n",
       "      <td>No</td>\n",
       "      <td>Compliant</td>\n",
       "      <td>NaN</td>\n",
       "      <td>6100 Corson Ave South</td>\n",
       "      <td>Seattle</td>\n",
       "      <td>WA</td>\n",
       "      <td>98108.0</td>\n",
       "      <td>47.54774</td>\n",
       "      <td>-122.32091</td>\n",
       "      <td>NaN</td>\n",
       "    </tr>\n",
       "    <tr>\n",
       "      <th>26713</th>\n",
       "      <td>2015</td>\n",
       "      <td>Multifamily HR (10+)</td>\n",
       "      <td>High-Rise Multifamily</td>\n",
       "      <td>QUINTESSA APTS</td>\n",
       "      <td>5247800955</td>\n",
       "      <td>7.0</td>\n",
       "      <td>DOWNTOWN</td>\n",
       "      <td>2007.0</td>\n",
       "      <td>1.0</td>\n",
       "      <td>13.0</td>\n",
       "      <td>90959</td>\n",
       "      <td>0.0</td>\n",
       "      <td>90959.0</td>\n",
       "      <td>NaN</td>\n",
       "      <td>NaN</td>\n",
       "      <td>NaN</td>\n",
       "      <td>NaN</td>\n",
       "      <td>NaN</td>\n",
       "      <td>NaN</td>\n",
       "      <td>NaN</td>\n",
       "      <td>NaN</td>\n",
       "      <td>60.0</td>\n",
       "      <td>48.0</td>\n",
       "      <td>52.2</td>\n",
       "      <td>115.4</td>\n",
       "      <td>126.2</td>\n",
       "      <td>4361755.0</td>\n",
       "      <td>4748161.0</td>\n",
       "      <td>0.0</td>\n",
       "      <td>829363.0</td>\n",
       "      <td>2829904.0</td>\n",
       "      <td>15320.0</td>\n",
       "      <td>1531968.0</td>\n",
       "      <td>101.09</td>\n",
       "      <td>0.98</td>\n",
       "      <td>No</td>\n",
       "      <td>Compliant</td>\n",
       "      <td>NaN</td>\n",
       "      <td>201 Yesler Way, Ste 100</td>\n",
       "      <td>Seattle</td>\n",
       "      <td>WA</td>\n",
       "      <td>98104.0</td>\n",
       "      <td>47.60154</td>\n",
       "      <td>-122.33121</td>\n",
       "      <td>NaN</td>\n",
       "    </tr>\n",
       "    <tr>\n",
       "      <th>102</th>\n",
       "      <td>2015</td>\n",
       "      <td>NonResidential</td>\n",
       "      <td>Hotel</td>\n",
       "      <td>MARRIOTT RESIDENCE INN</td>\n",
       "      <td>1984200065</td>\n",
       "      <td>3.0</td>\n",
       "      <td>LAKE UNION</td>\n",
       "      <td>1990.0</td>\n",
       "      <td>1.0</td>\n",
       "      <td>7.0</td>\n",
       "      <td>282863</td>\n",
       "      <td>44766.0</td>\n",
       "      <td>238097.0</td>\n",
       "      <td>Hotel, Parking</td>\n",
       "      <td>Hotel</td>\n",
       "      <td>235788.0</td>\n",
       "      <td>Parking</td>\n",
       "      <td>51537.0</td>\n",
       "      <td>NaN</td>\n",
       "      <td>NaN</td>\n",
       "      <td>NaN</td>\n",
       "      <td>40.0</td>\n",
       "      <td>79.9</td>\n",
       "      <td>85.3</td>\n",
       "      <td>178.1</td>\n",
       "      <td>186.6</td>\n",
       "      <td>18829136.0</td>\n",
       "      <td>20123722.0</td>\n",
       "      <td>0.0</td>\n",
       "      <td>3117920.0</td>\n",
       "      <td>10638785.0</td>\n",
       "      <td>81908.0</td>\n",
       "      <td>8190794.0</td>\n",
       "      <td>509.18</td>\n",
       "      <td>1.64</td>\n",
       "      <td>No</td>\n",
       "      <td>Compliant</td>\n",
       "      <td>NaN</td>\n",
       "      <td>800 Fairview Ave. N</td>\n",
       "      <td>Seattle</td>\n",
       "      <td>WA</td>\n",
       "      <td>98109.0</td>\n",
       "      <td>47.62642</td>\n",
       "      <td>-122.33325</td>\n",
       "      <td>NaN</td>\n",
       "    </tr>\n",
       "    <tr>\n",
       "      <th>503</th>\n",
       "      <td>2015</td>\n",
       "      <td>NonResidential</td>\n",
       "      <td>Supermarket/Grocery Store</td>\n",
       "      <td>RESTAURANT DEPOT</td>\n",
       "      <td>1824049003</td>\n",
       "      <td>2.0</td>\n",
       "      <td>GREATER DUWAMISH</td>\n",
       "      <td>2008.0</td>\n",
       "      <td>1.0</td>\n",
       "      <td>1.0</td>\n",
       "      <td>63225</td>\n",
       "      <td>0.0</td>\n",
       "      <td>63225.0</td>\n",
       "      <td>Supermarket/Grocery Store</td>\n",
       "      <td>Supermarket/Grocery Store</td>\n",
       "      <td>63225.0</td>\n",
       "      <td>NaN</td>\n",
       "      <td>NaN</td>\n",
       "      <td>NaN</td>\n",
       "      <td>NaN</td>\n",
       "      <td>NaN</td>\n",
       "      <td>100.0</td>\n",
       "      <td>104.7</td>\n",
       "      <td>104.7</td>\n",
       "      <td>328.8</td>\n",
       "      <td>328.8</td>\n",
       "      <td>6619941.0</td>\n",
       "      <td>6619941.0</td>\n",
       "      <td>0.0</td>\n",
       "      <td>1940194.0</td>\n",
       "      <td>6620217.0</td>\n",
       "      <td>0.0</td>\n",
       "      <td>0.0</td>\n",
       "      <td>46.15</td>\n",
       "      <td>0.28</td>\n",
       "      <td>No</td>\n",
       "      <td>Compliant</td>\n",
       "      <td>NaN</td>\n",
       "      <td>3670 E MARGINAL WAY S</td>\n",
       "      <td>Seattle</td>\n",
       "      <td>WA</td>\n",
       "      <td>98134.0</td>\n",
       "      <td>47.56895</td>\n",
       "      <td>-122.33775</td>\n",
       "      <td>NaN</td>\n",
       "    </tr>\n",
       "  </tbody>\n",
       "</table>\n",
       "</div>"
      ],
      "text/plain": [
       "               DataYear          BuildingType        PrimaryPropertyType  \\\n",
       "OSEBuildingID                                                              \n",
       "21548              2015  Multifamily LR (1-4)       Low-Rise Multifamily   \n",
       "26379              2015        NonResidential                      Hotel   \n",
       "26713              2015  Multifamily HR (10+)      High-Rise Multifamily   \n",
       "102                2015        NonResidential                      Hotel   \n",
       "503                2015        NonResidential  Supermarket/Grocery Store   \n",
       "\n",
       "                         BuildingName TaxParcelIdentificationNumber  \\\n",
       "OSEBuildingID                                                         \n",
       "21548                PUGET VISTA APTS                    1992200030   \n",
       "26379                 GEORGETOWN  INN                    6920700025   \n",
       "26713                  QUINTESSA APTS                    5247800955   \n",
       "102            MARRIOTT RESIDENCE INN                    1984200065   \n",
       "503                  RESTAURANT DEPOT                    1824049003   \n",
       "\n",
       "               CouncilDistrictCode           Neighborhood  YearBuilt  \\\n",
       "OSEBuildingID                                                          \n",
       "21548                          7.0  MAGNOLIA / QUEEN ANNE     1967.0   \n",
       "26379                          2.0       GREATER DUWAMISH     1992.0   \n",
       "26713                          7.0               DOWNTOWN     2007.0   \n",
       "102                            3.0             LAKE UNION     1990.0   \n",
       "503                            2.0       GREATER DUWAMISH     2008.0   \n",
       "\n",
       "               NumberofBuildings  NumberofFloors  PropertyGFATotal  \\\n",
       "OSEBuildingID                                                        \n",
       "21548                        1.0             4.0             40086   \n",
       "26379                        1.0             3.0             22452   \n",
       "26713                        1.0            13.0             90959   \n",
       "102                          1.0             7.0            282863   \n",
       "503                          1.0             1.0             63225   \n",
       "\n",
       "               PropertyGFAParking  PropertyGFABuilding(s)  \\\n",
       "OSEBuildingID                                               \n",
       "21548                      6133.0                 33953.0   \n",
       "26379                         0.0                 22452.0   \n",
       "26713                         0.0                 90959.0   \n",
       "102                       44766.0                238097.0   \n",
       "503                           0.0                 63225.0   \n",
       "\n",
       "               ListOfAllPropertyUseTypes     LargestPropertyUseType  \\\n",
       "OSEBuildingID                                                         \n",
       "21548                                NaN                        NaN   \n",
       "26379                              Hotel                      Hotel   \n",
       "26713                                NaN                        NaN   \n",
       "102                       Hotel, Parking                      Hotel   \n",
       "503            Supermarket/Grocery Store  Supermarket/Grocery Store   \n",
       "\n",
       "               LargestPropertyUseTypeGFA SecondLargestPropertyUseType  \\\n",
       "OSEBuildingID                                                           \n",
       "21548                                NaN                          NaN   \n",
       "26379                            22452.0                          NaN   \n",
       "26713                                NaN                          NaN   \n",
       "102                             235788.0                      Parking   \n",
       "503                              63225.0                          NaN   \n",
       "\n",
       "               SecondLargestPropertyUseTypeGFA ThirdLargestPropertyUseType  \\\n",
       "OSEBuildingID                                                                \n",
       "21548                                      NaN                         NaN   \n",
       "26379                                      NaN                         NaN   \n",
       "26713                                      NaN                         NaN   \n",
       "102                                    51537.0                         NaN   \n",
       "503                                        NaN                         NaN   \n",
       "\n",
       "               ThirdLargestPropertyUseTypeGFA YearsENERGYSTARCertified  \\\n",
       "OSEBuildingID                                                            \n",
       "21548                                     NaN                      NaN   \n",
       "26379                                     NaN                      NaN   \n",
       "26713                                     NaN                      NaN   \n",
       "102                                       NaN                      NaN   \n",
       "503                                       NaN                      NaN   \n",
       "\n",
       "               ENERGYSTARScore  SiteEUI(kBtu/sf)  SiteEUIWN(kBtu/sf)  \\\n",
       "OSEBuildingID                                                          \n",
       "21548                      NaN               NaN                 NaN   \n",
       "26379                     78.0              60.3                61.5   \n",
       "26713                     60.0              48.0                52.2   \n",
       "102                       40.0              79.9                85.3   \n",
       "503                      100.0             104.7               104.7   \n",
       "\n",
       "               SourceEUI(kBtu/sf)  SourceEUIWN(kBtu/sf)  SiteEnergyUse(kBtu)  \\\n",
       "OSEBuildingID                                                                  \n",
       "21548                         NaN                   NaN                  NaN   \n",
       "26379                       118.2                 122.0            1354219.0   \n",
       "26713                       115.4                 126.2            4361755.0   \n",
       "102                         178.1                 186.6           18829136.0   \n",
       "503                         328.8                 328.8            6619941.0   \n",
       "\n",
       "               SiteEnergyUseWN(kBtu)  SteamUse(kBtu)  Electricity(kWh)  \\\n",
       "OSEBuildingID                                                            \n",
       "21548                            NaN             NaN               NaN   \n",
       "26379                      1381137.0             0.0          172881.0   \n",
       "26713                      4748161.0             0.0          829363.0   \n",
       "102                       20123722.0             0.0         3117920.0   \n",
       "503                        6619941.0             0.0         1940194.0   \n",
       "\n",
       "               Electricity(kBtu)  NaturalGas(therms)  NaturalGas(kBtu)  \\\n",
       "OSEBuildingID                                                            \n",
       "21548                        NaN                 NaN               NaN   \n",
       "26379                   589893.0              7644.0          764350.0   \n",
       "26713                  2829904.0             15320.0         1531968.0   \n",
       "102                   10638785.0             81908.0         8190794.0   \n",
       "503                    6620217.0                 0.0               0.0   \n",
       "\n",
       "               TotalGHGEmissions  GHGEmissionsIntensity DefaultData  \\\n",
       "OSEBuildingID                                                         \n",
       "21548                        NaN                    NaN          No   \n",
       "26379                      44.71                   1.88          No   \n",
       "26713                     101.09                   0.98          No   \n",
       "102                       509.18                   1.64          No   \n",
       "503                        46.15                   0.28          No   \n",
       "\n",
       "              ComplianceStatus Outlier                  Address     City  \\\n",
       "OSEBuildingID                                                              \n",
       "21548            Not Compliant     NaN  411 W Republican Street  Seattle   \n",
       "26379                Compliant     NaN    6100 Corson Ave South  Seattle   \n",
       "26713                Compliant     NaN  201 Yesler Way, Ste 100  Seattle   \n",
       "102                  Compliant     NaN      800 Fairview Ave. N  Seattle   \n",
       "503                  Compliant     NaN    3670 E MARGINAL WAY S  Seattle   \n",
       "\n",
       "              State  ZipCode  Latitude  Longitude ComplianceIssue  \n",
       "OSEBuildingID                                                      \n",
       "21548            WA  98119.0  47.62304 -122.36240             NaN  \n",
       "26379            WA  98108.0  47.54774 -122.32091             NaN  \n",
       "26713            WA  98104.0  47.60154 -122.33121             NaN  \n",
       "102              WA  98109.0  47.62642 -122.33325             NaN  \n",
       "503              WA  98134.0  47.56895 -122.33775             NaN  "
      ]
     },
     "execution_count": 13,
     "metadata": {},
     "output_type": "execute_result"
    }
   ],
   "source": [
    "df_concat = pd.concat(dfs, axis=0).drop(columns=['Comment', 'Comments', 'OtherFuelUse(kBtu)']) \n",
    "print(df_concat.shape)\n",
    "df_concat.head()"
   ]
  },
  {
   "cell_type": "markdown",
   "id": "119039ac",
   "metadata": {
    "id": "119039ac"
   },
   "source": [
    "---\n",
    "\n",
    "# Macro Analysis - Evolution over years"
   ]
  },
  {
   "cell_type": "markdown",
   "id": "f3399fcb",
   "metadata": {
    "id": "f3399fcb"
   },
   "source": [
    "## Dataset Preparation\n",
    "\n",
    "How many missing values do we have? The table below provides an overview of missing values both vertically (for each variable) but also horizontally (per records) before and after imputation:"
   ]
  },
  {
   "cell_type": "code",
   "execution_count": null,
   "id": "2dac9aea",
   "metadata": {},
   "outputs": [],
   "source": [
    "df_all_years = df_concat.copy()\n",
    "\n",
    "col_kept = ['DataYear', 'BuildingType', 'PrimaryPropertyType', 'CouncilDistrictCode', 'Neighborhood',\n",
    "        'YearBuilt', 'NumberofBuildings', 'NumberofFloors', 'PropertyGFATotal', 'LargestPropertyUseType', \n",
    "        'TotalGHGEmissions', 'GHGEmissionsIntensity', 'ZipCode', 'Latitude', 'Longitude']\n",
    "\n",
    "df_all_years = df_all_years[col_kept]\n",
    "print(\"before imputation\")\n",
    "msno.matrix(df_all_years, figsize=(6, 3), fontsize=8)\n",
    "plt.show()\n",
    "\n",
    "\n",
    "# fillna with same IDs\n",
    "years = sorted(df_all_years.DataYear.unique())\n",
    "for year in years:\n",
    "    year_ref = year + 1 if year != 2020 else 2019\n",
    "    df_all_years[df_all_years.DataYear == year] = \\\n",
    "    df_all_years[df_all_years.DataYear == year].fillna(df_all_years[df_all_years.DataYear == year_ref])\n",
    "\n",
    "    \n",
    "# Keep only the rows with at least 13 non-NA values on 15 cols.\n",
    "df_all_years.dropna(thresh=13, inplace=True)\n",
    "\n",
    "\n",
    "# fill zipcode na with values nearby\n",
    "geo_cols = ['ZipCode', 'Latitude', 'Longitude']\n",
    "df_all_years[geo_cols] = pd.DataFrame(\n",
    "    data=KNNImputer(n_neighbors=5).fit_transform(df_all_years[geo_cols]),\n",
    "    index=df_all_years.index,\n",
    "    columns=geo_cols\n",
    ")\n",
    "\n",
    "\n",
    "PrimaryPropertyType_to_LargestPropertyUseType = df_all_years.groupby('PrimaryPropertyType')['LargestPropertyUseType'].agg(pd.Series.mode).to_dict()\n",
    "LargestPropertyUseType_to_PrimaryPropertyType = df_all_years.groupby('LargestPropertyUseType')['PrimaryPropertyType'].agg(pd.Series.mode).to_dict()\n",
    "\n",
    "#df.B = df.B.fillna(df.A.map(dict))\n",
    "\n",
    "df_all_years.LargestPropertyUseType = df_all_years.LargestPropertyUseType \\\n",
    "    .fillna(df_all_years.PrimaryPropertyType.map(PrimaryPropertyType_to_LargestPropertyUseType))\n",
    "\n",
    "df_all_years.PrimaryPropertyType = df_all_years.PrimaryPropertyType \\\n",
    "    .fillna(df_all_years.LargestPropertyUseType.map(LargestPropertyUseType_to_PrimaryPropertyType))\n",
    "\n",
    "# drop few lines with still NaNs\n",
    "df_all_years.dropna(inplace=True)\n",
    "\n",
    "assert df_all_years.isnull().sum().sum() == 0\n",
    "\n",
    "\n",
    "print(\"after imputation\")\n",
    "msno.matrix(df_all_years, figsize=(6, 3), fontsize=8)"
   ]
  },
  {
   "cell_type": "markdown",
   "id": "55282413",
   "metadata": {
    "colab": {
     "base_uri": "https://localhost:8080/",
     "height": 599
    },
    "executionInfo": {
     "elapsed": 773,
     "status": "ok",
     "timestamp": 1678284541369,
     "user": {
      "displayName": "jean rochefort",
      "userId": "04520792891621341900"
     },
     "user_tz": -60
    },
    "id": "9407c85d",
    "outputId": "cd8ad008-1c60-4619-e3c0-df88a562a915"
   },
   "source": [
    "![](./img_1/14.png)\n",
    "![](./img_1/14bis.png)"
   ]
  },
  {
   "cell_type": "markdown",
   "id": "07f4a5c9",
   "metadata": {
    "id": "07f4a5c9"
   },
   "source": [
    "## First analysis\n",
    "\n",
    "Let's get rid off \"shared\" neighborhoods and water, for the sake of simplicity"
   ]
  },
  {
   "cell_type": "code",
   "execution_count": null,
   "id": "57f1875b",
   "metadata": {},
   "outputs": [],
   "source": [
    "df_all_years.Neighborhood = df_all_years.Neighborhood.str.lower()\n",
    "df_all_years.Neighborhood.replace('delridge neighborhoods', 'delridge', inplace=True)\n",
    "px.histogram(df_all_years, y='Neighborhood', width=900, height=450)"
   ]
  },
  {
   "cell_type": "markdown",
   "id": "305633eb",
   "metadata": {},
   "source": [
    "![](./img_1/15.png)  \n",
    "\n",
    "Comparison of emssions' evolutions over years by neighborhoods:"
   ]
  },
  {
   "cell_type": "code",
   "execution_count": null,
   "id": "a7659807",
   "metadata": {},
   "outputs": [],
   "source": [
    "df_mean_neighborhood = df_all_years[~df_all_years.Neighborhood.str.contains('shared') & \n",
    "                                    ~df_all_years.Neighborhood.str.contains('water')] \\\n",
    "    .groupby(['DataYear', 'Neighborhood'])[['TotalGHGEmissions']].mean().round(2)\n",
    "\n",
    "display(df_mean_neighborhood.head())\n",
    "\n",
    "px.area(df_mean_neighborhood.reset_index(), x='DataYear', y='TotalGHGEmissions', color='Neighborhood',\n",
    "        width=800, height=400)"
   ]
  },
  {
   "cell_type": "markdown",
   "id": "87accb3e",
   "metadata": {},
   "source": [
    "![](./img_1/16.png)  "
   ]
  },
  {
   "cell_type": "markdown",
   "id": "13bbd056",
   "metadata": {
    "id": "13bbd056"
   },
   "source": [
    "## New buildings vs existing ones"
   ]
  },
  {
   "cell_type": "markdown",
   "id": "0e96b317",
   "metadata": {
    "id": "0e96b317"
   },
   "source": [
    "Actually new ids doesn't correspond to new buildings but to buildings that weren't recorded previsously. So we have to use the 'YearBuilt' field instead."
   ]
  },
  {
   "cell_type": "code",
   "execution_count": 17,
   "id": "eea23b8a",
   "metadata": {
    "colab": {
     "base_uri": "https://localhost:8080/",
     "height": 340
    },
    "executionInfo": {
     "elapsed": 94,
     "status": "ok",
     "timestamp": 1678284541375,
     "user": {
      "displayName": "jean rochefort",
      "userId": "04520792891621341900"
     },
     "user_tz": -60
    },
    "id": "eea23b8a",
    "outputId": "8a7bd3fe-9076-4e9e-dc0d-55df0591f126"
   },
   "outputs": [
    {
     "name": "stdout",
     "output_type": "stream",
     "text": [
      "New ids in the dataset of year: 2016:\n"
     ]
    },
    {
     "data": {
      "text/html": [
       "<div>\n",
       "<style scoped>\n",
       "    .dataframe tbody tr th:only-of-type {\n",
       "        vertical-align: middle;\n",
       "    }\n",
       "\n",
       "    .dataframe tbody tr th {\n",
       "        vertical-align: top;\n",
       "    }\n",
       "\n",
       "    .dataframe thead th {\n",
       "        text-align: right;\n",
       "    }\n",
       "</style>\n",
       "<table border=\"1\" class=\"dataframe\">\n",
       "  <thead>\n",
       "    <tr style=\"text-align: right;\">\n",
       "      <th></th>\n",
       "      <th>count</th>\n",
       "      <th>mean</th>\n",
       "      <th>std</th>\n",
       "      <th>min</th>\n",
       "      <th>25%</th>\n",
       "      <th>50%</th>\n",
       "      <th>75%</th>\n",
       "      <th>max</th>\n",
       "    </tr>\n",
       "  </thead>\n",
       "  <tbody>\n",
       "    <tr>\n",
       "      <th>YearBuilt</th>\n",
       "      <td>320.0</td>\n",
       "      <td>1998.634375</td>\n",
       "      <td>28.923975</td>\n",
       "      <td>1900.0</td>\n",
       "      <td>1993.5</td>\n",
       "      <td>2014.0</td>\n",
       "      <td>2015.0</td>\n",
       "      <td>2018.0</td>\n",
       "    </tr>\n",
       "  </tbody>\n",
       "</table>\n",
       "</div>"
      ],
      "text/plain": [
       "           count         mean        std     min     25%     50%     75%  \\\n",
       "YearBuilt  320.0  1998.634375  28.923975  1900.0  1993.5  2014.0  2015.0   \n",
       "\n",
       "              max  \n",
       "YearBuilt  2018.0  "
      ]
     },
     "metadata": {},
     "output_type": "display_data"
    },
    {
     "name": "stdout",
     "output_type": "stream",
     "text": [
      "New ids in the dataset of year: 2017:\n"
     ]
    },
    {
     "data": {
      "text/html": [
       "<div>\n",
       "<style scoped>\n",
       "    .dataframe tbody tr th:only-of-type {\n",
       "        vertical-align: middle;\n",
       "    }\n",
       "\n",
       "    .dataframe tbody tr th {\n",
       "        vertical-align: top;\n",
       "    }\n",
       "\n",
       "    .dataframe thead th {\n",
       "        text-align: right;\n",
       "    }\n",
       "</style>\n",
       "<table border=\"1\" class=\"dataframe\">\n",
       "  <thead>\n",
       "    <tr style=\"text-align: right;\">\n",
       "      <th></th>\n",
       "      <th>count</th>\n",
       "      <th>mean</th>\n",
       "      <th>std</th>\n",
       "      <th>min</th>\n",
       "      <th>25%</th>\n",
       "      <th>50%</th>\n",
       "      <th>75%</th>\n",
       "      <th>max</th>\n",
       "    </tr>\n",
       "  </thead>\n",
       "  <tbody>\n",
       "    <tr>\n",
       "      <th>YearBuilt</th>\n",
       "      <td>325.0</td>\n",
       "      <td>1996.464615</td>\n",
       "      <td>32.366671</td>\n",
       "      <td>1900.0</td>\n",
       "      <td>1987.0</td>\n",
       "      <td>2015.0</td>\n",
       "      <td>2016.0</td>\n",
       "      <td>2019.0</td>\n",
       "    </tr>\n",
       "  </tbody>\n",
       "</table>\n",
       "</div>"
      ],
      "text/plain": [
       "           count         mean        std     min     25%     50%     75%  \\\n",
       "YearBuilt  325.0  1996.464615  32.366671  1900.0  1987.0  2015.0  2016.0   \n",
       "\n",
       "              max  \n",
       "YearBuilt  2019.0  "
      ]
     },
     "metadata": {},
     "output_type": "display_data"
    },
    {
     "name": "stdout",
     "output_type": "stream",
     "text": [
      "New ids in the dataset of year: 2019:\n"
     ]
    },
    {
     "data": {
      "text/html": [
       "<div>\n",
       "<style scoped>\n",
       "    .dataframe tbody tr th:only-of-type {\n",
       "        vertical-align: middle;\n",
       "    }\n",
       "\n",
       "    .dataframe tbody tr th {\n",
       "        vertical-align: top;\n",
       "    }\n",
       "\n",
       "    .dataframe thead th {\n",
       "        text-align: right;\n",
       "    }\n",
       "</style>\n",
       "<table border=\"1\" class=\"dataframe\">\n",
       "  <thead>\n",
       "    <tr style=\"text-align: right;\">\n",
       "      <th></th>\n",
       "      <th>count</th>\n",
       "      <th>mean</th>\n",
       "      <th>std</th>\n",
       "      <th>min</th>\n",
       "      <th>25%</th>\n",
       "      <th>50%</th>\n",
       "      <th>75%</th>\n",
       "      <th>max</th>\n",
       "    </tr>\n",
       "  </thead>\n",
       "  <tbody>\n",
       "    <tr>\n",
       "      <th>YearBuilt</th>\n",
       "      <td>16856.0</td>\n",
       "      <td>1970.033697</td>\n",
       "      <td>33.584945</td>\n",
       "      <td>1896.0</td>\n",
       "      <td>1950.0</td>\n",
       "      <td>1977.0</td>\n",
       "      <td>1999.0</td>\n",
       "      <td>2019.0</td>\n",
       "    </tr>\n",
       "  </tbody>\n",
       "</table>\n",
       "</div>"
      ],
      "text/plain": [
       "             count         mean        std     min     25%     50%     75%  \\\n",
       "YearBuilt  16856.0  1970.033697  33.584945  1896.0  1950.0  1977.0  1999.0   \n",
       "\n",
       "              max  \n",
       "YearBuilt  2019.0  "
      ]
     },
     "metadata": {},
     "output_type": "display_data"
    },
    {
     "name": "stdout",
     "output_type": "stream",
     "text": [
      "New ids in the dataset of year: 2020:\n"
     ]
    },
    {
     "data": {
      "text/html": [
       "<div>\n",
       "<style scoped>\n",
       "    .dataframe tbody tr th:only-of-type {\n",
       "        vertical-align: middle;\n",
       "    }\n",
       "\n",
       "    .dataframe tbody tr th {\n",
       "        vertical-align: top;\n",
       "    }\n",
       "\n",
       "    .dataframe thead th {\n",
       "        text-align: right;\n",
       "    }\n",
       "</style>\n",
       "<table border=\"1\" class=\"dataframe\">\n",
       "  <thead>\n",
       "    <tr style=\"text-align: right;\">\n",
       "      <th></th>\n",
       "      <th>count</th>\n",
       "      <th>mean</th>\n",
       "      <th>std</th>\n",
       "      <th>min</th>\n",
       "      <th>25%</th>\n",
       "      <th>50%</th>\n",
       "      <th>75%</th>\n",
       "      <th>max</th>\n",
       "    </tr>\n",
       "  </thead>\n",
       "  <tbody>\n",
       "    <tr>\n",
       "      <th>YearBuilt</th>\n",
       "      <td>104.0</td>\n",
       "      <td>1992.307692</td>\n",
       "      <td>42.073924</td>\n",
       "      <td>1900.0</td>\n",
       "      <td>1982.25</td>\n",
       "      <td>2018.0</td>\n",
       "      <td>2019.0</td>\n",
       "      <td>2019.0</td>\n",
       "    </tr>\n",
       "  </tbody>\n",
       "</table>\n",
       "</div>"
      ],
      "text/plain": [
       "           count         mean        std     min      25%     50%     75%  \\\n",
       "YearBuilt  104.0  1992.307692  42.073924  1900.0  1982.25  2018.0  2019.0   \n",
       "\n",
       "              max  \n",
       "YearBuilt  2019.0  "
      ]
     },
     "metadata": {},
     "output_type": "display_data"
    }
   ],
   "source": [
    "for year in years[1:]:\n",
    "    #year_ref = year + 1 if year != 2020 else 2019\n",
    "    new_building_ids = np.setdiff1d(\n",
    "        df_all_years[df_all_years.DataYear == year].index.values,\n",
    "        df_all_years[df_all_years.DataYear == year - 1].index.values\n",
    "    ) \n",
    "    print(f\"New ids in the dataset of year: {year}:\")\n",
    "#     print(new_building_ids)\n",
    "    display(df_all_years.loc[new_building_ids][['YearBuilt']].describe().T)"
   ]
  },
  {
   "cell_type": "markdown",
   "id": "ed7831bf",
   "metadata": {
    "id": "ed7831bf"
   },
   "source": [
    "It would be interesting to have a map with counts of new buildings to see where new construction are made / located... But this will be for an other time :)"
   ]
  },
  {
   "cell_type": "markdown",
   "id": "d38c33af",
   "metadata": {
    "id": "d38c33af"
   },
   "source": [
    "Number of new buildings (no data for year 2018):"
   ]
  },
  {
   "cell_type": "code",
   "execution_count": null,
   "id": "b939df62",
   "metadata": {},
   "outputs": [],
   "source": [
    "df_new_buildings = df_all_years[df_all_years.YearBuilt.isin(df_all_years.DataYear.unique())]\n",
    "df_new_buildings[['YearBuilt']].value_counts() \\\n",
    "    .sort_index().plot(kind='bar', figsize=(5, 3))"
   ]
  },
  {
   "cell_type": "markdown",
   "id": "d56f3bef",
   "metadata": {
    "colab": {
     "base_uri": "https://localhost:8080/",
     "height": 278
    },
    "executionInfo": {
     "elapsed": 81,
     "status": "ok",
     "timestamp": 1678284541376,
     "user": {
      "displayName": "jean rochefort",
      "userId": "04520792891621341900"
     },
     "user_tz": -60
    },
    "id": "26b14e89",
    "outputId": "9a695f41-2900-46c0-ee89-7c95381694b0"
   },
   "source": [
    "![](./img_1/18.png)  "
   ]
  },
  {
   "cell_type": "markdown",
   "id": "cf51e17b",
   "metadata": {
    "id": "cf51e17b"
   },
   "source": [
    "Proportion of new buildings over years"
   ]
  },
  {
   "cell_type": "code",
   "execution_count": null,
   "id": "1ae04c7a",
   "metadata": {},
   "outputs": [],
   "source": [
    "df_all_years['new_building'] = df_all_years.YearBuilt.isin(df_all_years.DataYear.unique()).astype('int') #, 'new_building'] = 'Yes'\n",
    "\n",
    "fig, axes = plt.subplots(nrows=1, ncols=4, figsize=(18, 4))\n",
    "for i, year in enumerate([2015, 2016, 2017, 2019]):\n",
    "    df_all_years[df_all_years.DataYear == 2016]['new_building'].value_counts() \\\n",
    "        .plot.pie(y='new_building', ax=axes[i], title=f\"year {year}\")"
   ]
  },
  {
   "cell_type": "markdown",
   "id": "3288a429",
   "metadata": {},
   "source": [
    "![](./img_1/19.png)  "
   ]
  },
  {
   "cell_type": "markdown",
   "id": "ff36df0c",
   "metadata": {},
   "source": [
    "Evolution of the number of records with a distinction between new and existing buildings. The number of existing buildings stay the same, while the number of new ones seems to increase a little bit:"
   ]
  },
  {
   "cell_type": "code",
   "execution_count": null,
   "id": "1cd32280",
   "metadata": {},
   "outputs": [],
   "source": [
    "pd.DataFrame(df_all_years[['DataYear', 'new_building']].value_counts()) \\\n",
    "    .reset_index().rename(columns={0: 'count'}).sort_values(['DataYear', 'new_building']) \\\n",
    "    .pivot(index='DataYear', columns='new_building', values='count') \\\n",
    "    .plot.bar(figsize=(5, 3))"
   ]
  },
  {
   "cell_type": "markdown",
   "id": "9d088296",
   "metadata": {},
   "source": [
    "![](./img_1/20.png)  "
   ]
  },
  {
   "cell_type": "markdown",
   "id": "3cf57cdd",
   "metadata": {
    "id": "3cf57cdd"
   },
   "source": [
    "Median performances of existing vs. new constructions:"
   ]
  },
  {
   "cell_type": "code",
   "execution_count": 21,
   "id": "4ace741f",
   "metadata": {
    "colab": {
     "base_uri": "https://localhost:8080/",
     "height": 269
    },
    "executionInfo": {
     "elapsed": 73,
     "status": "ok",
     "timestamp": 1678284541387,
     "user": {
      "displayName": "jean rochefort",
      "userId": "04520792891621341900"
     },
     "user_tz": -60
    },
    "id": "4ace741f",
    "outputId": "7b7ae70a-5cec-4974-c0c6-fba62dad9ef7"
   },
   "outputs": [
    {
     "data": {
      "text/html": [
       "<div>\n",
       "<style scoped>\n",
       "    .dataframe tbody tr th:only-of-type {\n",
       "        vertical-align: middle;\n",
       "    }\n",
       "\n",
       "    .dataframe tbody tr th {\n",
       "        vertical-align: top;\n",
       "    }\n",
       "\n",
       "    .dataframe thead tr th {\n",
       "        text-align: left;\n",
       "    }\n",
       "\n",
       "    .dataframe thead tr:last-of-type th {\n",
       "        text-align: right;\n",
       "    }\n",
       "</style>\n",
       "<table border=\"1\" class=\"dataframe\">\n",
       "  <thead>\n",
       "    <tr>\n",
       "      <th></th>\n",
       "      <th colspan=\"2\" halign=\"left\">median_emmission_intensity</th>\n",
       "      <th colspan=\"2\" halign=\"left\">median_total_emmission</th>\n",
       "    </tr>\n",
       "    <tr>\n",
       "      <th>new_building</th>\n",
       "      <th>0</th>\n",
       "      <th>1</th>\n",
       "      <th>0</th>\n",
       "      <th>1</th>\n",
       "    </tr>\n",
       "    <tr>\n",
       "      <th>DataYear</th>\n",
       "      <th></th>\n",
       "      <th></th>\n",
       "      <th></th>\n",
       "      <th></th>\n",
       "    </tr>\n",
       "  </thead>\n",
       "  <tbody>\n",
       "    <tr>\n",
       "      <th>2015</th>\n",
       "      <td>0.46</td>\n",
       "      <td>1.305</td>\n",
       "      <td>32.77</td>\n",
       "      <td>364.12</td>\n",
       "    </tr>\n",
       "    <tr>\n",
       "      <th>2016</th>\n",
       "      <td>0.61</td>\n",
       "      <td>0.550</td>\n",
       "      <td>33.50</td>\n",
       "      <td>51.26</td>\n",
       "    </tr>\n",
       "    <tr>\n",
       "      <th>2017</th>\n",
       "      <td>0.58</td>\n",
       "      <td>0.541</td>\n",
       "      <td>31.81</td>\n",
       "      <td>52.57</td>\n",
       "    </tr>\n",
       "    <tr>\n",
       "      <th>2019</th>\n",
       "      <td>0.70</td>\n",
       "      <td>0.700</td>\n",
       "      <td>33.00</td>\n",
       "      <td>60.95</td>\n",
       "    </tr>\n",
       "    <tr>\n",
       "      <th>2020</th>\n",
       "      <td>0.60</td>\n",
       "      <td>0.700</td>\n",
       "      <td>28.75</td>\n",
       "      <td>54.05</td>\n",
       "    </tr>\n",
       "  </tbody>\n",
       "</table>\n",
       "</div>"
      ],
      "text/plain": [
       "             median_emmission_intensity        median_total_emmission        \n",
       "new_building                          0      1                      0       1\n",
       "DataYear                                                                     \n",
       "2015                               0.46  1.305                  32.77  364.12\n",
       "2016                               0.61  0.550                  33.50   51.26\n",
       "2017                               0.58  0.541                  31.81   52.57\n",
       "2019                               0.70  0.700                  33.00   60.95\n",
       "2020                               0.60  0.700                  28.75   54.05"
      ]
     },
     "execution_count": 21,
     "metadata": {},
     "output_type": "execute_result"
    }
   ],
   "source": [
    "df_all_years.groupby(['DataYear', 'new_building']).agg(\n",
    "    median_emmission_intensity=(\"GHGEmissionsIntensity\", \"median\"),\n",
    "    median_total_emmission=(\"TotalGHGEmissions\", \"median\"),\n",
    ").reset_index().pivot(\n",
    "    index='DataYear', \n",
    "    columns='new_building', \n",
    "    values=['median_emmission_intensity', 'median_total_emmission']\n",
    ").round(3)"
   ]
  },
  {
   "cell_type": "markdown",
   "id": "173ceaf3",
   "metadata": {},
   "source": [
    "Let's use a plot to visualize those insights more clearly:"
   ]
  },
  {
   "cell_type": "code",
   "execution_count": null,
   "id": "9ab31545",
   "metadata": {},
   "outputs": [],
   "source": [
    "plt.figure(figsize=(8, 3))\n",
    "sns.pointplot(x=df_all_years.DataYear, y=df_all_years.GHGEmissionsIntensity, hue=df_all_years.new_building)\n",
    "plt.xlabel(\"Years\")\n",
    "plt.ylabel(\"GHGEmissionsIntensity\") \n",
    "plt.title(\"GHGEmissionsIntensity Across Years\")\n",
    "plt.show()"
   ]
  },
  {
   "cell_type": "markdown",
   "id": "430115b5",
   "metadata": {},
   "source": [
    "![](./img_1/21.png)  "
   ]
  },
  {
   "cell_type": "markdown",
   "id": "00ff7f73",
   "metadata": {},
   "source": [
    "Lineplots with intervals are finally more interesting: we can clearly see that new buildings are more efficient since 2016. In proportion, the difference with old ones is quite impressive:"
   ]
  },
  {
   "cell_type": "code",
   "execution_count": null,
   "id": "3c10a011",
   "metadata": {},
   "outputs": [],
   "source": [
    "# same thing but less interesting visually\n",
    "# plt.figure(figsize=(8, 3))\n",
    "# sns.pointplot(x=df_all_years.DataYear, y=df_all_years.TotalGHGEmissions, hue=df_all_years.new_building)\n",
    "# plt.xlabel(\"Years\")\n",
    "# plt.ylabel(\"TotalGHGEmissions\") \n",
    "# plt.title(\"TotalGHGEmissions Across Years\")\n",
    "# plt.show()\n",
    "\n",
    "\n",
    "plt.figure(figsize=(8, 3))\n",
    "sns.lineplot(x='DataYear', y=\"TotalGHGEmissions\", hue=\"new_building\", data=df_all_years)\n",
    "plt.xlabel(\"Years\")\n",
    "plt.ylabel(\"TotalGHGEmissions\") \n",
    "plt.title(\"TotalGHGEmissions Across Years\")\n",
    "plt.show()\n",
    "\n",
    "plt.figure(figsize=(8, 3))\n",
    "sns.lineplot(x='DataYear', y=\"GHGEmissionsIntensity\", hue=\"new_building\", data=df_all_years)\n",
    "plt.xlabel(\"Years\")\n",
    "plt.ylabel(\"GHGEmissionsIntensity\") \n",
    "plt.title(\"GHGEmissionsIntensity Across Years\")\n",
    "plt.show()"
   ]
  },
  {
   "cell_type": "markdown",
   "id": "944e5187",
   "metadata": {},
   "source": [
    "![](./img_1/22.png)  \n",
    "![](./img_1/22_bis.png)  "
   ]
  },
  {
   "cell_type": "markdown",
   "id": "641b81c3",
   "metadata": {},
   "source": [
    "Except downtown, the total emissions have stayed the same over the years for all neighborhoods:"
   ]
  },
  {
   "cell_type": "code",
   "execution_count": null,
   "id": "bb699c41",
   "metadata": {},
   "outputs": [],
   "source": [
    "def evolution_over_years_per_criteria(df, criteria, intensity_or_total):\n",
    "\n",
    "    df_mean =  df.groupby(['DataYear', criteria, 'new_building'])[[intensity_or_total]].mean().round(2)\n",
    "    # display(df_mean_neighborhood.head())\n",
    "    px.area(df_mean.reset_index(), x='DataYear', y=intensity_or_total, color=criteria, \n",
    "            line_group=\"new_building\", width=800, height=450).show()\n",
    "\n",
    "    \n",
    "evolution_over_years_per_criteria(\n",
    "    df_all_years[~df_all_years.Neighborhood.str.contains('shared') & \n",
    "                 ~df_all_years.Neighborhood.str.contains('water')],\n",
    "    'Neighborhood',\n",
    "    'TotalGHGEmissions'\n",
    ")"
   ]
  },
  {
   "cell_type": "markdown",
   "id": "521a5101",
   "metadata": {},
   "source": [
    "![](./img_1/24.png)"
   ]
  },
  {
   "cell_type": "code",
   "execution_count": null,
   "id": "f8c02380",
   "metadata": {},
   "outputs": [],
   "source": [
    "evolution_over_years_per_criteria(\n",
    "    df_all_years[~df_all_years.Neighborhood.str.contains('shared') & \n",
    "                 ~df_all_years.Neighborhood.str.contains('water')],\n",
    "    'Neighborhood',\n",
    "    'GHGEmissionsIntensity'\n",
    ")"
   ]
  },
  {
   "cell_type": "markdown",
   "id": "8c1abdb7",
   "metadata": {},
   "source": [
    "![](./img_1/25.png)"
   ]
  },
  {
   "cell_type": "code",
   "execution_count": null,
   "id": "f533e150",
   "metadata": {},
   "outputs": [],
   "source": [
    "px.box(\n",
    "    df_all_years[df_all_years.GHGEmissionsIntensity < 10],\n",
    "    x=\"BuildingType\",\n",
    "    y=\"GHGEmissionsIntensity\", \n",
    "    color=\"new_building\",\n",
    "    notched=True,\n",
    "    width=800,\n",
    "    height=550\n",
    ").show()"
   ]
  },
  {
   "cell_type": "markdown",
   "id": "88b40df2",
   "metadata": {},
   "source": [
    "![](./img_1/26.png)"
   ]
  },
  {
   "cell_type": "markdown",
   "id": "ed790436",
   "metadata": {
    "id": "ed790436"
   },
   "source": [
    "## Analysis of existing buildings\n",
    "\n",
    "Let's start by the ratio of the different types of buildings:"
   ]
  },
  {
   "cell_type": "code",
   "execution_count": null,
   "id": "d8b2f975",
   "metadata": {},
   "outputs": [],
   "source": [
    "df_all_years.BuildingType.value_counts().plot.pie()"
   ]
  },
  {
   "cell_type": "markdown",
   "id": "83a35a8f",
   "metadata": {},
   "source": [
    "![](./img_1/27.png)  "
   ]
  },
  {
   "cell_type": "code",
   "execution_count": null,
   "id": "82b19358",
   "metadata": {},
   "outputs": [],
   "source": [
    "evolution_over_years_per_criteria(\n",
    "    df_all_years[~df_all_years.Neighborhood.str.contains('shared') & \n",
    "                 ~df_all_years.Neighborhood.str.contains('water')],\n",
    "    'BuildingType',\n",
    "    'GHGEmissionsIntensity'\n",
    ")\n",
    "\n",
    "evolution_over_years_per_criteria(\n",
    "    df_all_years[~df_all_years.Neighborhood.str.contains('shared') & \n",
    "                 ~df_all_years.Neighborhood.str.contains('water')],\n",
    "    'BuildingType',\n",
    "    'TotalGHGEmissions'\n",
    ")"
   ]
  },
  {
   "cell_type": "markdown",
   "id": "969f8503",
   "metadata": {},
   "source": [
    "![](./img_1/28.png)\n",
    "![](./img_1/28bis.png)"
   ]
  },
  {
   "cell_type": "markdown",
   "id": "6f0d3492",
   "metadata": {
    "id": "6f0d3492"
   },
   "source": [
    "---\n",
    "\n",
    "# Year 2016 - Analysis in Depth & Data Cleansing"
   ]
  },
  {
   "cell_type": "markdown",
   "id": "ac260666",
   "metadata": {
    "id": "ac260666"
   },
   "source": [
    "Now we'll focus on a particulier year for our modelling objective. Here is the number of rows and columns for the year 2016. We can clearly see that we've to few records..."
   ]
  },
  {
   "cell_type": "code",
   "execution_count": 29,
   "id": "04e0bb36",
   "metadata": {
    "colab": {
     "base_uri": "https://localhost:8080/"
    },
    "executionInfo": {
     "elapsed": 139,
     "status": "ok",
     "timestamp": 1678284550285,
     "user": {
      "displayName": "jean rochefort",
      "userId": "04520792891621341900"
     },
     "user_tz": -60
    },
    "id": "04e0bb36",
    "outputId": "1026ffa2-3fbd-4ed6-8ca7-fb02129c1db5"
   },
   "outputs": [
    {
     "data": {
      "text/plain": [
       "(3376, 45)"
      ]
     },
     "execution_count": 29,
     "metadata": {},
     "output_type": "execute_result"
    }
   ],
   "source": [
    "df = df_concat[df_concat.DataYear == 2016]\n",
    "df.shape"
   ]
  },
  {
   "cell_type": "markdown",
   "id": "a53e48c7",
   "metadata": {
    "id": "a53e48c7"
   },
   "source": [
    "## Duplicated rows\n",
    "There isn't any duplicated records in this dataset:"
   ]
  },
  {
   "cell_type": "code",
   "execution_count": 30,
   "id": "8d9d91e6",
   "metadata": {
    "colab": {
     "base_uri": "https://localhost:8080/"
    },
    "executionInfo": {
     "elapsed": 135,
     "status": "ok",
     "timestamp": 1678284550286,
     "user": {
      "displayName": "jean rochefort",
      "userId": "04520792891621341900"
     },
     "user_tz": -60
    },
    "id": "8d9d91e6",
    "outputId": "d119073f-c86c-455d-8d7e-569398e1efae"
   },
   "outputs": [
    {
     "data": {
      "text/plain": [
       "(0, 0)"
      ]
     },
     "execution_count": 30,
     "metadata": {},
     "output_type": "execute_result"
    }
   ],
   "source": [
    "df.duplicated().sum(), df.index.duplicated().sum()"
   ]
  },
  {
   "cell_type": "markdown",
   "id": "58f06008",
   "metadata": {
    "id": "58f06008"
   },
   "source": [
    "## Overview of missing values\n",
    "\n",
    "Overview of missing values for each columns"
   ]
  },
  {
   "cell_type": "code",
   "execution_count": null,
   "id": "6fae705a",
   "metadata": {},
   "outputs": [],
   "source": [
    "msno.matrix(df)"
   ]
  },
  {
   "cell_type": "markdown",
   "id": "15b1a01f",
   "metadata": {
    "colab": {
     "base_uri": "https://localhost:8080/",
     "height": 785
    },
    "executionInfo": {
     "elapsed": 132,
     "status": "ok",
     "timestamp": 1678284550290,
     "user": {
      "displayName": "jean rochefort",
      "userId": "04520792891621341900"
     },
     "user_tz": -60
    },
    "id": "95327afa",
    "outputId": "fb9f13cb-7c00-4fef-d11a-dc8d3154fee4"
   },
   "source": [
    "![](./img_1/31.png)"
   ]
  },
  {
   "cell_type": "code",
   "execution_count": 32,
   "id": "2108d44b",
   "metadata": {
    "executionInfo": {
     "elapsed": 126,
     "status": "ok",
     "timestamp": 1678284550291,
     "user": {
      "displayName": "jean rochefort",
      "userId": "04520792891621341900"
     },
     "user_tz": -60
    },
    "id": "2108d44b"
   },
   "outputs": [],
   "source": [
    "def describe_df(df):\n",
    "    list_item = []\n",
    "    for col in df.columns:\n",
    "        list_item.append([\n",
    "            col, \n",
    "            df[col].dtype,\n",
    "            df[col].isna().sum(),\n",
    "            round(df[col].isna().sum()/len(df[col])*100, 2),\n",
    "            df[col].nunique(),\n",
    "            round(df[col].nunique()/len(df[col])*100, 2),\n",
    "            list(df[col].unique()[:5])\n",
    "        ])\n",
    "    return pd.DataFrame(\n",
    "        columns=['feature', 'type', '# null', '% null', '# unique', '% unique', 'sample'],\n",
    "        data = list_item\n",
    "    )"
   ]
  },
  {
   "cell_type": "markdown",
   "id": "479145f7",
   "metadata": {
    "id": "479145f7"
   },
   "source": [
    "## Irrelevant columns  \n",
    "\n",
    "First we remove the columns that aren't relevant for sure:\n",
    "- 'BuildingName': nearly unique for every recording & not usefull\n",
    "- 'TaxParcelIdentificationNumber': nearly unique for every recording & not usefull\n",
    "- 'DataYear': always 2016\n",
    "- 'City': always Seattle (of course...)\n",
    "- 'State': same reason\n",
    "- 'ComplianceIssue': used for later years\n",
    "- 'YearsENERGYSTARCertified': nearly always null"
   ]
  },
  {
   "cell_type": "code",
   "execution_count": 33,
   "id": "55ccc181",
   "metadata": {
    "colab": {
     "base_uri": "https://localhost:8080/",
     "height": 331
    },
    "executionInfo": {
     "elapsed": 126,
     "status": "ok",
     "timestamp": 1678284550292,
     "user": {
      "displayName": "jean rochefort",
      "userId": "04520792891621341900"
     },
     "user_tz": -60
    },
    "id": "55ccc181",
    "outputId": "5d06f00e-162d-4a5b-bcbf-d116304d13f8"
   },
   "outputs": [
    {
     "data": {
      "text/html": [
       "<div>\n",
       "<style scoped>\n",
       "    .dataframe tbody tr th:only-of-type {\n",
       "        vertical-align: middle;\n",
       "    }\n",
       "\n",
       "    .dataframe tbody tr th {\n",
       "        vertical-align: top;\n",
       "    }\n",
       "\n",
       "    .dataframe thead th {\n",
       "        text-align: right;\n",
       "    }\n",
       "</style>\n",
       "<table border=\"1\" class=\"dataframe\">\n",
       "  <thead>\n",
       "    <tr style=\"text-align: right;\">\n",
       "      <th></th>\n",
       "      <th>feature</th>\n",
       "      <th>type</th>\n",
       "      <th># null</th>\n",
       "      <th>% null</th>\n",
       "      <th># unique</th>\n",
       "      <th>% unique</th>\n",
       "      <th>sample</th>\n",
       "    </tr>\n",
       "  </thead>\n",
       "  <tbody>\n",
       "    <tr>\n",
       "      <th>0</th>\n",
       "      <td>BuildingName</td>\n",
       "      <td>object</td>\n",
       "      <td>0</td>\n",
       "      <td>0.00</td>\n",
       "      <td>3362</td>\n",
       "      <td>99.59</td>\n",
       "      <td>[Mayflower park hotel, Paramount Hotel, 5673-T...</td>\n",
       "    </tr>\n",
       "    <tr>\n",
       "      <th>1</th>\n",
       "      <td>TaxParcelIdentificationNumber</td>\n",
       "      <td>object</td>\n",
       "      <td>0</td>\n",
       "      <td>0.00</td>\n",
       "      <td>3268</td>\n",
       "      <td>96.80</td>\n",
       "      <td>[0659000030, 0659000220, 0659000475, 065900064...</td>\n",
       "    </tr>\n",
       "    <tr>\n",
       "      <th>2</th>\n",
       "      <td>DataYear</td>\n",
       "      <td>int64</td>\n",
       "      <td>0</td>\n",
       "      <td>0.00</td>\n",
       "      <td>1</td>\n",
       "      <td>0.03</td>\n",
       "      <td>[2016]</td>\n",
       "    </tr>\n",
       "    <tr>\n",
       "      <th>3</th>\n",
       "      <td>City</td>\n",
       "      <td>object</td>\n",
       "      <td>0</td>\n",
       "      <td>0.00</td>\n",
       "      <td>1</td>\n",
       "      <td>0.03</td>\n",
       "      <td>[Seattle]</td>\n",
       "    </tr>\n",
       "    <tr>\n",
       "      <th>4</th>\n",
       "      <td>State</td>\n",
       "      <td>object</td>\n",
       "      <td>0</td>\n",
       "      <td>0.00</td>\n",
       "      <td>1</td>\n",
       "      <td>0.03</td>\n",
       "      <td>[WA]</td>\n",
       "    </tr>\n",
       "    <tr>\n",
       "      <th>5</th>\n",
       "      <td>ComplianceIssue</td>\n",
       "      <td>object</td>\n",
       "      <td>3376</td>\n",
       "      <td>100.00</td>\n",
       "      <td>0</td>\n",
       "      <td>0.00</td>\n",
       "      <td>[nan]</td>\n",
       "    </tr>\n",
       "    <tr>\n",
       "      <th>6</th>\n",
       "      <td>YearsENERGYSTARCertified</td>\n",
       "      <td>object</td>\n",
       "      <td>3257</td>\n",
       "      <td>96.48</td>\n",
       "      <td>65</td>\n",
       "      <td>1.93</td>\n",
       "      <td>[nan, 2016, 2014, 2012, 20172015]</td>\n",
       "    </tr>\n",
       "    <tr>\n",
       "      <th>7</th>\n",
       "      <td>DefaultData</td>\n",
       "      <td>object</td>\n",
       "      <td>0</td>\n",
       "      <td>0.00</td>\n",
       "      <td>2</td>\n",
       "      <td>0.06</td>\n",
       "      <td>[False, True]</td>\n",
       "    </tr>\n",
       "    <tr>\n",
       "      <th>8</th>\n",
       "      <td>Address</td>\n",
       "      <td>object</td>\n",
       "      <td>0</td>\n",
       "      <td>0.00</td>\n",
       "      <td>3354</td>\n",
       "      <td>99.35</td>\n",
       "      <td>[405 Olive way, 724 Pine street, 1900 5th Aven...</td>\n",
       "    </tr>\n",
       "  </tbody>\n",
       "</table>\n",
       "</div>"
      ],
      "text/plain": [
       "                         feature    type  # null  % null  # unique  % unique  \\\n",
       "0                   BuildingName  object       0    0.00      3362     99.59   \n",
       "1  TaxParcelIdentificationNumber  object       0    0.00      3268     96.80   \n",
       "2                       DataYear   int64       0    0.00         1      0.03   \n",
       "3                           City  object       0    0.00         1      0.03   \n",
       "4                          State  object       0    0.00         1      0.03   \n",
       "5                ComplianceIssue  object    3376  100.00         0      0.00   \n",
       "6       YearsENERGYSTARCertified  object    3257   96.48        65      1.93   \n",
       "7                    DefaultData  object       0    0.00         2      0.06   \n",
       "8                        Address  object       0    0.00      3354     99.35   \n",
       "\n",
       "                                              sample  \n",
       "0  [Mayflower park hotel, Paramount Hotel, 5673-T...  \n",
       "1  [0659000030, 0659000220, 0659000475, 065900064...  \n",
       "2                                             [2016]  \n",
       "3                                          [Seattle]  \n",
       "4                                               [WA]  \n",
       "5                                              [nan]  \n",
       "6                  [nan, 2016, 2014, 2012, 20172015]  \n",
       "7                                      [False, True]  \n",
       "8  [405 Olive way, 724 Pine street, 1900 5th Aven...  "
      ]
     },
     "execution_count": 33,
     "metadata": {},
     "output_type": "execute_result"
    }
   ],
   "source": [
    "describe_df(df[['BuildingName', 'TaxParcelIdentificationNumber', 'DataYear', 'City', 'State',\n",
    "                 'ComplianceIssue', 'YearsENERGYSTARCertified', 'DefaultData', 'Address']])"
   ]
  },
  {
   "cell_type": "code",
   "execution_count": 34,
   "id": "0cddcd39",
   "metadata": {
    "executionInfo": {
     "elapsed": 124,
     "status": "ok",
     "timestamp": 1678284550292,
     "user": {
      "displayName": "jean rochefort",
      "userId": "04520792891621341900"
     },
     "user_tz": -60
    },
    "id": "0cddcd39"
   },
   "outputs": [],
   "source": [
    "df = df.drop(columns=['BuildingName', 'TaxParcelIdentificationNumber', 'City', 'State', \\\n",
    "                 'ComplianceIssue', 'YearsENERGYSTARCertified', 'DefaultData', 'Address']) \n",
    "# 'DataYear' drop later"
   ]
  },
  {
   "cell_type": "markdown",
   "id": "d98e0d5c",
   "metadata": {
    "id": "d98e0d5c"
   },
   "source": [
    "## Type mismatch  \n",
    "Does the column's type match the information it contains? Yes for most of the cases but the following ones should be integers : 'YearBuilt', 'CouncilDistrictCode', 'NumberofBuildings', 'NumberofFloors', 'ZipCode'"
   ]
  },
  {
   "cell_type": "code",
   "execution_count": 35,
   "id": "d00eafc7",
   "metadata": {
    "colab": {
     "base_uri": "https://localhost:8080/",
     "height": 206
    },
    "executionInfo": {
     "elapsed": 125,
     "status": "ok",
     "timestamp": 1678284550293,
     "user": {
      "displayName": "jean rochefort",
      "userId": "04520792891621341900"
     },
     "user_tz": -60
    },
    "id": "d00eafc7",
    "outputId": "19cd8f75-c771-4247-e97f-3fdc23ac1787"
   },
   "outputs": [
    {
     "data": {
      "text/html": [
       "<div>\n",
       "<style scoped>\n",
       "    .dataframe tbody tr th:only-of-type {\n",
       "        vertical-align: middle;\n",
       "    }\n",
       "\n",
       "    .dataframe tbody tr th {\n",
       "        vertical-align: top;\n",
       "    }\n",
       "\n",
       "    .dataframe thead th {\n",
       "        text-align: right;\n",
       "    }\n",
       "</style>\n",
       "<table border=\"1\" class=\"dataframe\">\n",
       "  <thead>\n",
       "    <tr style=\"text-align: right;\">\n",
       "      <th></th>\n",
       "      <th>feature</th>\n",
       "      <th>type</th>\n",
       "      <th># null</th>\n",
       "      <th>% null</th>\n",
       "      <th># unique</th>\n",
       "      <th>% unique</th>\n",
       "      <th>sample</th>\n",
       "    </tr>\n",
       "  </thead>\n",
       "  <tbody>\n",
       "    <tr>\n",
       "      <th>0</th>\n",
       "      <td>YearBuilt</td>\n",
       "      <td>float64</td>\n",
       "      <td>0</td>\n",
       "      <td>0.00</td>\n",
       "      <td>113</td>\n",
       "      <td>3.35</td>\n",
       "      <td>[1927.0, 1996.0, 1969.0, 1926.0, 1980.0]</td>\n",
       "    </tr>\n",
       "    <tr>\n",
       "      <th>1</th>\n",
       "      <td>CouncilDistrictCode</td>\n",
       "      <td>float64</td>\n",
       "      <td>0</td>\n",
       "      <td>0.00</td>\n",
       "      <td>7</td>\n",
       "      <td>0.21</td>\n",
       "      <td>[7.0, 3.0, 2.0, 4.0, 5.0]</td>\n",
       "    </tr>\n",
       "    <tr>\n",
       "      <th>2</th>\n",
       "      <td>NumberofBuildings</td>\n",
       "      <td>float64</td>\n",
       "      <td>8</td>\n",
       "      <td>0.24</td>\n",
       "      <td>17</td>\n",
       "      <td>0.50</td>\n",
       "      <td>[1.0, 3.0, 0.0, 2.0, 4.0]</td>\n",
       "    </tr>\n",
       "    <tr>\n",
       "      <th>3</th>\n",
       "      <td>NumberofFloors</td>\n",
       "      <td>float64</td>\n",
       "      <td>0</td>\n",
       "      <td>0.00</td>\n",
       "      <td>50</td>\n",
       "      <td>1.48</td>\n",
       "      <td>[12.0, 11.0, 41.0, 10.0, 18.0]</td>\n",
       "    </tr>\n",
       "    <tr>\n",
       "      <th>4</th>\n",
       "      <td>ZipCode</td>\n",
       "      <td>float64</td>\n",
       "      <td>16</td>\n",
       "      <td>0.47</td>\n",
       "      <td>55</td>\n",
       "      <td>1.63</td>\n",
       "      <td>[98101.0, 98121.0, 98104.0, 98154.0, 98118.0]</td>\n",
       "    </tr>\n",
       "  </tbody>\n",
       "</table>\n",
       "</div>"
      ],
      "text/plain": [
       "               feature     type  # null  % null  # unique  % unique  \\\n",
       "0            YearBuilt  float64       0    0.00       113      3.35   \n",
       "1  CouncilDistrictCode  float64       0    0.00         7      0.21   \n",
       "2    NumberofBuildings  float64       8    0.24        17      0.50   \n",
       "3       NumberofFloors  float64       0    0.00        50      1.48   \n",
       "4              ZipCode  float64      16    0.47        55      1.63   \n",
       "\n",
       "                                          sample  \n",
       "0       [1927.0, 1996.0, 1969.0, 1926.0, 1980.0]  \n",
       "1                      [7.0, 3.0, 2.0, 4.0, 5.0]  \n",
       "2                      [1.0, 3.0, 0.0, 2.0, 4.0]  \n",
       "3                 [12.0, 11.0, 41.0, 10.0, 18.0]  \n",
       "4  [98101.0, 98121.0, 98104.0, 98154.0, 98118.0]  "
      ]
     },
     "execution_count": 35,
     "metadata": {},
     "output_type": "execute_result"
    }
   ],
   "source": [
    "cols_to_int = ['YearBuilt', 'CouncilDistrictCode', 'NumberofBuildings', 'NumberofFloors', 'ZipCode']\n",
    "describe_df(df[cols_to_int])"
   ]
  },
  {
   "cell_type": "markdown",
   "id": "96b749eb",
   "metadata": {
    "id": "96b749eb"
   },
   "source": [
    "Prior to this, we have to replace NaN values, at the same time we see that there are 'NumberOfBuildings' equal to 0:"
   ]
  },
  {
   "cell_type": "code",
   "execution_count": null,
   "id": "8c05a35b",
   "metadata": {},
   "outputs": [],
   "source": [
    "df.NumberofBuildings.value_counts().sort_index().plot(kind='bar', figsize=(4, 3))"
   ]
  },
  {
   "cell_type": "markdown",
   "id": "009f0d5b",
   "metadata": {},
   "source": [
    "![](./img_1/36.png)  "
   ]
  },
  {
   "cell_type": "code",
   "execution_count": null,
   "id": "b2f53159",
   "metadata": {},
   "outputs": [],
   "source": [
    "df[df.NumberofBuildings !=1].NumberofBuildings.value_counts().sort_index().plot(kind='bar', figsize=(4, 3))"
   ]
  },
  {
   "cell_type": "markdown",
   "id": "0d40b141",
   "metadata": {},
   "source": [
    "![](./img_1/37.png)  "
   ]
  },
  {
   "cell_type": "code",
   "execution_count": 38,
   "id": "c21e3695",
   "metadata": {
    "colab": {
     "base_uri": "https://localhost:8080/",
     "height": 551
    },
    "executionInfo": {
     "elapsed": 111,
     "status": "ok",
     "timestamp": 1678284550296,
     "user": {
      "displayName": "jean rochefort",
      "userId": "04520792891621341900"
     },
     "user_tz": -60
    },
    "id": "c21e3695",
    "outputId": "f5e414eb-17e6-44e5-f4f3-038688b2c469"
   },
   "outputs": [
    {
     "data": {
      "text/html": [
       "<div>\n",
       "<style scoped>\n",
       "    .dataframe tbody tr th:only-of-type {\n",
       "        vertical-align: middle;\n",
       "    }\n",
       "\n",
       "    .dataframe tbody tr th {\n",
       "        vertical-align: top;\n",
       "    }\n",
       "\n",
       "    .dataframe thead th {\n",
       "        text-align: right;\n",
       "    }\n",
       "</style>\n",
       "<table border=\"1\" class=\"dataframe\">\n",
       "  <thead>\n",
       "    <tr style=\"text-align: right;\">\n",
       "      <th></th>\n",
       "      <th>NumberofBuildings</th>\n",
       "      <th>NumberofFloors</th>\n",
       "      <th>PropertyGFATotal</th>\n",
       "      <th>TotalGHGEmissions</th>\n",
       "      <th>GHGEmissionsIntensity</th>\n",
       "    </tr>\n",
       "    <tr>\n",
       "      <th>OSEBuildingID</th>\n",
       "      <th></th>\n",
       "      <th></th>\n",
       "      <th></th>\n",
       "      <th></th>\n",
       "      <th></th>\n",
       "    </tr>\n",
       "  </thead>\n",
       "  <tbody>\n",
       "    <tr>\n",
       "      <th>828</th>\n",
       "      <td>7.0</td>\n",
       "      <td>14.0</td>\n",
       "      <td>1765970</td>\n",
       "      <td>12307.16</td>\n",
       "      <td>6.97</td>\n",
       "    </tr>\n",
       "    <tr>\n",
       "      <th>49705</th>\n",
       "      <td>8.0</td>\n",
       "      <td>0.0</td>\n",
       "      <td>502030</td>\n",
       "      <td>549.11</td>\n",
       "      <td>1.09</td>\n",
       "    </tr>\n",
       "    <tr>\n",
       "      <th>23071</th>\n",
       "      <td>8.0</td>\n",
       "      <td>1.0</td>\n",
       "      <td>415632</td>\n",
       "      <td>3278.11</td>\n",
       "      <td>7.89</td>\n",
       "    </tr>\n",
       "    <tr>\n",
       "      <th>21196</th>\n",
       "      <td>8.0</td>\n",
       "      <td>4.0</td>\n",
       "      <td>185403</td>\n",
       "      <td>28.60</td>\n",
       "      <td>0.15</td>\n",
       "    </tr>\n",
       "    <tr>\n",
       "      <th>24498</th>\n",
       "      <td>9.0</td>\n",
       "      <td>3.0</td>\n",
       "      <td>58523</td>\n",
       "      <td>13.16</td>\n",
       "      <td>0.22</td>\n",
       "    </tr>\n",
       "    <tr>\n",
       "      <th>276</th>\n",
       "      <td>9.0</td>\n",
       "      <td>8.0</td>\n",
       "      <td>1158691</td>\n",
       "      <td>10734.57</td>\n",
       "      <td>9.26</td>\n",
       "    </tr>\n",
       "    <tr>\n",
       "      <th>24086</th>\n",
       "      <td>10.0</td>\n",
       "      <td>0.0</td>\n",
       "      <td>230971</td>\n",
       "      <td>405.05</td>\n",
       "      <td>1.75</td>\n",
       "    </tr>\n",
       "    <tr>\n",
       "      <th>25241</th>\n",
       "      <td>10.0</td>\n",
       "      <td>3.0</td>\n",
       "      <td>166858</td>\n",
       "      <td>28.83</td>\n",
       "      <td>0.17</td>\n",
       "    </tr>\n",
       "    <tr>\n",
       "      <th>211</th>\n",
       "      <td>11.0</td>\n",
       "      <td>2.0</td>\n",
       "      <td>694072</td>\n",
       "      <td>362.82</td>\n",
       "      <td>0.52</td>\n",
       "    </tr>\n",
       "    <tr>\n",
       "      <th>261</th>\n",
       "      <td>14.0</td>\n",
       "      <td>2.0</td>\n",
       "      <td>334368</td>\n",
       "      <td>748.55</td>\n",
       "      <td>2.24</td>\n",
       "    </tr>\n",
       "    <tr>\n",
       "      <th>25251</th>\n",
       "      <td>14.0</td>\n",
       "      <td>2.0</td>\n",
       "      <td>537000</td>\n",
       "      <td>3768.66</td>\n",
       "      <td>7.02</td>\n",
       "    </tr>\n",
       "    <tr>\n",
       "      <th>21215</th>\n",
       "      <td>16.0</td>\n",
       "      <td>3.0</td>\n",
       "      <td>89068</td>\n",
       "      <td>20.78</td>\n",
       "      <td>0.23</td>\n",
       "    </tr>\n",
       "    <tr>\n",
       "      <th>23622</th>\n",
       "      <td>23.0</td>\n",
       "      <td>1.0</td>\n",
       "      <td>260241</td>\n",
       "      <td>565.55</td>\n",
       "      <td>2.17</td>\n",
       "    </tr>\n",
       "    <tr>\n",
       "      <th>172</th>\n",
       "      <td>27.0</td>\n",
       "      <td>2.0</td>\n",
       "      <td>441071</td>\n",
       "      <td>866.23</td>\n",
       "      <td>1.96</td>\n",
       "    </tr>\n",
       "    <tr>\n",
       "      <th>49967</th>\n",
       "      <td>111.0</td>\n",
       "      <td>0.0</td>\n",
       "      <td>9320156</td>\n",
       "      <td>11140.56</td>\n",
       "      <td>1.20</td>\n",
       "    </tr>\n",
       "  </tbody>\n",
       "</table>\n",
       "</div>"
      ],
      "text/plain": [
       "               NumberofBuildings  NumberofFloors  PropertyGFATotal  \\\n",
       "OSEBuildingID                                                        \n",
       "828                          7.0            14.0           1765970   \n",
       "49705                        8.0             0.0            502030   \n",
       "23071                        8.0             1.0            415632   \n",
       "21196                        8.0             4.0            185403   \n",
       "24498                        9.0             3.0             58523   \n",
       "276                          9.0             8.0           1158691   \n",
       "24086                       10.0             0.0            230971   \n",
       "25241                       10.0             3.0            166858   \n",
       "211                         11.0             2.0            694072   \n",
       "261                         14.0             2.0            334368   \n",
       "25251                       14.0             2.0            537000   \n",
       "21215                       16.0             3.0             89068   \n",
       "23622                       23.0             1.0            260241   \n",
       "172                         27.0             2.0            441071   \n",
       "49967                      111.0             0.0           9320156   \n",
       "\n",
       "               TotalGHGEmissions  GHGEmissionsIntensity  \n",
       "OSEBuildingID                                            \n",
       "828                     12307.16                   6.97  \n",
       "49705                     549.11                   1.09  \n",
       "23071                    3278.11                   7.89  \n",
       "21196                      28.60                   0.15  \n",
       "24498                      13.16                   0.22  \n",
       "276                     10734.57                   9.26  \n",
       "24086                     405.05                   1.75  \n",
       "25241                      28.83                   0.17  \n",
       "211                       362.82                   0.52  \n",
       "261                       748.55                   2.24  \n",
       "25251                    3768.66                   7.02  \n",
       "21215                      20.78                   0.23  \n",
       "23622                     565.55                   2.17  \n",
       "172                       866.23                   1.96  \n",
       "49967                   11140.56                   1.20  "
      ]
     },
     "execution_count": 38,
     "metadata": {},
     "output_type": "execute_result"
    }
   ],
   "source": [
    "# df.NumberofBuildings.value_counts().plot(kind='hist', figsize=(3, 3))\n",
    "\n",
    "df.loc[df.NumberofBuildings > 6, ['NumberofBuildings', 'NumberofFloors', 'PropertyGFATotal', 'TotalGHGEmissions', 'GHGEmissionsIntensity']] \\\n",
    "    .sort_values(by=['NumberofBuildings', 'NumberofFloors', 'PropertyGFATotal'], ascending=True)"
   ]
  },
  {
   "cell_type": "code",
   "execution_count": 39,
   "id": "aeb93cb0",
   "metadata": {
    "executionInfo": {
     "elapsed": 109,
     "status": "ok",
     "timestamp": 1678284550298,
     "user": {
      "displayName": "jean rochefort",
      "userId": "04520792891621341900"
     },
     "user_tz": -60
    },
    "id": "aeb93cb0"
   },
   "outputs": [],
   "source": [
    "df.NumberofBuildings.replace([np.nan, 0], df.NumberofBuildings.mode()[0], inplace=True)"
   ]
  },
  {
   "cell_type": "markdown",
   "id": "07bf2582",
   "metadata": {
    "id": "07bf2582"
   },
   "source": [
    "## Imputation of NaNs"
   ]
  },
  {
   "cell_type": "markdown",
   "id": "4674a39e",
   "metadata": {
    "id": "4674a39e"
   },
   "source": [
    "Let's use the KNN imputer of scikit-learn to fill the ZipCode Nan based on the location"
   ]
  },
  {
   "cell_type": "code",
   "execution_count": 40,
   "id": "4e7f38c2",
   "metadata": {
    "executionInfo": {
     "elapsed": 106,
     "status": "ok",
     "timestamp": 1678284550299,
     "user": {
      "displayName": "jean rochefort",
      "userId": "04520792891621341900"
     },
     "user_tz": -60
    },
    "id": "4e7f38c2"
   },
   "outputs": [],
   "source": [
    "cols = ['ZipCode', 'Latitude', 'Longitude']\n",
    "df_tmp = df[cols]\n",
    "df_tmp = pd.DataFrame(\n",
    "    data=KNNImputer(n_neighbors=5).fit_transform(df_tmp),\n",
    "    index=df.index,\n",
    "    columns=cols\n",
    ")\n",
    "\n",
    "df = df.drop(columns=cols).join(df_tmp)\n",
    "\n",
    "df[cols_to_int] = df[cols_to_int].astype('int')\n",
    "df[['CouncilDistrictCode', 'ZipCode']] = df[['CouncilDistrictCode', 'ZipCode']].astype('object')"
   ]
  },
  {
   "cell_type": "markdown",
   "id": "7af73bee",
   "metadata": {
    "id": "7af73bee"
   },
   "source": [
    "__Other missing values__  \n",
    "There are many columns with the same number of NaNs (in our case less than nine recordings):"
   ]
  },
  {
   "cell_type": "code",
   "execution_count": 41,
   "id": "ed51cfbe",
   "metadata": {
    "colab": {
     "base_uri": "https://localhost:8080/"
    },
    "executionInfo": {
     "elapsed": 70,
     "status": "ok",
     "timestamp": 1678284552481,
     "user": {
      "displayName": "jean rochefort",
      "userId": "04520792891621341900"
     },
     "user_tz": -60
    },
    "id": "ed51cfbe",
    "outputId": "9047cd2c-2711-48fd-8b18-f90e21860397"
   },
   "outputs": [
    {
     "name": "stdout",
     "output_type": "stream",
     "text": [
      "Columns with few NaN:\n",
      " ListOfAllPropertyUseTypes - SiteEUI(kBtu/sf) - SiteEUIWN(kBtu/sf) - SourceEUI(kBtu/sf) - SourceEUIWN(kBtu/sf) - SiteEnergyUse(kBtu) - SiteEnergyUseWN(kBtu) - SteamUse(kBtu) - Electricity(kWh) - Electricity(kBtu) - NaturalGas(therms) - NaturalGas(kBtu) - TotalGHGEmissions - GHGEmissionsIntensity\n",
      "# rows with ALL nan in this columns' subset: 5\n",
      "# rows with ONE nan in this columns' subset: 12\n"
     ]
    }
   ],
   "source": [
    "cols_with_few_nan = [col for col in df.columns if 0 < df[col].isnull().sum() <= 9]\n",
    "print(\"Columns with few NaN:\\n\", \" - \".join(cols_with_few_nan))\n",
    "\n",
    "# https://thispointer.com/pandas-select-rows-with-all-nan-values-in-all-columns/\n",
    "# df[df.isnull().all(axis=1)]\n",
    "\n",
    "print(\"# rows with ALL nan in this columns' subset:\", df[df[cols_with_few_nan].isnull().all(axis=1)].shape[0])\n",
    "print(\"# rows with ONE nan in this columns' subset:\", df[df[cols_with_few_nan].isnull().any(axis=1)].shape[0])"
   ]
  },
  {
   "cell_type": "markdown",
   "id": "6f84ec98",
   "metadata": {
    "id": "6f84ec98"
   },
   "source": [
    "As there are very few recordings concerned, we can safely remove them."
   ]
  },
  {
   "cell_type": "code",
   "execution_count": 42,
   "id": "12415d68",
   "metadata": {
    "executionInfo": {
     "elapsed": 68,
     "status": "ok",
     "timestamp": 1678284552482,
     "user": {
      "displayName": "jean rochefort",
      "userId": "04520792891621341900"
     },
     "user_tz": -60
    },
    "id": "12415d68"
   },
   "outputs": [],
   "source": [
    "df.dropna(subset=cols_with_few_nan, inplace=True)"
   ]
  },
  {
   "cell_type": "markdown",
   "id": "734f8c5f",
   "metadata": {
    "id": "734f8c5f"
   },
   "source": [
    "'LargestPropertyUseType', 'LargestPropertyUseTypeGFA' have NaN on the same rows, it represents less than 1% of nulls, we can also remove those recordings:"
   ]
  },
  {
   "cell_type": "code",
   "execution_count": 43,
   "id": "43dc050a",
   "metadata": {
    "colab": {
     "base_uri": "https://localhost:8080/"
    },
    "executionInfo": {
     "elapsed": 70,
     "status": "ok",
     "timestamp": 1678284552485,
     "user": {
      "displayName": "jean rochefort",
      "userId": "04520792891621341900"
     },
     "user_tz": -60
    },
    "id": "43dc050a",
    "outputId": "08c9df02-e43c-46f7-fc5d-d2d3d73108fc"
   },
   "outputs": [
    {
     "name": "stdout",
     "output_type": "stream",
     "text": [
      "11\n"
     ]
    }
   ],
   "source": [
    "print(df[df[['LargestPropertyUseType', 'LargestPropertyUseTypeGFA']].isnull().all(axis=1)].shape[0])\n",
    "df.dropna(subset=['LargestPropertyUseType', 'LargestPropertyUseTypeGFA'], inplace=True)"
   ]
  },
  {
   "cell_type": "markdown",
   "id": "76a17781",
   "metadata": {
    "id": "76a17781"
   },
   "source": [
    "'SecondLargestPropertyUseType' & 'SecondLargestPropertyUseTypeGFA' are null at the same time.  \n",
    "'ThirdLargestPropertyUseType' & 'ThirdLargestPropertyUseTypeGFA' are also null at the same time.  \n",
    "That's quite obvious, but we can easily check that when infos on the 2nd largest property are missing that's also the case for the 3rd one."
   ]
  },
  {
   "cell_type": "code",
   "execution_count": 44,
   "id": "6610db30",
   "metadata": {
    "executionInfo": {
     "elapsed": 60,
     "status": "ok",
     "timestamp": 1678284552486,
     "user": {
      "displayName": "jean rochefort",
      "userId": "04520792891621341900"
     },
     "user_tz": -60
    },
    "id": "6610db30"
   },
   "outputs": [],
   "source": [
    "# rows where 'SecondLargestPropertyUseType' & 'SecondLargestPropertyUseTypeGFA' have both null:\",\n",
    "# df[df.SecondLargestPropertyUseType.isnull() & df.SecondLargestPropertyUseTypeGFA.isnull()].shape[0]\n",
    "\n",
    "# rows where 'ThirdLargestPropertyUseType' & 'ThirdLargestPropertyUseTypeGFA' have both null:\",\n",
    "# df[df.ThirdLargestPropertyUseType.isnull() & df.ThirdLargestPropertyUseTypeGFA.isnull()].shape[0]\n",
    "\n",
    "# df[df.SecondLargestPropertyUseType.isnull() & df.ThirdLargestPropertyUseType.isnull()].shape[0]"
   ]
  },
  {
   "cell_type": "markdown",
   "id": "f5557b43",
   "metadata": {
    "id": "f5557b43"
   },
   "source": [
    "That's because the concerned buildings are of only one property. When the 2nd & 3rd properties are missing, the 'NbProperty' juste created before is nearly always unique:"
   ]
  },
  {
   "cell_type": "code",
   "execution_count": 45,
   "id": "a24082ae",
   "metadata": {
    "colab": {
     "base_uri": "https://localhost:8080/",
     "height": 81
    },
    "executionInfo": {
     "elapsed": 62,
     "status": "ok",
     "timestamp": 1678284552490,
     "user": {
      "displayName": "jean rochefort",
      "userId": "04520792891621341900"
     },
     "user_tz": -60
    },
    "id": "a24082ae",
    "outputId": "2960bfb9-25a1-4aac-b911-646125f9ce7b"
   },
   "outputs": [
    {
     "data": {
      "text/html": [
       "<div>\n",
       "<style scoped>\n",
       "    .dataframe tbody tr th:only-of-type {\n",
       "        vertical-align: middle;\n",
       "    }\n",
       "\n",
       "    .dataframe tbody tr th {\n",
       "        vertical-align: top;\n",
       "    }\n",
       "\n",
       "    .dataframe thead th {\n",
       "        text-align: right;\n",
       "    }\n",
       "</style>\n",
       "<table border=\"1\" class=\"dataframe\">\n",
       "  <thead>\n",
       "    <tr style=\"text-align: right;\">\n",
       "      <th></th>\n",
       "      <th>count</th>\n",
       "      <th>mean</th>\n",
       "      <th>std</th>\n",
       "      <th>min</th>\n",
       "      <th>25%</th>\n",
       "      <th>50%</th>\n",
       "      <th>75%</th>\n",
       "      <th>max</th>\n",
       "    </tr>\n",
       "  </thead>\n",
       "  <tbody>\n",
       "    <tr>\n",
       "      <th>NbProperty</th>\n",
       "      <td>1676.0</td>\n",
       "      <td>1.009547</td>\n",
       "      <td>0.161795</td>\n",
       "      <td>1.0</td>\n",
       "      <td>1.0</td>\n",
       "      <td>1.0</td>\n",
       "      <td>1.0</td>\n",
       "      <td>4.0</td>\n",
       "    </tr>\n",
       "  </tbody>\n",
       "</table>\n",
       "</div>"
      ],
      "text/plain": [
       "             count      mean       std  min  25%  50%  75%  max\n",
       "NbProperty  1676.0  1.009547  0.161795  1.0  1.0  1.0  1.0  4.0"
      ]
     },
     "execution_count": 45,
     "metadata": {},
     "output_type": "execute_result"
    }
   ],
   "source": [
    "df['NbProperty'] = df.ListOfAllPropertyUseTypes.apply(lambda x: len(x.split(',')))\n",
    "df[df.SecondLargestPropertyUseType.isnull() & df.ThirdLargestPropertyUseType.isnull()][['NbProperty']].describe().T"
   ]
  },
  {
   "cell_type": "markdown",
   "id": "2fd1bace",
   "metadata": {
    "id": "2fd1bace"
   },
   "source": [
    "Knowing that we can replace NaNs by zeros:"
   ]
  },
  {
   "cell_type": "code",
   "execution_count": 46,
   "id": "f72e8de6",
   "metadata": {
    "executionInfo": {
     "elapsed": 63,
     "status": "ok",
     "timestamp": 1678284552493,
     "user": {
      "displayName": "jean rochefort",
      "userId": "04520792891621341900"
     },
     "user_tz": -60
    },
    "id": "f72e8de6"
   },
   "outputs": [],
   "source": [
    "df = df.fillna({\n",
    "    'SecondLargestPropertyUseType': 0, \n",
    "    'SecondLargestPropertyUseTypeGFA': 0, \n",
    "    'ThirdLargestPropertyUseType': 0,\n",
    "    'ThirdLargestPropertyUseTypeGFA': 0\n",
    "})"
   ]
  },
  {
   "cell_type": "markdown",
   "id": "32ceca64",
   "metadata": {
    "id": "32ceca64"
   },
   "source": [
    "The last columns with still Nan are \"ENERGYSTARScore\" & \"Outlier\", that we'll study later."
   ]
  },
  {
   "cell_type": "markdown",
   "id": "a1928b59",
   "metadata": {
    "id": "a1928b59"
   },
   "source": [
    "CouncilDistrictCode vs ZipCode"
   ]
  },
  {
   "cell_type": "code",
   "execution_count": 47,
   "id": "5c4f8185",
   "metadata": {
    "colab": {
     "base_uri": "https://localhost:8080/",
     "height": 394
    },
    "executionInfo": {
     "elapsed": 64,
     "status": "ok",
     "timestamp": 1678284552495,
     "user": {
      "displayName": "jean rochefort",
      "userId": "04520792891621341900"
     },
     "user_tz": -60
    },
    "id": "5c4f8185",
    "outputId": "c1a24caf-0ab3-40ee-9e1e-f0288918842a"
   },
   "outputs": [
    {
     "data": {
      "text/html": [
       "<div>\n",
       "<style scoped>\n",
       "    .dataframe tbody tr th:only-of-type {\n",
       "        vertical-align: middle;\n",
       "    }\n",
       "\n",
       "    .dataframe tbody tr th {\n",
       "        vertical-align: top;\n",
       "    }\n",
       "\n",
       "    .dataframe thead th {\n",
       "        text-align: right;\n",
       "    }\n",
       "</style>\n",
       "<table border=\"1\" class=\"dataframe\">\n",
       "  <thead>\n",
       "    <tr style=\"text-align: right;\">\n",
       "      <th>CouncilDistrictCode</th>\n",
       "      <th>1</th>\n",
       "      <th>2</th>\n",
       "      <th>3</th>\n",
       "      <th>4</th>\n",
       "      <th>5</th>\n",
       "      <th>6</th>\n",
       "      <th>7</th>\n",
       "    </tr>\n",
       "    <tr>\n",
       "      <th>ZipCode</th>\n",
       "      <th></th>\n",
       "      <th></th>\n",
       "      <th></th>\n",
       "      <th></th>\n",
       "      <th></th>\n",
       "      <th></th>\n",
       "      <th></th>\n",
       "    </tr>\n",
       "  </thead>\n",
       "  <tbody>\n",
       "    <tr>\n",
       "      <th>98006</th>\n",
       "      <td>0</td>\n",
       "      <td>0</td>\n",
       "      <td>0</td>\n",
       "      <td>0</td>\n",
       "      <td>0</td>\n",
       "      <td>0</td>\n",
       "      <td>1</td>\n",
       "    </tr>\n",
       "    <tr>\n",
       "      <th>98011</th>\n",
       "      <td>0</td>\n",
       "      <td>0</td>\n",
       "      <td>0</td>\n",
       "      <td>0</td>\n",
       "      <td>0</td>\n",
       "      <td>0</td>\n",
       "      <td>1</td>\n",
       "    </tr>\n",
       "    <tr>\n",
       "      <th>98012</th>\n",
       "      <td>0</td>\n",
       "      <td>0</td>\n",
       "      <td>1</td>\n",
       "      <td>0</td>\n",
       "      <td>0</td>\n",
       "      <td>0</td>\n",
       "      <td>0</td>\n",
       "    </tr>\n",
       "    <tr>\n",
       "      <th>98013</th>\n",
       "      <td>0</td>\n",
       "      <td>0</td>\n",
       "      <td>0</td>\n",
       "      <td>0</td>\n",
       "      <td>1</td>\n",
       "      <td>1</td>\n",
       "      <td>0</td>\n",
       "    </tr>\n",
       "    <tr>\n",
       "      <th>98020</th>\n",
       "      <td>0</td>\n",
       "      <td>0</td>\n",
       "      <td>0</td>\n",
       "      <td>1</td>\n",
       "      <td>0</td>\n",
       "      <td>0</td>\n",
       "      <td>0</td>\n",
       "    </tr>\n",
       "    <tr>\n",
       "      <th>98028</th>\n",
       "      <td>0</td>\n",
       "      <td>0</td>\n",
       "      <td>0</td>\n",
       "      <td>0</td>\n",
       "      <td>0</td>\n",
       "      <td>0</td>\n",
       "      <td>1</td>\n",
       "    </tr>\n",
       "    <tr>\n",
       "      <th>98033</th>\n",
       "      <td>0</td>\n",
       "      <td>0</td>\n",
       "      <td>0</td>\n",
       "      <td>0</td>\n",
       "      <td>0</td>\n",
       "      <td>0</td>\n",
       "      <td>1</td>\n",
       "    </tr>\n",
       "    <tr>\n",
       "      <th>98040</th>\n",
       "      <td>0</td>\n",
       "      <td>1</td>\n",
       "      <td>0</td>\n",
       "      <td>0</td>\n",
       "      <td>0</td>\n",
       "      <td>0</td>\n",
       "      <td>0</td>\n",
       "    </tr>\n",
       "    <tr>\n",
       "      <th>98053</th>\n",
       "      <td>1</td>\n",
       "      <td>0</td>\n",
       "      <td>0</td>\n",
       "      <td>0</td>\n",
       "      <td>0</td>\n",
       "      <td>0</td>\n",
       "      <td>0</td>\n",
       "    </tr>\n",
       "    <tr>\n",
       "      <th>98070</th>\n",
       "      <td>0</td>\n",
       "      <td>0</td>\n",
       "      <td>0</td>\n",
       "      <td>1</td>\n",
       "      <td>0</td>\n",
       "      <td>0</td>\n",
       "      <td>0</td>\n",
       "    </tr>\n",
       "  </tbody>\n",
       "</table>\n",
       "</div>"
      ],
      "text/plain": [
       "CouncilDistrictCode  1  2  3  4  5  6  7\n",
       "ZipCode                                 \n",
       "98006                0  0  0  0  0  0  1\n",
       "98011                0  0  0  0  0  0  1\n",
       "98012                0  0  1  0  0  0  0\n",
       "98013                0  0  0  0  1  1  0\n",
       "98020                0  0  0  1  0  0  0\n",
       "98028                0  0  0  0  0  0  1\n",
       "98033                0  0  0  0  0  0  1\n",
       "98040                0  1  0  0  0  0  0\n",
       "98053                1  0  0  0  0  0  0\n",
       "98070                0  0  0  1  0  0  0"
      ]
     },
     "execution_count": 47,
     "metadata": {},
     "output_type": "execute_result"
    }
   ],
   "source": [
    "pd.crosstab(index=df.ZipCode, columns=df.CouncilDistrictCode).head(10)"
   ]
  },
  {
   "cell_type": "markdown",
   "id": "502b5d04",
   "metadata": {
    "id": "502b5d04"
   },
   "source": [
    "## Treatment of categorical variables"
   ]
  },
  {
   "cell_type": "markdown",
   "id": "37edd5c0",
   "metadata": {
    "id": "37edd5c0"
   },
   "source": [
    "Property types"
   ]
  },
  {
   "cell_type": "code",
   "execution_count": 48,
   "id": "a05a9d3d",
   "metadata": {
    "executionInfo": {
     "elapsed": 1996,
     "status": "ok",
     "timestamp": 1678284554432,
     "user": {
      "displayName": "jean rochefort",
      "userId": "04520792891621341900"
     },
     "user_tz": -60
    },
    "id": "a05a9d3d"
   },
   "outputs": [],
   "source": [
    "pty_cols = [col for col in df.select_dtypes('object').columns if \"property\" in col.lower()]\n",
    "\n",
    "\n",
    "health_type = [\"health\", \"hospital\", \"medical\", \"surgical\", \"therapy\", \"care\", \"laboratory\", \"clinic\", \"patient\"]\n",
    "mixed_type = [\"mixed\"]\n",
    "# other_type = [\"other\"]\n",
    "industrial_type = [\"industrial\", \"warehouse\", \"manufacturing\", \"data center\", \"distribution\", \"technology\"]\n",
    "commercial_type = [\"commercial\", \"supermarket\", \"grocery\", \"store\", \"retail\", \"dealership\", \"mall\", \"wholesale\", \"supercenter\"]\n",
    "services_type = [\"service\", \"self-storage\", \"bank\"]\n",
    "residential_type = [\"residential\", \"residence\", \"dormitory\", \"lodging\", \"multifamily\", \"housing\"]\n",
    "office_type = [\"office\"]\n",
    "parking_type = [\"parking\"]\n",
    "education_type = [\"education\", \"school\", \"college\", \"university\"]\n",
    "Public_services_type = [\"public service\", \"police\", \"courthouse\", \"fire station\", \"library\"]\n",
    "hotel_catering_type = [\"hotel_catering\", \"restaurant\", \"hotel\", \"bar\", \"food\"]\n",
    "leisure_type = [\"leisure\", \"performing arts\", \"entertainment\", \"fitness\", \"gym\", \"meeting\", \"museum\", \"convention\", \n",
    "                \"recreation\", \"lifestyle\", \"movie\", \"theater\", \"swimming pool\", \"bar\", \"nightclub\", \"worship facility\"]\n",
    "\n",
    "\n",
    "all_types = [mixed_type, health_type, industrial_type, commercial_type, services_type, residential_type, office_type, \n",
    "             education_type, Public_services_type, hotel_catering_type, leisure_type] # other_type\n",
    "\n",
    "\n",
    "def clean_type(st):\n",
    "    return_type = \"\"\n",
    "    for type_lst in all_types:\n",
    "        if any([kw in st.lower() for kw in type_lst]):\n",
    "            return_type += type_lst[0]\n",
    "            return_type += \" - \"\n",
    "    if return_type == \"\":\n",
    "        return \"none\"\n",
    "    return return_type.strip()\n",
    "\n",
    "for col in pty_cols:\n",
    "    df[col] = df[col].astype('str') \n",
    "    df[col] = df[col].apply(clean_type)"
   ]
  },
  {
   "cell_type": "markdown",
   "id": "815a98ee",
   "metadata": {
    "id": "815a98ee"
   },
   "source": [
    "it has divided the cardinality by 2"
   ]
  },
  {
   "cell_type": "code",
   "execution_count": 49,
   "id": "ae481183",
   "metadata": {
    "colab": {
     "base_uri": "https://localhost:8080/",
     "height": 206
    },
    "executionInfo": {
     "elapsed": 67,
     "status": "ok",
     "timestamp": 1678284554433,
     "user": {
      "displayName": "jean rochefort",
      "userId": "04520792891621341900"
     },
     "user_tz": -60
    },
    "id": "ae481183",
    "outputId": "27142cce-2221-481e-aad0-25c847664e94"
   },
   "outputs": [
    {
     "data": {
      "text/html": [
       "<div>\n",
       "<style scoped>\n",
       "    .dataframe tbody tr th:only-of-type {\n",
       "        vertical-align: middle;\n",
       "    }\n",
       "\n",
       "    .dataframe tbody tr th {\n",
       "        vertical-align: top;\n",
       "    }\n",
       "\n",
       "    .dataframe thead th {\n",
       "        text-align: right;\n",
       "    }\n",
       "</style>\n",
       "<table border=\"1\" class=\"dataframe\">\n",
       "  <thead>\n",
       "    <tr style=\"text-align: right;\">\n",
       "      <th></th>\n",
       "      <th>feature</th>\n",
       "      <th>type</th>\n",
       "      <th># null</th>\n",
       "      <th>% null</th>\n",
       "      <th># unique</th>\n",
       "      <th>% unique</th>\n",
       "      <th>sample</th>\n",
       "    </tr>\n",
       "  </thead>\n",
       "  <tbody>\n",
       "    <tr>\n",
       "      <th>0</th>\n",
       "      <td>PrimaryPropertyType</td>\n",
       "      <td>object</td>\n",
       "      <td>0</td>\n",
       "      <td>0.0</td>\n",
       "      <td>13</td>\n",
       "      <td>0.39</td>\n",
       "      <td>[hotel_catering -, none, residential -, mixed ...</td>\n",
       "    </tr>\n",
       "    <tr>\n",
       "      <th>1</th>\n",
       "      <td>ListOfAllPropertyUseTypes</td>\n",
       "      <td>object</td>\n",
       "      <td>0</td>\n",
       "      <td>0.0</td>\n",
       "      <td>144</td>\n",
       "      <td>4.29</td>\n",
       "      <td>[hotel_catering -, hotel_catering - leisure -,...</td>\n",
       "    </tr>\n",
       "    <tr>\n",
       "      <th>2</th>\n",
       "      <td>LargestPropertyUseType</td>\n",
       "      <td>object</td>\n",
       "      <td>0</td>\n",
       "      <td>0.0</td>\n",
       "      <td>19</td>\n",
       "      <td>0.57</td>\n",
       "      <td>[hotel_catering -, public service -, leisure -...</td>\n",
       "    </tr>\n",
       "    <tr>\n",
       "      <th>3</th>\n",
       "      <td>SecondLargestPropertyUseType</td>\n",
       "      <td>object</td>\n",
       "      <td>0</td>\n",
       "      <td>0.0</td>\n",
       "      <td>18</td>\n",
       "      <td>0.54</td>\n",
       "      <td>[none, office -, hotel_catering -, education -...</td>\n",
       "    </tr>\n",
       "    <tr>\n",
       "      <th>4</th>\n",
       "      <td>ThirdLargestPropertyUseType</td>\n",
       "      <td>object</td>\n",
       "      <td>0</td>\n",
       "      <td>0.0</td>\n",
       "      <td>17</td>\n",
       "      <td>0.51</td>\n",
       "      <td>[none, hotel_catering -, leisure -, industrial...</td>\n",
       "    </tr>\n",
       "  </tbody>\n",
       "</table>\n",
       "</div>"
      ],
      "text/plain": [
       "                        feature    type  # null  % null  # unique  % unique  \\\n",
       "0           PrimaryPropertyType  object       0     0.0        13      0.39   \n",
       "1     ListOfAllPropertyUseTypes  object       0     0.0       144      4.29   \n",
       "2        LargestPropertyUseType  object       0     0.0        19      0.57   \n",
       "3  SecondLargestPropertyUseType  object       0     0.0        18      0.54   \n",
       "4   ThirdLargestPropertyUseType  object       0     0.0        17      0.51   \n",
       "\n",
       "                                              sample  \n",
       "0  [hotel_catering -, none, residential -, mixed ...  \n",
       "1  [hotel_catering -, hotel_catering - leisure -,...  \n",
       "2  [hotel_catering -, public service -, leisure -...  \n",
       "3  [none, office -, hotel_catering -, education -...  \n",
       "4  [none, hotel_catering -, leisure -, industrial...  "
      ]
     },
     "execution_count": 49,
     "metadata": {},
     "output_type": "execute_result"
    }
   ],
   "source": [
    "describe_df(df[pty_cols])"
   ]
  },
  {
   "cell_type": "code",
   "execution_count": 50,
   "id": "c1162ab2",
   "metadata": {
    "colab": {
     "base_uri": "https://localhost:8080/"
    },
    "executionInfo": {
     "elapsed": 65,
     "status": "ok",
     "timestamp": 1678284554434,
     "user": {
      "displayName": "jean rochefort",
      "userId": "04520792891621341900"
     },
     "user_tz": -60
    },
    "id": "c1162ab2",
    "outputId": "80242cf9-fa83-424e-a6ab-ee690d45f5dd"
   },
   "outputs": [
    {
     "data": {
      "text/plain": [
       "array(['none', 'office -', 'hotel_catering -', 'education -', 'health -',\n",
       "       'industrial -', 'commercial -', 'health - service -', 'leisure -',\n",
       "       'public service -', 'residential -', 'service -',\n",
       "       'health - office -', 'hotel_catering - leisure -',\n",
       "       'service - hotel_catering -', 'health - leisure -',\n",
       "       'service - public service -', 'health - education -'], dtype=object)"
      ]
     },
     "execution_count": 50,
     "metadata": {},
     "output_type": "execute_result"
    }
   ],
   "source": [
    "df.SecondLargestPropertyUseType.unique()"
   ]
  },
  {
   "cell_type": "markdown",
   "id": "2cf9dd4e",
   "metadata": {
    "id": "2cf9dd4e"
   },
   "source": [
    "## Univariate analysis"
   ]
  },
  {
   "cell_type": "markdown",
   "id": "918fa623",
   "metadata": {
    "id": "918fa623"
   },
   "source": [
    "BuildingType"
   ]
  },
  {
   "cell_type": "code",
   "execution_count": null,
   "id": "a5739cd9",
   "metadata": {},
   "outputs": [],
   "source": [
    "px.histogram(df, x='BuildingType', width=500, height=350)#, color=\"continent\")#, template=\"ggplot2\")"
   ]
  },
  {
   "cell_type": "markdown",
   "id": "b9a18920",
   "metadata": {},
   "source": [
    "![](./img_1/51.png)"
   ]
  },
  {
   "cell_type": "markdown",
   "id": "8de7a4dc",
   "metadata": {
    "id": "8de7a4dc"
   },
   "source": [
    "Neighborhood"
   ]
  },
  {
   "cell_type": "code",
   "execution_count": null,
   "id": "63065bfc",
   "metadata": {},
   "outputs": [],
   "source": [
    "df.Neighborhood = df.Neighborhood.str.lower()\n",
    "df.Neighborhood.replace('delridge neighborhoods', 'delridge', inplace=True)\n",
    "px.histogram(df, x='Neighborhood', width=500, height=400)"
   ]
  },
  {
   "cell_type": "markdown",
   "id": "7ad25f17",
   "metadata": {},
   "source": [
    "![](./img_1/52.png)"
   ]
  },
  {
   "cell_type": "markdown",
   "id": "948f1f2c",
   "metadata": {
    "id": "948f1f2c"
   },
   "source": [
    "BuildingAge"
   ]
  },
  {
   "cell_type": "markdown",
   "id": "a7e48dea",
   "metadata": {
    "id": "a7e48dea"
   },
   "source": [
    "Many less constructions were built during WWII. But we can also see that many more buildings were erected after WWII than before. "
   ]
  },
  {
   "cell_type": "code",
   "execution_count": null,
   "id": "890838b4",
   "metadata": {},
   "outputs": [],
   "source": [
    "px.histogram(df, x=\"YearBuilt\", nbins=20, width=600, height=400).show()\n",
    "df[\"BuildingAge\"] = df.DataYear - df.YearBuilt\n",
    "df.drop(columns=[\"YearBuilt\", \"DataYear\"], inplace = True )\n",
    "# px.histogram(df, x=\"BuildingAge\", nbins=14, width=700, height=400)"
   ]
  },
  {
   "cell_type": "markdown",
   "id": "7ebbbea1",
   "metadata": {},
   "source": [
    "![](./img_1/53.png)"
   ]
  },
  {
   "cell_type": "markdown",
   "id": "f9a5ef09",
   "metadata": {
    "id": "f9a5ef09"
   },
   "source": [
    "__All numerical variables__"
   ]
  },
  {
   "cell_type": "code",
   "execution_count": null,
   "id": "96226c87",
   "metadata": {},
   "outputs": [],
   "source": [
    "# px.histogram(df, x=\"NumberofBuildings\", width=700, height=400)\n",
    "# px.histogram(df, x=\"NumberofFloors\", width=700, height=400)\n",
    "\n",
    "for col in df.select_dtypes('number').columns:\n",
    "    px.histogram(df, x=col, width=700, height=400).show()"
   ]
  },
  {
   "cell_type": "markdown",
   "id": "192d11e2",
   "metadata": {},
   "source": [
    "![](./img_1/54_1.png)\n",
    "![](./img_1/54_2.png)\n",
    "![](./img_1/54_3.png)"
   ]
  },
  {
   "cell_type": "markdown",
   "id": "f6139dcd",
   "metadata": {
    "id": "f6139dcd"
   },
   "source": [
    "There are primary property type that are mixed such commercial & office / health & office, which is quite surprising. This would require further investigations:"
   ]
  },
  {
   "cell_type": "code",
   "execution_count": 55,
   "id": "6bd378bd",
   "metadata": {
    "colab": {
     "base_uri": "https://localhost:8080/"
    },
    "executionInfo": {
     "elapsed": 42,
     "status": "ok",
     "timestamp": 1678284555236,
     "user": {
      "displayName": "jean rochefort",
      "userId": "04520792891621341900"
     },
     "user_tz": -60
    },
    "id": "6bd378bd",
    "outputId": "649d6282-f78b-484a-8604-b54a3c054cf0"
   },
   "outputs": [
    {
     "data": {
      "text/plain": [
       "array(['hotel_catering -', 'none', 'residential -', 'mixed -',\n",
       "       'education -', 'commercial - office -', 'service -',\n",
       "       'industrial -', 'office -', 'health -', 'health - office -',\n",
       "       'commercial -', 'leisure -'], dtype=object)"
      ]
     },
     "execution_count": 55,
     "metadata": {},
     "output_type": "execute_result"
    }
   ],
   "source": [
    "df.PrimaryPropertyType.unique()"
   ]
  },
  {
   "cell_type": "markdown",
   "id": "9df481d2",
   "metadata": {
    "id": "9df481d2"
   },
   "source": [
    "## Outliers"
   ]
  },
  {
   "cell_type": "markdown",
   "id": "c940ba9c",
   "metadata": {
    "id": "c940ba9c"
   },
   "source": [
    "The variable identifying outliers could be interesting for our analysis. Nonetheless, the official dataset documentation doesn't provide an accurate information on how those outliers are computed and based on what criteria."
   ]
  },
  {
   "cell_type": "code",
   "execution_count": null,
   "id": "6c5f710e",
   "metadata": {},
   "outputs": [],
   "source": [
    "display(pd.DataFrame(df.Outlier.value_counts(dropna=False)))\n",
    "\n",
    "fig, axes = plt.subplots(nrows=1, ncols=2, figsize=(8, 3))\n",
    "df.Outlier.value_counts(dropna=False).plot.bar(ax=axes[0], title=\"Counts of outliers with Nan\")\n",
    "df.Outlier.value_counts().plot.pie(ax=axes[1], title=f\"High vs. Low outliers\")"
   ]
  },
  {
   "cell_type": "markdown",
   "id": "4b675050",
   "metadata": {},
   "source": [
    "![](./img_1/56.png)  "
   ]
  },
  {
   "cell_type": "markdown",
   "id": "7c0fb0cb",
   "metadata": {
    "id": "7c0fb0cb"
   },
   "source": [
    "We're going to drop those outliers:"
   ]
  },
  {
   "cell_type": "code",
   "execution_count": 57,
   "id": "0441b796",
   "metadata": {
    "colab": {
     "base_uri": "https://localhost:8080/"
    },
    "executionInfo": {
     "elapsed": 31,
     "status": "ok",
     "timestamp": 1678284555240,
     "user": {
      "displayName": "jean rochefort",
      "userId": "04520792891621341900"
     },
     "user_tz": -60
    },
    "id": "0441b796",
    "outputId": "7e937ab3-592c-41e2-ebd7-d2f71d4417ea"
   },
   "outputs": [
    {
     "name": "stdout",
     "output_type": "stream",
     "text": [
      "Nb. rows BEFORE dropping outliers: 3353\n",
      "Nb. rows AFTER dropping outliers: 3321\n"
     ]
    }
   ],
   "source": [
    "print(f\"Nb. rows BEFORE dropping outliers: {df.shape[0]}\")\n",
    "df = df[~df.Outlier.isin(['High outlier', 'Low outlier'])]\n",
    "print(f\"Nb. rows AFTER dropping outliers: {df.shape[0]}\")"
   ]
  },
  {
   "cell_type": "markdown",
   "id": "94527ab0",
   "metadata": {
    "id": "94527ab0"
   },
   "source": [
    "Inspection of negatives values for the fields \"SourceEUIWN(kBtu/sf)\", \"Electricity(kWh)\", and \"Electricity(kBtu)\" (Is it positive-energy buildings? we can doubt about it because there is only one value, so we keep its absolute value:"
   ]
  },
  {
   "cell_type": "code",
   "execution_count": 58,
   "id": "fd009639",
   "metadata": {
    "colab": {
     "base_uri": "https://localhost:8080/",
     "height": 129
    },
    "executionInfo": {
     "elapsed": 323,
     "status": "ok",
     "timestamp": 1678284555540,
     "user": {
      "displayName": "jean rochefort",
      "userId": "04520792891621341900"
     },
     "user_tz": -60
    },
    "id": "fd009639",
    "outputId": "c904d682-8ae7-4152-9dfa-83e5cabcc2c6"
   },
   "outputs": [
    {
     "name": "stdout",
     "output_type": "stream",
     "text": [
      "# rows with ALL nan in this columns' subset: 1\n"
     ]
    },
    {
     "data": {
      "text/html": [
       "<div>\n",
       "<style scoped>\n",
       "    .dataframe tbody tr th:only-of-type {\n",
       "        vertical-align: middle;\n",
       "    }\n",
       "\n",
       "    .dataframe tbody tr th {\n",
       "        vertical-align: top;\n",
       "    }\n",
       "\n",
       "    .dataframe thead th {\n",
       "        text-align: right;\n",
       "    }\n",
       "</style>\n",
       "<table border=\"1\" class=\"dataframe\">\n",
       "  <thead>\n",
       "    <tr style=\"text-align: right;\">\n",
       "      <th></th>\n",
       "      <th>SourceEUIWN(kBtu/sf)</th>\n",
       "      <th>Electricity(kWh)</th>\n",
       "      <th>Electricity(kBtu)</th>\n",
       "    </tr>\n",
       "    <tr>\n",
       "      <th>OSEBuildingID</th>\n",
       "      <th></th>\n",
       "      <th></th>\n",
       "      <th></th>\n",
       "    </tr>\n",
       "  </thead>\n",
       "  <tbody>\n",
       "    <tr>\n",
       "      <th>49784</th>\n",
       "      <td>-2.1</td>\n",
       "      <td>-33826.80078</td>\n",
       "      <td>-115417.0</td>\n",
       "    </tr>\n",
       "  </tbody>\n",
       "</table>\n",
       "</div>"
      ],
      "text/plain": [
       "               SourceEUIWN(kBtu/sf)  Electricity(kWh)  Electricity(kBtu)\n",
       "OSEBuildingID                                                           \n",
       "49784                          -2.1      -33826.80078          -115417.0"
      ]
     },
     "metadata": {},
     "output_type": "display_data"
    }
   ],
   "source": [
    "cols_to_inspect = [\"SourceEUIWN(kBtu/sf)\", \"Electricity(kWh)\", \"Electricity(kBtu)\"]\n",
    "print(\"# rows with ALL nan in this columns' subset:\", df[(df[cols_to_inspect] < 0).all(axis=1)].shape[0])\n",
    "\n",
    "display(df.loc[df[\"SourceEUIWN(kBtu/sf)\"] < 0, cols_to_inspect])\n",
    "\n",
    "df.loc[df[\"SourceEUIWN(kBtu/sf)\"] < 0, cols_to_inspect] = \\\n",
    "    abs(df.loc[df[\"SourceEUIWN(kBtu/sf)\"] < 0, cols_to_inspect])"
   ]
  },
  {
   "cell_type": "markdown",
   "id": "424c068d",
   "metadata": {
    "id": "424c068d"
   },
   "source": [
    "__Other numerical outliers:__"
   ]
  },
  {
   "cell_type": "markdown",
   "id": "8c26f798",
   "metadata": {
    "id": "8c26f798"
   },
   "source": [
    "As we can see, there are many outliers when considering the IQR method. This leads to drop too many records (more than two thirds of our dataset!). We can proceed that way... Let's keep in mind for later that decision trees are not sensitive to outliers unliked linear models (since the partitioning happens based on the proportion of samples within the split ranges and not on absolute values)."
   ]
  },
  {
   "cell_type": "code",
   "execution_count": 59,
   "id": "af72c65f",
   "metadata": {
    "colab": {
     "base_uri": "https://localhost:8080/"
    },
    "executionInfo": {
     "elapsed": 15,
     "status": "ok",
     "timestamp": 1678284555542,
     "user": {
      "displayName": "jean rochefort",
      "userId": "04520792891621341900"
     },
     "user_tz": -60
    },
    "id": "af72c65f",
    "outputId": "bdcf1715-16ac-4493-b981-699a0a36bec1"
   },
   "outputs": [
    {
     "name": "stdout",
     "output_type": "stream",
     "text": [
      "initial shape : (3321, 37)\n",
      "for column NumberofBuildings, nb outliers dropped: 98\n",
      "for column NumberofFloors, nb outliers dropped: 234\n",
      "for column PropertyGFATotal, nb outliers dropped: 291\n",
      "for column PropertyGFAParking, nb outliers dropped: 286\n",
      "for column PropertyGFABuilding(s), nb outliers dropped: 159\n",
      "for column LargestPropertyUseTypeGFA, nb outliers dropped: 94\n",
      "for column SecondLargestPropertyUseTypeGFA, nb outliers dropped: 167\n",
      "for column ThirdLargestPropertyUseTypeGFA, nb outliers dropped: 186\n",
      "for column ENERGYSTARScore, nb outliers dropped: 376\n",
      "for column SiteEUI(kBtu/sf), nb outliers dropped: 87\n",
      "for column SiteEUIWN(kBtu/sf), nb outliers dropped: 32\n",
      "for column SourceEUI(kBtu/sf), nb outliers dropped: 92\n",
      "for column SourceEUIWN(kBtu/sf), nb outliers dropped: 36\n",
      "for column SiteEnergyUse(kBtu), nb outliers dropped: 34\n",
      "for column SiteEnergyUseWN(kBtu), nb outliers dropped: 17\n",
      "for column SteamUse(kBtu), nb outliers dropped: 12\n",
      "for column Electricity(kWh), nb outliers dropped: 33\n",
      "for column Electricity(kBtu), nb outliers dropped: 18\n",
      "for column NaturalGas(therms), nb outliers dropped: 43\n",
      "for column NaturalGas(kBtu), nb outliers dropped: 19\n",
      "for column TotalGHGEmissions, nb outliers dropped: 22\n",
      "for column GHGEmissionsIntensity, nb outliers dropped: 59\n",
      "for column Latitude, nb outliers dropped: 2\n",
      "for column Longitude, nb outliers dropped: 0\n",
      "for column NbProperty, nb outliers dropped: 0\n",
      "for column BuildingAge, nb outliers dropped: 15\n",
      "final shape : (909, 37)\n"
     ]
    }
   ],
   "source": [
    "df_cpy = df.copy()\n",
    "print(\"initial shape :\", df_cpy.shape)\n",
    "\n",
    "\n",
    "def filter_iqr_outliers(df, col):\n",
    "    \"\"\"Use the interquartile range to detect outlier\n",
    "    Args:\n",
    "        df (pd.DataFrame()): the dataframe used\n",
    "        col (str): the column name \n",
    "    Returns:\n",
    "        a new df with the outliers' rows dropped\n",
    "    \n",
    "    \"\"\"\n",
    "    q1 = df[col].quantile(0.25)\n",
    "    q3 = df[col].quantile(0.75)\n",
    "    \n",
    "    iqr = q3 - q1\n",
    "    \n",
    "    lower_bound = q1 - (1.5 * iqr) \n",
    "    upper_bound = q3 + (1.5 * iqr)\n",
    "\n",
    "    return df[(lower_bound <= df[col]) & (df[col] <= upper_bound)]\n",
    "    # df = df.query(f\"{q1 - 1.5 * iqr} < {col} and {col} < {q3 + 1.5 * iqr}\")\n",
    "\n",
    "    \n",
    "for col in df_cpy.select_dtypes(\"number\").columns:\n",
    "    nb_row_initial = df_cpy.shape[0]\n",
    "    df_cpy = filter_iqr_outliers(df_cpy, col)\n",
    "    nb_row_final = df_cpy.shape[0]\n",
    "    print(f\"for column {col}, nb outliers dropped: {nb_row_initial - nb_row_final}\")\n",
    "    \n",
    "    \n",
    "print(\"final shape :\", df_cpy.shape)"
   ]
  },
  {
   "cell_type": "markdown",
   "id": "f86bff64",
   "metadata": {
    "id": "f86bff64"
   },
   "source": [
    "## Multivariate analysis"
   ]
  },
  {
   "cell_type": "markdown",
   "id": "16395e01",
   "metadata": {},
   "source": [
    "Let's begin by a pairplot, the different colors correspond to the various building types:"
   ]
  },
  {
   "cell_type": "code",
   "execution_count": null,
   "id": "4ecc692e",
   "metadata": {},
   "outputs": [],
   "source": [
    "c = [\n",
    "    'PropertyGFAParking', 'PropertyGFABuilding(s)', 'LargestPropertyUseTypeGFA', 'SecondLargestPropertyUseTypeGFA',\n",
    "    'SiteEUIWN(kBtu/sf)', 'SourceEUIWN(kBtu/sf)', 'SiteEnergyUseWN(kBtu)', 'SteamUse(kBtu)',\n",
    "    'Electricity(kBtu)',  'NaturalGas(kBtu)', 'GHGEmissionsIntensity', 'BuildingType'\n",
    "]\n",
    "\n",
    "c1 = [\n",
    "    'LargestPropertyUseTypeGFA', 'SecondLargestPropertyUseTypeGFA',\n",
    "    'SiteEUIWN(kBtu/sf)', 'SourceEUIWN(kBtu/sf)', 'SiteEnergyUseWN(kBtu)', 'SteamUse(kBtu)', \n",
    "    'BuildingType'\n",
    "]\n",
    "\n",
    "c2 = [\n",
    "    'LargestPropertyUseTypeGFA', 'SecondLargestPropertyUseTypeGFA',\n",
    "    'Electricity(kBtu)',  'NaturalGas(kBtu)', 'GHGEmissionsIntensity', \n",
    "    'BuildingType'\n",
    "]\n",
    "\n",
    "sns.pairplot(df[c1], hue= \"BuildingType\")"
   ]
  },
  {
   "cell_type": "markdown",
   "id": "8f4a3d1e",
   "metadata": {},
   "source": [
    "![](./img_1/60.png)  "
   ]
  },
  {
   "cell_type": "markdown",
   "id": "390eecbf",
   "metadata": {
    "id": "390eecbf"
   },
   "source": [
    "Residential & Heatlth are the two building type that produce the greatest total emmissions:"
   ]
  },
  {
   "cell_type": "code",
   "execution_count": null,
   "id": "e35bccbc",
   "metadata": {},
   "outputs": [],
   "source": [
    "px.pie(\n",
    "    df.groupby([\"PrimaryPropertyType\"]).agg({'TotalGHGEmissions': sum}).reset_index(),\n",
    "    values='TotalGHGEmissions',\n",
    "    names='PrimaryPropertyType',\n",
    "    title='TotalGHGEmissions by PrimaryPropertyType',\n",
    "    width=600,\n",
    "    height=450\n",
    ").show()"
   ]
  },
  {
   "cell_type": "markdown",
   "id": "5370553b",
   "metadata": {},
   "source": [
    "![](./img_1/61.png)"
   ]
  },
  {
   "cell_type": "code",
   "execution_count": 62,
   "id": "e22e4dcf",
   "metadata": {
    "colab": {
     "base_uri": "https://localhost:8080/",
     "height": 423
    },
    "executionInfo": {
     "elapsed": 25,
     "status": "ok",
     "timestamp": 1678284604083,
     "user": {
      "displayName": "jean rochefort",
      "userId": "04520792891621341900"
     },
     "user_tz": -60
    },
    "id": "e22e4dcf",
    "outputId": "19359c70-d0b3-4482-a87e-bec4db6b26ce"
   },
   "outputs": [
    {
     "data": {
      "text/html": [
       "<div>\n",
       "<style scoped>\n",
       "    .dataframe tbody tr th:only-of-type {\n",
       "        vertical-align: middle;\n",
       "    }\n",
       "\n",
       "    .dataframe tbody tr th {\n",
       "        vertical-align: top;\n",
       "    }\n",
       "\n",
       "    .dataframe thead th {\n",
       "        text-align: right;\n",
       "    }\n",
       "</style>\n",
       "<table border=\"1\" class=\"dataframe\">\n",
       "  <thead>\n",
       "    <tr style=\"text-align: right;\">\n",
       "      <th></th>\n",
       "      <th>PrimaryPropertyType</th>\n",
       "      <th>BuildingAge</th>\n",
       "      <th>GHGEmissionsIntensity</th>\n",
       "    </tr>\n",
       "  </thead>\n",
       "  <tbody>\n",
       "    <tr>\n",
       "      <th>0</th>\n",
       "      <td>commercial -</td>\n",
       "      <td>5</td>\n",
       "      <td>5.575000</td>\n",
       "    </tr>\n",
       "    <tr>\n",
       "      <th>1</th>\n",
       "      <td>commercial -</td>\n",
       "      <td>6</td>\n",
       "      <td>2.000000</td>\n",
       "    </tr>\n",
       "    <tr>\n",
       "      <th>2</th>\n",
       "      <td>commercial -</td>\n",
       "      <td>8</td>\n",
       "      <td>1.796667</td>\n",
       "    </tr>\n",
       "    <tr>\n",
       "      <th>3</th>\n",
       "      <td>commercial -</td>\n",
       "      <td>10</td>\n",
       "      <td>2.470000</td>\n",
       "    </tr>\n",
       "    <tr>\n",
       "      <th>4</th>\n",
       "      <td>commercial -</td>\n",
       "      <td>11</td>\n",
       "      <td>1.770000</td>\n",
       "    </tr>\n",
       "    <tr>\n",
       "      <th>...</th>\n",
       "      <td>...</td>\n",
       "      <td>...</td>\n",
       "      <td>...</td>\n",
       "    </tr>\n",
       "    <tr>\n",
       "      <th>824</th>\n",
       "      <td>service -</td>\n",
       "      <td>98</td>\n",
       "      <td>0.420000</td>\n",
       "    </tr>\n",
       "    <tr>\n",
       "      <th>825</th>\n",
       "      <td>service -</td>\n",
       "      <td>101</td>\n",
       "      <td>0.010000</td>\n",
       "    </tr>\n",
       "    <tr>\n",
       "      <th>826</th>\n",
       "      <td>service -</td>\n",
       "      <td>105</td>\n",
       "      <td>0.640000</td>\n",
       "    </tr>\n",
       "    <tr>\n",
       "      <th>827</th>\n",
       "      <td>service -</td>\n",
       "      <td>106</td>\n",
       "      <td>0.600000</td>\n",
       "    </tr>\n",
       "    <tr>\n",
       "      <th>828</th>\n",
       "      <td>service -</td>\n",
       "      <td>114</td>\n",
       "      <td>0.720000</td>\n",
       "    </tr>\n",
       "  </tbody>\n",
       "</table>\n",
       "<p>829 rows × 3 columns</p>\n",
       "</div>"
      ],
      "text/plain": [
       "    PrimaryPropertyType  BuildingAge  GHGEmissionsIntensity\n",
       "0          commercial -            5               5.575000\n",
       "1          commercial -            6               2.000000\n",
       "2          commercial -            8               1.796667\n",
       "3          commercial -           10               2.470000\n",
       "4          commercial -           11               1.770000\n",
       "..                  ...          ...                    ...\n",
       "824           service -           98               0.420000\n",
       "825           service -          101               0.010000\n",
       "826           service -          105               0.640000\n",
       "827           service -          106               0.600000\n",
       "828           service -          114               0.720000\n",
       "\n",
       "[829 rows x 3 columns]"
      ]
     },
     "execution_count": 62,
     "metadata": {},
     "output_type": "execute_result"
    }
   ],
   "source": [
    "df.groupby([\"PrimaryPropertyType\", \"BuildingAge\"]).agg({\"GHGEmissionsIntensity\": \"mean\"}).reset_index()"
   ]
  },
  {
   "cell_type": "markdown",
   "id": "4355c4b7",
   "metadata": {},
   "source": [
    "The boxplots below show the distributions of the green house gaz emissions Intensity by building types:"
   ]
  },
  {
   "cell_type": "code",
   "execution_count": null,
   "id": "d2f4f53a",
   "metadata": {},
   "outputs": [],
   "source": [
    "px.box(\n",
    "    df[df.GHGEmissionsIntensity < 10],\n",
    "    x=\"PrimaryPropertyType\",\n",
    "    y=\"GHGEmissionsIntensity\", \n",
    "    notched=True,\n",
    "    width=800,\n",
    "    height=450\n",
    ").show()"
   ]
  },
  {
   "cell_type": "markdown",
   "id": "93d5b2ca",
   "metadata": {},
   "source": [
    "![](./img_1/63.png)"
   ]
  },
  {
   "cell_type": "markdown",
   "id": "3e915747",
   "metadata": {},
   "source": [
    "The same thing can be achieved with the total emissions:"
   ]
  },
  {
   "cell_type": "code",
   "execution_count": null,
   "id": "e4743bc4",
   "metadata": {},
   "outputs": [],
   "source": [
    "px.box(\n",
    "    df[df.TotalGHGEmissions < 1000],\n",
    "    x=\"PrimaryPropertyType\",\n",
    "    y=\"TotalGHGEmissions\", \n",
    "#     color=\"smoker\",\n",
    "    notched=True,\n",
    "    width=800,\n",
    "    height=450\n",
    ").show()"
   ]
  },
  {
   "cell_type": "markdown",
   "id": "1a77e797",
   "metadata": {},
   "source": [
    "![](./img_1/64.png)"
   ]
  },
  {
   "cell_type": "markdown",
   "id": "3209f0d2",
   "metadata": {
    "id": "3209f0d2"
   },
   "source": [
    "### Evolution of emssions over years for each primary property type\n",
    "\n",
    "now let's look at the same variables but versus the building ages:"
   ]
  },
  {
   "cell_type": "code",
   "execution_count": null,
   "id": "56e5ddb7",
   "metadata": {},
   "outputs": [],
   "source": [
    "df_temp = df.groupby([\"PrimaryPropertyType\", \"BuildingAge\"]).agg({\"GHGEmissionsIntensity\": \"mean\"}).reset_index()\n",
    "\n",
    "# not really usefull\n",
    "# px.line(\n",
    "#     df_temp[df_temp.GHGEmissionsIntensity < 10].sort_values(by=\"BuildingAge\"),\n",
    "#     x=\"BuildingAge\", \n",
    "#     y=\"GHGEmissionsIntensity\", \n",
    "#     title='eeeeeeeeee',\n",
    "#     color='PrimaryPropertyType',\n",
    "#     width=800,\n",
    "#     height=500\n",
    "# ).show()\n",
    "\n",
    "px.histogram(\n",
    "    df_temp,\n",
    "    x=\"BuildingAge\", \n",
    "    y=\"GHGEmissionsIntensity\", \n",
    "    title='Evolution of emssions over years for each primary property type',\n",
    "    color='PrimaryPropertyType',\n",
    "    barmode='group', \n",
    "    nbins=10,\n",
    "    width=900,\n",
    "    height=600\n",
    ").show()"
   ]
  },
  {
   "cell_type": "markdown",
   "id": "0db3a94a",
   "metadata": {},
   "source": [
    "![](./img_1/65.png)"
   ]
  },
  {
   "cell_type": "markdown",
   "id": "b3d28549",
   "metadata": {},
   "source": [
    "A scatter plot is probably more informative:"
   ]
  },
  {
   "cell_type": "code",
   "execution_count": null,
   "id": "b3244b86",
   "metadata": {},
   "outputs": [],
   "source": [
    "df_temp = df.groupby([\"PrimaryPropertyType\", \"BuildingAge\", \"Neighborhood\"]) \\\n",
    "    .agg({\"GHGEmissionsIntensity\": \"mean\"}).reset_index()\n",
    "\n",
    "for col in df_temp.select_dtypes(\"number\").columns:\n",
    "    df_temp[col] = df_temp[col].abs()\n",
    "\n",
    "\n",
    "px.scatter(\n",
    "    df_temp,\n",
    "    x=\"BuildingAge\", \n",
    "    y='PrimaryPropertyType',\n",
    "    size=\"GHGEmissionsIntensity\",\n",
    "    color=\"Neighborhood\",\n",
    "    title='Evolution of emissions over years for each primary property type',\n",
    "    width=900,\n",
    "    height=600\n",
    ").show()"
   ]
  },
  {
   "cell_type": "markdown",
   "id": "d4bc74b6",
   "metadata": {},
   "source": [
    "![](./img_1/66.png)"
   ]
  },
  {
   "cell_type": "markdown",
   "id": "d94baa21",
   "metadata": {},
   "source": [
    "There are a few advantages to using the sunburst chart here: it's easier to see multiple layers of data."
   ]
  },
  {
   "cell_type": "code",
   "execution_count": null,
   "id": "3aa01541",
   "metadata": {},
   "outputs": [],
   "source": [
    "px.sunburst(\n",
    "    df,\n",
    "    path=['Neighborhood', 'PrimaryPropertyType'], #, 'time', 'sex'],\n",
    "    values='GHGEmissionsIntensity',\n",
    "    width=800,\n",
    "    height=500\n",
    ").show()"
   ]
  },
  {
   "cell_type": "markdown",
   "id": "bec9a418",
   "metadata": {},
   "source": [
    "![](./img_1/67.png)"
   ]
  },
  {
   "cell_type": "markdown",
   "id": "be7d3cc0",
   "metadata": {
    "id": "be7d3cc0"
   },
   "source": [
    "## Geographical analysis\n",
    "\n",
    "it is also interesting to have a geospacial overview of building's performances:"
   ]
  },
  {
   "cell_type": "code",
   "execution_count": null,
   "id": "39ae32a1",
   "metadata": {},
   "outputs": [],
   "source": [
    "px.scatter_mapbox(\n",
    "    df[df.TotalGHGEmissions > 0],\n",
    "    lat=\"Latitude\",\n",
    "    lon=\"Longitude\",\n",
    "    color=\"GHGEmissionsIntensity\",\n",
    "    size=\"TotalGHGEmissions\",\n",
    "    #color_continuous_scale=px.colors.cyclical.IceFire,\n",
    "    size_max=20,\n",
    "    zoom=11,\n",
    "    mapbox_style=\"carto-positron\",\n",
    "    width=900,\n",
    "    height=800\n",
    ").show()\n"
   ]
  },
  {
   "cell_type": "markdown",
   "id": "c1ea0c6f",
   "metadata": {},
   "source": [
    "![](./img_1/68.png)"
   ]
  },
  {
   "cell_type": "markdown",
   "id": "b74e1873",
   "metadata": {
    "id": "b74e1873"
   },
   "source": [
    "This dataset only includes large buildings (more than 20,000 square feet). That's why we don't have so much points on the map. Too bad, because all the small houses are not taken into account, and there are probably many of them. Furthermore, all those buildings not recorded can provide valuable informations regarding the GHG emissions and their energetic performances.\n",
    "\n",
    "This can also explain why we don't have so many lines..."
   ]
  },
  {
   "cell_type": "markdown",
   "id": "8743ad75",
   "metadata": {
    "id": "8743ad75"
   },
   "source": [
    "## Statistics\n",
    "\n",
    "A description of the numerical variable is helpfull for the modelling part. Here a the statistics:"
   ]
  },
  {
   "cell_type": "code",
   "execution_count": 69,
   "id": "68f04591",
   "metadata": {
    "colab": {
     "base_uri": "https://localhost:8080/",
     "height": 864
    },
    "executionInfo": {
     "elapsed": 25,
     "status": "ok",
     "timestamp": 1678284605027,
     "user": {
      "displayName": "jean rochefort",
      "userId": "04520792891621341900"
     },
     "user_tz": -60
    },
    "id": "68f04591",
    "outputId": "95652ada-5060-4f0d-e8af-a9951218c3e9"
   },
   "outputs": [
    {
     "data": {
      "text/html": [
       "<div>\n",
       "<style scoped>\n",
       "    .dataframe tbody tr th:only-of-type {\n",
       "        vertical-align: middle;\n",
       "    }\n",
       "\n",
       "    .dataframe tbody tr th {\n",
       "        vertical-align: top;\n",
       "    }\n",
       "\n",
       "    .dataframe thead th {\n",
       "        text-align: right;\n",
       "    }\n",
       "</style>\n",
       "<table border=\"1\" class=\"dataframe\">\n",
       "  <thead>\n",
       "    <tr style=\"text-align: right;\">\n",
       "      <th></th>\n",
       "      <th>count</th>\n",
       "      <th>mean</th>\n",
       "      <th>std</th>\n",
       "      <th>min</th>\n",
       "      <th>25%</th>\n",
       "      <th>50%</th>\n",
       "      <th>75%</th>\n",
       "      <th>max</th>\n",
       "    </tr>\n",
       "  </thead>\n",
       "  <tbody>\n",
       "    <tr>\n",
       "      <th>NumberofBuildings</th>\n",
       "      <td>3321.0</td>\n",
       "      <td>1.134</td>\n",
       "      <td>2.114000e+00</td>\n",
       "      <td>1.000</td>\n",
       "      <td>1.000</td>\n",
       "      <td>1.000</td>\n",
       "      <td>1.000</td>\n",
       "      <td>1.110000e+02</td>\n",
       "    </tr>\n",
       "    <tr>\n",
       "      <th>NumberofFloors</th>\n",
       "      <td>3321.0</td>\n",
       "      <td>4.713</td>\n",
       "      <td>5.518000e+00</td>\n",
       "      <td>0.000</td>\n",
       "      <td>2.000</td>\n",
       "      <td>4.000</td>\n",
       "      <td>5.000</td>\n",
       "      <td>9.900000e+01</td>\n",
       "    </tr>\n",
       "    <tr>\n",
       "      <th>PropertyGFATotal</th>\n",
       "      <td>3321.0</td>\n",
       "      <td>95106.763</td>\n",
       "      <td>2.193434e+05</td>\n",
       "      <td>11285.000</td>\n",
       "      <td>28500.000</td>\n",
       "      <td>44416.000</td>\n",
       "      <td>91520.000</td>\n",
       "      <td>9.320156e+06</td>\n",
       "    </tr>\n",
       "    <tr>\n",
       "      <th>PropertyGFAParking</th>\n",
       "      <td>3321.0</td>\n",
       "      <td>8077.605</td>\n",
       "      <td>3.254260e+04</td>\n",
       "      <td>0.000</td>\n",
       "      <td>0.000</td>\n",
       "      <td>0.000</td>\n",
       "      <td>0.000</td>\n",
       "      <td>5.126080e+05</td>\n",
       "    </tr>\n",
       "    <tr>\n",
       "      <th>PropertyGFABuilding(s)</th>\n",
       "      <td>3321.0</td>\n",
       "      <td>87029.159</td>\n",
       "      <td>2.082968e+05</td>\n",
       "      <td>3636.000</td>\n",
       "      <td>27788.000</td>\n",
       "      <td>43245.000</td>\n",
       "      <td>84739.000</td>\n",
       "      <td>9.320156e+06</td>\n",
       "    </tr>\n",
       "    <tr>\n",
       "      <th>LargestPropertyUseTypeGFA</th>\n",
       "      <td>3321.0</td>\n",
       "      <td>79188.141</td>\n",
       "      <td>2.019668e+05</td>\n",
       "      <td>5656.000</td>\n",
       "      <td>25144.000</td>\n",
       "      <td>39952.000</td>\n",
       "      <td>76624.000</td>\n",
       "      <td>9.320156e+06</td>\n",
       "    </tr>\n",
       "    <tr>\n",
       "      <th>SecondLargestPropertyUseTypeGFA</th>\n",
       "      <td>3321.0</td>\n",
       "      <td>14089.852</td>\n",
       "      <td>3.949074e+04</td>\n",
       "      <td>0.000</td>\n",
       "      <td>0.000</td>\n",
       "      <td>0.000</td>\n",
       "      <td>10664.000</td>\n",
       "      <td>6.399310e+05</td>\n",
       "    </tr>\n",
       "    <tr>\n",
       "      <th>ThirdLargestPropertyUseTypeGFA</th>\n",
       "      <td>3321.0</td>\n",
       "      <td>2095.372</td>\n",
       "      <td>1.320328e+04</td>\n",
       "      <td>0.000</td>\n",
       "      <td>0.000</td>\n",
       "      <td>0.000</td>\n",
       "      <td>0.000</td>\n",
       "      <td>4.597480e+05</td>\n",
       "    </tr>\n",
       "    <tr>\n",
       "      <th>ENERGYSTARScore</th>\n",
       "      <td>2502.0</td>\n",
       "      <td>67.871</td>\n",
       "      <td>2.668800e+01</td>\n",
       "      <td>1.000</td>\n",
       "      <td>53.000</td>\n",
       "      <td>75.000</td>\n",
       "      <td>90.000</td>\n",
       "      <td>1.000000e+02</td>\n",
       "    </tr>\n",
       "    <tr>\n",
       "      <th>SiteEUI(kBtu/sf)</th>\n",
       "      <td>3321.0</td>\n",
       "      <td>54.798</td>\n",
       "      <td>5.602500e+01</td>\n",
       "      <td>0.000</td>\n",
       "      <td>28.100</td>\n",
       "      <td>38.800</td>\n",
       "      <td>60.400</td>\n",
       "      <td>8.344000e+02</td>\n",
       "    </tr>\n",
       "    <tr>\n",
       "      <th>SiteEUIWN(kBtu/sf)</th>\n",
       "      <td>3321.0</td>\n",
       "      <td>57.137</td>\n",
       "      <td>5.690000e+01</td>\n",
       "      <td>0.000</td>\n",
       "      <td>29.500</td>\n",
       "      <td>41.000</td>\n",
       "      <td>64.300</td>\n",
       "      <td>8.344000e+02</td>\n",
       "    </tr>\n",
       "    <tr>\n",
       "      <th>SourceEUI(kBtu/sf)</th>\n",
       "      <td>3321.0</td>\n",
       "      <td>134.337</td>\n",
       "      <td>1.380080e+02</td>\n",
       "      <td>0.000</td>\n",
       "      <td>75.000</td>\n",
       "      <td>96.400</td>\n",
       "      <td>143.900</td>\n",
       "      <td>2.620000e+03</td>\n",
       "    </tr>\n",
       "    <tr>\n",
       "      <th>SourceEUIWN(kBtu/sf)</th>\n",
       "      <td>3321.0</td>\n",
       "      <td>137.931</td>\n",
       "      <td>1.377520e+02</td>\n",
       "      <td>0.000</td>\n",
       "      <td>78.800</td>\n",
       "      <td>101.400</td>\n",
       "      <td>148.400</td>\n",
       "      <td>2.620000e+03</td>\n",
       "    </tr>\n",
       "    <tr>\n",
       "      <th>SiteEnergyUse(kBtu)</th>\n",
       "      <td>3321.0</td>\n",
       "      <td>5431606.993</td>\n",
       "      <td>2.175318e+07</td>\n",
       "      <td>0.000</td>\n",
       "      <td>937054.188</td>\n",
       "      <td>1813285.250</td>\n",
       "      <td>4224872.500</td>\n",
       "      <td>8.739237e+08</td>\n",
       "    </tr>\n",
       "    <tr>\n",
       "      <th>SiteEnergyUseWN(kBtu)</th>\n",
       "      <td>3321.0</td>\n",
       "      <td>5301127.589</td>\n",
       "      <td>1.602919e+07</td>\n",
       "      <td>0.000</td>\n",
       "      <td>986820.375</td>\n",
       "      <td>1918665.750</td>\n",
       "      <td>4384625.500</td>\n",
       "      <td>4.716139e+08</td>\n",
       "    </tr>\n",
       "    <tr>\n",
       "      <th>SteamUse(kBtu)</th>\n",
       "      <td>3321.0</td>\n",
       "      <td>275778.318</td>\n",
       "      <td>3.936335e+06</td>\n",
       "      <td>0.000</td>\n",
       "      <td>0.000</td>\n",
       "      <td>0.000</td>\n",
       "      <td>0.000</td>\n",
       "      <td>1.349435e+08</td>\n",
       "    </tr>\n",
       "    <tr>\n",
       "      <th>Electricity(kWh)</th>\n",
       "      <td>3321.0</td>\n",
       "      <td>1090907.740</td>\n",
       "      <td>4.375907e+06</td>\n",
       "      <td>0.000</td>\n",
       "      <td>188867.203</td>\n",
       "      <td>346457.000</td>\n",
       "      <td>830667.688</td>\n",
       "      <td>1.925775e+08</td>\n",
       "    </tr>\n",
       "    <tr>\n",
       "      <th>Electricity(kBtu)</th>\n",
       "      <td>3321.0</td>\n",
       "      <td>3722177.215</td>\n",
       "      <td>1.493059e+07</td>\n",
       "      <td>0.000</td>\n",
       "      <td>644415.000</td>\n",
       "      <td>1182111.000</td>\n",
       "      <td>2834238.000</td>\n",
       "      <td>6.570744e+08</td>\n",
       "    </tr>\n",
       "    <tr>\n",
       "      <th>NaturalGas(therms)</th>\n",
       "      <td>3321.0</td>\n",
       "      <td>13769.383</td>\n",
       "      <td>6.752157e+04</td>\n",
       "      <td>0.000</td>\n",
       "      <td>0.000</td>\n",
       "      <td>3306.090</td>\n",
       "      <td>11938.537</td>\n",
       "      <td>2.979090e+06</td>\n",
       "    </tr>\n",
       "    <tr>\n",
       "      <th>NaturalGas(kBtu)</th>\n",
       "      <td>3321.0</td>\n",
       "      <td>1376938.345</td>\n",
       "      <td>6.752157e+06</td>\n",
       "      <td>0.000</td>\n",
       "      <td>0.000</td>\n",
       "      <td>330609.000</td>\n",
       "      <td>1193854.000</td>\n",
       "      <td>2.979090e+08</td>\n",
       "    </tr>\n",
       "    <tr>\n",
       "      <th>TotalGHGEmissions</th>\n",
       "      <td>3321.0</td>\n",
       "      <td>120.364</td>\n",
       "      <td>5.422450e+02</td>\n",
       "      <td>-0.800</td>\n",
       "      <td>9.670</td>\n",
       "      <td>34.150</td>\n",
       "      <td>94.020</td>\n",
       "      <td>1.687098e+04</td>\n",
       "    </tr>\n",
       "    <tr>\n",
       "      <th>GHGEmissionsIntensity</th>\n",
       "      <td>3321.0</td>\n",
       "      <td>1.178</td>\n",
       "      <td>1.816000e+00</td>\n",
       "      <td>-0.020</td>\n",
       "      <td>0.210</td>\n",
       "      <td>0.620</td>\n",
       "      <td>1.370</td>\n",
       "      <td>3.409000e+01</td>\n",
       "    </tr>\n",
       "    <tr>\n",
       "      <th>Latitude</th>\n",
       "      <td>3321.0</td>\n",
       "      <td>47.624</td>\n",
       "      <td>4.800000e-02</td>\n",
       "      <td>47.499</td>\n",
       "      <td>47.600</td>\n",
       "      <td>47.619</td>\n",
       "      <td>47.657</td>\n",
       "      <td>4.773400e+01</td>\n",
       "    </tr>\n",
       "    <tr>\n",
       "      <th>Longitude</th>\n",
       "      <td>3321.0</td>\n",
       "      <td>-122.335</td>\n",
       "      <td>2.700000e-02</td>\n",
       "      <td>-122.414</td>\n",
       "      <td>-122.350</td>\n",
       "      <td>-122.332</td>\n",
       "      <td>-122.319</td>\n",
       "      <td>-1.222210e+02</td>\n",
       "    </tr>\n",
       "    <tr>\n",
       "      <th>NbProperty</th>\n",
       "      <td>3321.0</td>\n",
       "      <td>1.796</td>\n",
       "      <td>1.086000e+00</td>\n",
       "      <td>1.000</td>\n",
       "      <td>1.000</td>\n",
       "      <td>1.000</td>\n",
       "      <td>2.000</td>\n",
       "      <td>1.100000e+01</td>\n",
       "    </tr>\n",
       "    <tr>\n",
       "      <th>BuildingAge</th>\n",
       "      <td>3321.0</td>\n",
       "      <td>47.280</td>\n",
       "      <td>3.302900e+01</td>\n",
       "      <td>1.000</td>\n",
       "      <td>19.000</td>\n",
       "      <td>41.000</td>\n",
       "      <td>68.000</td>\n",
       "      <td>1.160000e+02</td>\n",
       "    </tr>\n",
       "  </tbody>\n",
       "</table>\n",
       "</div>"
      ],
      "text/plain": [
       "                                  count         mean           std        min  \\\n",
       "NumberofBuildings                3321.0        1.134  2.114000e+00      1.000   \n",
       "NumberofFloors                   3321.0        4.713  5.518000e+00      0.000   \n",
       "PropertyGFATotal                 3321.0    95106.763  2.193434e+05  11285.000   \n",
       "PropertyGFAParking               3321.0     8077.605  3.254260e+04      0.000   \n",
       "PropertyGFABuilding(s)           3321.0    87029.159  2.082968e+05   3636.000   \n",
       "LargestPropertyUseTypeGFA        3321.0    79188.141  2.019668e+05   5656.000   \n",
       "SecondLargestPropertyUseTypeGFA  3321.0    14089.852  3.949074e+04      0.000   \n",
       "ThirdLargestPropertyUseTypeGFA   3321.0     2095.372  1.320328e+04      0.000   \n",
       "ENERGYSTARScore                  2502.0       67.871  2.668800e+01      1.000   \n",
       "SiteEUI(kBtu/sf)                 3321.0       54.798  5.602500e+01      0.000   \n",
       "SiteEUIWN(kBtu/sf)               3321.0       57.137  5.690000e+01      0.000   \n",
       "SourceEUI(kBtu/sf)               3321.0      134.337  1.380080e+02      0.000   \n",
       "SourceEUIWN(kBtu/sf)             3321.0      137.931  1.377520e+02      0.000   \n",
       "SiteEnergyUse(kBtu)              3321.0  5431606.993  2.175318e+07      0.000   \n",
       "SiteEnergyUseWN(kBtu)            3321.0  5301127.589  1.602919e+07      0.000   \n",
       "SteamUse(kBtu)                   3321.0   275778.318  3.936335e+06      0.000   \n",
       "Electricity(kWh)                 3321.0  1090907.740  4.375907e+06      0.000   \n",
       "Electricity(kBtu)                3321.0  3722177.215  1.493059e+07      0.000   \n",
       "NaturalGas(therms)               3321.0    13769.383  6.752157e+04      0.000   \n",
       "NaturalGas(kBtu)                 3321.0  1376938.345  6.752157e+06      0.000   \n",
       "TotalGHGEmissions                3321.0      120.364  5.422450e+02     -0.800   \n",
       "GHGEmissionsIntensity            3321.0        1.178  1.816000e+00     -0.020   \n",
       "Latitude                         3321.0       47.624  4.800000e-02     47.499   \n",
       "Longitude                        3321.0     -122.335  2.700000e-02   -122.414   \n",
       "NbProperty                       3321.0        1.796  1.086000e+00      1.000   \n",
       "BuildingAge                      3321.0       47.280  3.302900e+01      1.000   \n",
       "\n",
       "                                        25%          50%          75%  \\\n",
       "NumberofBuildings                     1.000        1.000        1.000   \n",
       "NumberofFloors                        2.000        4.000        5.000   \n",
       "PropertyGFATotal                  28500.000    44416.000    91520.000   \n",
       "PropertyGFAParking                    0.000        0.000        0.000   \n",
       "PropertyGFABuilding(s)            27788.000    43245.000    84739.000   \n",
       "LargestPropertyUseTypeGFA         25144.000    39952.000    76624.000   \n",
       "SecondLargestPropertyUseTypeGFA       0.000        0.000    10664.000   \n",
       "ThirdLargestPropertyUseTypeGFA        0.000        0.000        0.000   \n",
       "ENERGYSTARScore                      53.000       75.000       90.000   \n",
       "SiteEUI(kBtu/sf)                     28.100       38.800       60.400   \n",
       "SiteEUIWN(kBtu/sf)                   29.500       41.000       64.300   \n",
       "SourceEUI(kBtu/sf)                   75.000       96.400      143.900   \n",
       "SourceEUIWN(kBtu/sf)                 78.800      101.400      148.400   \n",
       "SiteEnergyUse(kBtu)              937054.188  1813285.250  4224872.500   \n",
       "SiteEnergyUseWN(kBtu)            986820.375  1918665.750  4384625.500   \n",
       "SteamUse(kBtu)                        0.000        0.000        0.000   \n",
       "Electricity(kWh)                 188867.203   346457.000   830667.688   \n",
       "Electricity(kBtu)                644415.000  1182111.000  2834238.000   \n",
       "NaturalGas(therms)                    0.000     3306.090    11938.537   \n",
       "NaturalGas(kBtu)                      0.000   330609.000  1193854.000   \n",
       "TotalGHGEmissions                     9.670       34.150       94.020   \n",
       "GHGEmissionsIntensity                 0.210        0.620        1.370   \n",
       "Latitude                             47.600       47.619       47.657   \n",
       "Longitude                          -122.350     -122.332     -122.319   \n",
       "NbProperty                            1.000        1.000        2.000   \n",
       "BuildingAge                          19.000       41.000       68.000   \n",
       "\n",
       "                                          max  \n",
       "NumberofBuildings                1.110000e+02  \n",
       "NumberofFloors                   9.900000e+01  \n",
       "PropertyGFATotal                 9.320156e+06  \n",
       "PropertyGFAParking               5.126080e+05  \n",
       "PropertyGFABuilding(s)           9.320156e+06  \n",
       "LargestPropertyUseTypeGFA        9.320156e+06  \n",
       "SecondLargestPropertyUseTypeGFA  6.399310e+05  \n",
       "ThirdLargestPropertyUseTypeGFA   4.597480e+05  \n",
       "ENERGYSTARScore                  1.000000e+02  \n",
       "SiteEUI(kBtu/sf)                 8.344000e+02  \n",
       "SiteEUIWN(kBtu/sf)               8.344000e+02  \n",
       "SourceEUI(kBtu/sf)               2.620000e+03  \n",
       "SourceEUIWN(kBtu/sf)             2.620000e+03  \n",
       "SiteEnergyUse(kBtu)              8.739237e+08  \n",
       "SiteEnergyUseWN(kBtu)            4.716139e+08  \n",
       "SteamUse(kBtu)                   1.349435e+08  \n",
       "Electricity(kWh)                 1.925775e+08  \n",
       "Electricity(kBtu)                6.570744e+08  \n",
       "NaturalGas(therms)               2.979090e+06  \n",
       "NaturalGas(kBtu)                 2.979090e+08  \n",
       "TotalGHGEmissions                1.687098e+04  \n",
       "GHGEmissionsIntensity            3.409000e+01  \n",
       "Latitude                         4.773400e+01  \n",
       "Longitude                       -1.222210e+02  \n",
       "NbProperty                       1.100000e+01  \n",
       "BuildingAge                      1.160000e+02  "
      ]
     },
     "execution_count": 69,
     "metadata": {},
     "output_type": "execute_result"
    }
   ],
   "source": [
    "df.describe().T.round(3)"
   ]
  },
  {
   "cell_type": "markdown",
   "id": "974f3fa0",
   "metadata": {},
   "source": [
    "The number of floors contains weird values such as 99. this is actually an error that we have to replace:"
   ]
  },
  {
   "cell_type": "code",
   "execution_count": 70,
   "id": "690c2866",
   "metadata": {
    "colab": {
     "base_uri": "https://localhost:8080/",
     "height": 81
    },
    "executionInfo": {
     "elapsed": 25,
     "status": "ok",
     "timestamp": 1678284605028,
     "user": {
      "displayName": "jean rochefort",
      "userId": "04520792891621341900"
     },
     "user_tz": -60
    },
    "id": "690c2866",
    "outputId": "0231677d-2d7d-40be-dbaf-d72eca7610b5"
   },
   "outputs": [
    {
     "data": {
      "text/html": [
       "<div>\n",
       "<style scoped>\n",
       "    .dataframe tbody tr th:only-of-type {\n",
       "        vertical-align: middle;\n",
       "    }\n",
       "\n",
       "    .dataframe tbody tr th {\n",
       "        vertical-align: top;\n",
       "    }\n",
       "\n",
       "    .dataframe thead th {\n",
       "        text-align: right;\n",
       "    }\n",
       "</style>\n",
       "<table border=\"1\" class=\"dataframe\">\n",
       "  <thead>\n",
       "    <tr style=\"text-align: right;\">\n",
       "      <th></th>\n",
       "      <th>count</th>\n",
       "      <th>mean</th>\n",
       "      <th>std</th>\n",
       "      <th>min</th>\n",
       "      <th>25%</th>\n",
       "      <th>50%</th>\n",
       "      <th>75%</th>\n",
       "      <th>max</th>\n",
       "    </tr>\n",
       "  </thead>\n",
       "  <tbody>\n",
       "    <tr>\n",
       "      <th>NumberofFloors</th>\n",
       "      <td>3321.0</td>\n",
       "      <td>4.713339</td>\n",
       "      <td>5.518291</td>\n",
       "      <td>0.0</td>\n",
       "      <td>2.0</td>\n",
       "      <td>4.0</td>\n",
       "      <td>5.0</td>\n",
       "      <td>99.0</td>\n",
       "    </tr>\n",
       "  </tbody>\n",
       "</table>\n",
       "</div>"
      ],
      "text/plain": [
       "                 count      mean       std  min  25%  50%  75%   max\n",
       "NumberofFloors  3321.0  4.713339  5.518291  0.0  2.0  4.0  5.0  99.0"
      ]
     },
     "execution_count": 70,
     "metadata": {},
     "output_type": "execute_result"
    }
   ],
   "source": [
    "df[['NumberofFloors']].describe().T"
   ]
  },
  {
   "cell_type": "code",
   "execution_count": 71,
   "id": "a4f1b5f5",
   "metadata": {
    "executionInfo": {
     "elapsed": 29,
     "status": "ok",
     "timestamp": 1678284605034,
     "user": {
      "displayName": "jean rochefort",
      "userId": "04520792891621341900"
     },
     "user_tz": -60
    },
    "id": "a4f1b5f5"
   },
   "outputs": [],
   "source": [
    "df.NumberofFloors.replace(99, 1, inplace=True)\n",
    "df.NumberofFloors.replace(0, df.NumberofFloors.median(), inplace=True)"
   ]
  },
  {
   "cell_type": "markdown",
   "id": "413c90b0",
   "metadata": {
    "id": "413c90b0"
   },
   "source": [
    "## Correlations\n",
    "\n",
    "Correlation explains how one or more variables are related to each other. These variables can be input data features which have been used to forecast our target variable.\n",
    "\n",
    "Correlation, statistical technique which determines how one variables moves/changes in relation with the other variable. It gives us the idea about the degree of the relationship of the two variables."
   ]
  },
  {
   "cell_type": "code",
   "execution_count": null,
   "id": "5a9f249c",
   "metadata": {},
   "outputs": [],
   "source": [
    "def plot_corr(df_):\n",
    "    corr = df_.corr()\n",
    "    #print(corr)\n",
    "\n",
    "    # Generate a mask for the upper triangle\n",
    "    mask = np.zeros_like(corr, dtype=np.bool_)\n",
    "    mask[np.triu_indices_from(mask)] = True\n",
    "\n",
    "    # Set up the matplotlib figure\n",
    "    f, ax = plt.subplots(figsize=(15, 27))\n",
    "\n",
    "    # Generate a custom diverging colormap\n",
    "    cmap = sns.diverging_palette(220, 10, as_cmap=True)\n",
    "\n",
    "    # Draw the heatmap with the mask and correct aspect ratio\n",
    "    sns.heatmap(corr.round(2), mask=mask, center=0, square=True, cmap='Spectral', linewidths=.5, cbar_kws={\"shrink\": .5}, annot=True);\n",
    "\n",
    "plot_corr(df.select_dtypes(\"number\"))"
   ]
  },
  {
   "cell_type": "markdown",
   "id": "68b88ca2",
   "metadata": {},
   "source": [
    "![](./img_1/72.png)  "
   ]
  },
  {
   "cell_type": "markdown",
   "id": "9f6fa57d",
   "metadata": {
    "id": "9f6fa57d"
   },
   "source": [
    "correlation including the categorical columns:"
   ]
  },
  {
   "cell_type": "code",
   "execution_count": null,
   "id": "295f0871",
   "metadata": {},
   "outputs": [],
   "source": [
    "corr = associations(\n",
    "    df.drop(columns=[\"ENERGYSTARScore\", \"Outlier\"]), \n",
    "    figsize=(18, 18), \n",
    "    fmt=\".1f\", \n",
    "    cmap=\"RdYlGn\", \n",
    "    title=\"All correlations\",\n",
    "    compute_only=True,\n",
    ")\n",
    "\n",
    "plt.figure(figsize=(18, 18))\n",
    "sns.heatmap(corr['corr'].astype(\"float\"), annot=True, fmt=\".1f\", cmap=\"crest\")"
   ]
  },
  {
   "cell_type": "markdown",
   "id": "280602ac",
   "metadata": {},
   "source": [
    "![](./img_1/75.png)"
   ]
  },
  {
   "cell_type": "markdown",
   "id": "034a7e53",
   "metadata": {},
   "source": [
    "![](./img_1/75.png)  "
   ]
  },
  {
   "cell_type": "markdown",
   "id": "a4e85d94",
   "metadata": {
    "id": "a4e85d94"
   },
   "source": [
    "---\n",
    "# Conclusions"
   ]
  },
  {
   "cell_type": "markdown",
   "id": "7f2428a4",
   "metadata": {
    "id": "7f2428a4"
   },
   "source": [
    "This is the end of this first part. Here is a quick recap of what we have seen so far:\n",
    "- We've seen how the features / variables have changed over the years in order to concatenate all the datasets together.\n",
    "- Once merged, we were able to analyze several characteristics of Seattle buildings over the last years.\n",
    "- We have also imputed unknown values\n",
    "- Few outliers were dropped, but at the time by using the IQR method we would have dropped too many records.\n",
    "- The geospatial analysis told us that the dataset doesn't include all the buildings. Finally, few thousands of rows is not enough for prediction. We'll see in the 2nd part how it could affect our models.\n",
    "\n",
    "Before the second part of this study - that will be more focus on the modelization - we save our clean dataset in csv. There is not so many records so we don't need to use an other file format such as parquet to decrease the loading time."
   ]
  },
  {
   "cell_type": "code",
   "execution_count": 74,
   "id": "41fe52ec",
   "metadata": {
    "id": "41fe52ec"
   },
   "outputs": [],
   "source": [
    "df.to_csv(f\"{DATA_OUTPUT_DIR}2016_clean_dataset.csv\", index=True, sep=\";\")"
   ]
  }
 ],
 "metadata": {
  "colab": {
   "provenance": []
  },
  "kernelspec": {
   "display_name": "Python 3 (ipykernel)",
   "language": "python",
   "name": "python3"
  },
  "language_info": {
   "codemirror_mode": {
    "name": "ipython",
    "version": 3
   },
   "file_extension": ".py",
   "mimetype": "text/x-python",
   "name": "python",
   "nbconvert_exporter": "python",
   "pygments_lexer": "ipython3",
   "version": "3.9.15"
  }
 },
 "nbformat": 4,
 "nbformat_minor": 5
}
